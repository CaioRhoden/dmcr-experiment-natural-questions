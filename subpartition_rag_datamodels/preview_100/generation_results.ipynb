{
 "cells": [
  {
   "cell_type": "markdown",
   "id": "33995338",
   "metadata": {},
   "source": [
    "# Geberation Results\n",
    "\n",
    "The goal of this notebook is to compare the text generations when using the traditional RAG and when usign the re-ranking with datamodels\n"
   ]
  },
  {
   "cell_type": "code",
   "execution_count": null,
   "id": "04d0f572",
   "metadata": {
    "vscode": {
     "languageId": "plaintext"
    }
   },
   "outputs": [],
   "source": []
  }
 ],
 "metadata": {
  "language_info": {
   "name": "python"
  }
 },
 "nbformat": 4,
 "nbformat_minor": 5
}

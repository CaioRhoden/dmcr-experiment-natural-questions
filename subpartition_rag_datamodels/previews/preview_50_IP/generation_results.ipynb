{
 "cells": [
  {
   "cell_type": "markdown",
   "id": "33995338",
   "metadata": {},
   "source": [
    "# Results Analysis\n",
    "\n",
    "The goal of this notebook is to compare the text generations when using the traditional RAG and when usign the re-ranking with datamodels\n"
   ]
  },
  {
   "cell_type": "code",
   "execution_count": 1,
   "id": "04d0f572",
   "metadata": {},
   "outputs": [
    {
     "name": "stderr",
     "output_type": "stream",
     "text": [
      "/home/caio.rhoden/miniconda3/envs/nq/lib/python3.11/site-packages/tqdm/auto.py:21: TqdmWarning: IProgress not found. Please update jupyter and ipywidgets. See https://ipywidgets.readthedocs.io/en/stable/user_install.html\n",
      "  from .autonotebook import tqdm as notebook_tqdm\n"
     ]
    },
    {
     "name": "stdout",
     "output_type": "stream",
     "text": [
      "Number of GPUs available: 1\n",
      "GPU 0: NVIDIA RTX A5000\n"
     ]
    }
   ],
   "source": [
    "import os\n",
    "import random\n",
    "import numpy as np\n",
    "import torch\n",
    "\n",
    "import json\n",
    "import polars as pl\n",
    "import seaborn as sns\n",
    "import matplotlib.pyplot as plt\n",
    "import numpy as np\n",
    "from dmcr.evaluators.Rouge_L_evaluator import Rouge_L_evaluator\n",
    "\n",
    "os.environ[\"CUDA_VISIBLE_DEVICES\"] = \"1\"\n",
    "seed = 42\n",
    "\n",
    "torch.backends.cudnn.enabled = False\n",
    "# NumPy\n",
    "np.random.seed(seed)\n",
    "random.seed(seed)\n",
    "# PyTorch\n",
    "torch.manual_seed(seed)\n",
    "if torch.cuda.is_available():\n",
    "    torch.cuda.manual_seed(seed)\n",
    "    torch.cuda.manual_seed_all(seed)\n",
    "    torch.backends.cudnn.deterministic = True\n",
    "    torch.backends.cudnn.benchmark = False\n",
    "\n",
    "\n",
    "\n",
    "if torch.cuda.is_available():\n",
    "    print(f\"Number of GPUs available: {torch.cuda.device_count()}\")\n",
    "    for i in range(torch.cuda.device_count()):\n",
    "        print(f\"GPU {i}: {torch.cuda.get_device_name(i)}\")\n",
    "\n",
    "device = torch.device(\"cuda:0\" if torch.cuda.is_available() else \"cpu\")"
   ]
  },
  {
   "cell_type": "markdown",
   "id": "8a198788",
   "metadata": {},
   "source": [
    "## Load Data"
   ]
  },
  {
   "cell_type": "code",
   "execution_count": 3,
   "id": "09c36eef",
   "metadata": {},
   "outputs": [],
   "source": [
    "GENERATIONS_PATH = \"generations\"\n",
    "rag_generations = json.load(open(f\"{GENERATIONS_PATH}/rag_generations.json\"))\n",
    "datamodels_generations = json.load(open(f\"{GENERATIONS_PATH}/datamodels_generations.json\"))"
   ]
  },
  {
   "cell_type": "code",
   "execution_count": 4,
   "id": "4ccb888b",
   "metadata": {},
   "outputs": [],
   "source": [
    "questions = pl.read_ipc(\"../50_test.feather\")"
   ]
  },
  {
   "cell_type": "code",
   "execution_count": 6,
   "id": "d1508041",
   "metadata": {},
   "outputs": [
    {
     "name": "stderr",
     "output_type": "stream",
     "text": [
      "/tmp/ipykernel_3360171/2419542135.py:1: FutureWarning: You are using `torch.load` with `weights_only=False` (the current default value), which uses the default pickle module implicitly. It is possible to construct malicious pickle data which will execute arbitrary code during unpickling (See https://github.com/pytorch/pytorch/blob/main/SECURITY.md#untrusted-models for more details). In a future release, the default value for `weights_only` will be flipped to `True`. This limits the functions that could be executed during unpickling. Arbitrary objects will no longer be allowed to be loaded via this mode unless they are explicitly allowlisted by the user via `torch.serialization.add_safe_globals`. We recommend you start setting `weights_only=True` for any use case where you don't have full control of the loaded file. Please open an issue on GitHub for any issues related to this experimental feature.\n",
      "  weights = torch.load(\"datamodels/models/preview_50_IP/weights.pt\")\n"
     ]
    }
   ],
   "source": [
    "weights = torch.load(\"datamodels/models/preview_50_IP/weights.pt\")\n",
    "evaluation = pl.read_ipc(\"datamodels/evaluations/evaluation_preview_50_IP.feather\")"
   ]
  },
  {
   "cell_type": "markdown",
   "id": "847eb25b",
   "metadata": {},
   "source": [
    "## Evaluatiosn Histogram"
   ]
  },
  {
   "cell_type": "code",
   "execution_count": 11,
   "id": "e8a2db6b",
   "metadata": {},
   "outputs": [
    {
     "data": {
      "text/html": [
       "<div><style>\n",
       ".dataframe > thead > tr,\n",
       ".dataframe > tbody > tr {\n",
       "  text-align: right;\n",
       "  white-space: pre-wrap;\n",
       "}\n",
       "</style>\n",
       "<small>shape: (1, 1)</small><table border=\"1\" class=\"dataframe\"><thead><tr><th>mse</th></tr><tr><td>f64</td></tr></thead><tbody><tr><td>0.00027</td></tr></tbody></table></div>"
      ],
      "text/plain": [
       "shape: (1, 1)\n",
       "┌─────────┐\n",
       "│ mse     │\n",
       "│ ---     │\n",
       "│ f64     │\n",
       "╞═════════╡\n",
       "│ 0.00027 │\n",
       "└─────────┘"
      ]
     },
     "execution_count": 11,
     "metadata": {},
     "output_type": "execute_result"
    }
   ],
   "source": [
    "evaluation.select(\"mse\").mean()"
   ]
  },
  {
   "cell_type": "code",
   "execution_count": 9,
   "id": "75090eae",
   "metadata": {},
   "outputs": [
    {
     "data": {
      "text/plain": [
       "<Axes: xlabel='mse', ylabel='Count'>"
      ]
     },
     "execution_count": 9,
     "metadata": {},
     "output_type": "execute_result"
    },
    {
     "data": {
      "image/png": "[encoded data removed]",
      "text/plain": [
       "<Figure size 640x480 with 1 Axes>"
      ]
     },
     "metadata": {},
     "output_type": "display_data"
    }
   ],
   "source": [
    "sns.histplot(\n",
    "    data=evaluation,\n",
    "    x=\"mse\",\n",
    "    kde=True,\n",
    "    color=\"orange\"\n",
    ")"
   ]
  },
  {
   "cell_type": "markdown",
   "id": "49f98dcb",
   "metadata": {},
   "source": [
    "## Generations Comparison"
   ]
  },
  {
   "cell_type": "code",
   "execution_count": null,
   "id": "fd152cc6",
   "metadata": {},
   "outputs": [
    {
     "name": "stdout",
     "output_type": "stream",
     "text": [
      "Question 0\n"
     ]
    }
   ],
   "source": [
    "results = {\n",
    "    \"idx\": [],\n",
    "    \"mean_metric_rag\": [],\n",
    "    \"mean_metric_datamodels\": [],\n",
    "}\n",
    "evaluator = Rouge_L_evaluator()\n",
    "\n",
    "\n",
    "for i in range(len(rag_generations)):\n",
    "    print(f\"Question {i}\")\n",
    "    rag_i_results = []\n",
    "    datamodels_i_results = []\n",
    "    results[\"idx\"].append(i)\n",
    "    for j in range(len(rag_generations[str(i)])):\n",
    "\n",
    "        max_rag = 0\n",
    "        max_datamodels = 0\n",
    "        \n",
    "        for res in  questions[i][\"answers\"].to_numpy().flatten()[0]:\n",
    "\n",
    "            metric_rag = evaluator.evaluate(np.array([res]), np.array([str(rag_generations[str(i)][j])]))\n",
    "            metric_datamodels = evaluator.evaluate(np.array([res]), np.array([str(datamodels_generations[str(i)][j])]))\n",
    "            \n",
    "            max_rag = max(max_rag, metric_rag[0])\n",
    "            max_datamodels = max(max_datamodels, metric_datamodels[0])\n",
    "\n",
    "        rag_i_results.append(max_rag)\n",
    "        datamodels_i_results.append(max_datamodels)\n",
    "\n",
    "    results[\"mean_metric_rag\"].append(np.mean(rag_i_results))\n",
    "    results[\"mean_metric_datamodels\"].append(np.mean(datamodels_i_results))\n",
    "    df_results = pl.DataFrame(results)\n",
    "    df_results.write_ipc(\"results.feather\")\n",
    "\n",
    "df_results = pl.DataFrame(results)"
   ]
  },
  {
   "cell_type": "code",
   "execution_count": 8,
   "id": "7c5b1a50",
   "metadata": {},
   "outputs": [
    {
     "data": {
      "text/plain": [
       "'According to the Death Penalty Information Center, there are'"
      ]
     },
     "execution_count": 8,
     "metadata": {},
     "output_type": "execute_result"
    }
   ],
   "source": [
    "rag_generations[str(i)][j]"
   ]
  },
  {
   "cell_type": "code",
   "execution_count": 9,
   "id": "3cf4a4d3",
   "metadata": {},
   "outputs": [
    {
     "data": {
      "text/plain": [
       "array(['2,718'], dtype='<U5')"
      ]
     },
     "execution_count": 9,
     "metadata": {},
     "output_type": "execute_result"
    }
   ],
   "source": [
    "np.array([res])"
   ]
  },
  {
   "cell_type": "code",
   "execution_count": null,
   "id": "672b298b",
   "metadata": {},
   "outputs": [],
   "source": []
  }
 ],
 "metadata": {
  "kernelspec": {
   "display_name": "nq",
   "language": "python",
   "name": "python3"
  },
  "language_info": {
   "codemirror_mode": {
    "name": "ipython",
    "version": 3
   },
   "file_extension": ".py",
   "mimetype": "text/x-python",
   "name": "python",
   "nbconvert_exporter": "python",
   "pygments_lexer": "ipython3",
   "version": "3.11.11"
  }
 },
 "nbformat": 4,
 "nbformat_minor": 5
}

{
 "cells": [
  {
   "cell_type": "markdown",
   "id": "33995338",
   "metadata": {},
   "source": [
    "# Geberation Results\n",
    "\n",
    "The goal of this notebook is to compare the text generations when using the traditional RAG and when usign the re-ranking with datamodels\n"
   ]
  },
  {
   "cell_type": "code",
   "execution_count": 11,
   "id": "04d0f572",
   "metadata": {},
   "outputs": [],
   "source": [
    "import torch\n",
    "import json\n",
    "import polars as pl\n",
    "import seaborn as sns\n",
    "import matplotlib.pyplot as plt\n",
    "import numpy as np\n",
    "from dmcr.evaluators.Rouge_L_evaluator import Rouge_L_evaluator"
   ]
  },
  {
   "cell_type": "markdown",
   "id": "8a198788",
   "metadata": {},
   "source": [
    "## Load Data"
   ]
  },
  {
   "cell_type": "code",
   "execution_count": 28,
   "id": "09c36eef",
   "metadata": {},
   "outputs": [],
   "source": [
    "GENERATIONS_PATH = \"generations\"\n",
    "rag_generations = json.load(open(f\"{GENERATIONS_PATH}/generations.json\"))\n",
    "datamodels_generations = json.load(open(f\"{GENERATIONS_PATH}/datamodels_generations.json\"))"
   ]
  },
  {
   "cell_type": "code",
   "execution_count": 3,
   "id": "4ccb888b",
   "metadata": {},
   "outputs": [],
   "source": [
    "questions = pl.read_ipc(\"questions.feather\")"
   ]
  },
  {
   "cell_type": "code",
   "execution_count": 33,
   "id": "18c94032",
   "metadata": {},
   "outputs": [
    {
     "data": {
      "text/html": [
       "<div><style>\n",
       ".dataframe > thead > tr,\n",
       ".dataframe > tbody > tr {\n",
       "  text-align: right;\n",
       "  white-space: pre-wrap;\n",
       "}\n",
       "</style>\n",
       "<small>shape: (10, 5)</small><table border=\"1\" class=\"dataframe\"><thead><tr><th>example_id</th><th>question</th><th>answers</th><th>text</th><th>idx_gold_in_corpus</th></tr><tr><td>i64</td><td>str</td><td>list[str]</td><td>str</td><td>i64</td></tr></thead><tbody><tr><td>2760865417584086994</td><td>&quot;do veins carry blood to the he…</td><td>[&quot;to&quot;]</td><td>&quot;Veins are blood vessels that c…</td><td>20970740</td></tr><tr><td>-3805339726851223343</td><td>&quot;who played charlie bucket in t…</td><td>[&quot;Peter Gardner Ostrum&quot;]</td><td>&quot;Peter Gardner Ostrum ( / ˈoʊst…</td><td>20970741</td></tr><tr><td>-245123639209390252</td><td>&quot;what is 1 radian in terms of p…</td><td>[&quot;1 / 2π&quot;]</td><td>&quot;Conversion of common angles Tu…</td><td>20970742</td></tr><tr><td>2126085010748850659</td><td>&quot;when does season 5 of bates mo…</td><td>[&quot;February 20 , 2017&quot;]</td><td>&quot;The fifth and final season of …</td><td>20970743</td></tr><tr><td>-7375519584806382465</td><td>&quot;how many episodes are in serie…</td><td>[&quot;seven&quot;]</td><td>&quot;The seventh season of the fant…</td><td>20970744</td></tr><tr><td>-8791189758516265195</td><td>&quot;who is next in line to be the …</td><td>[&quot;Charles , Prince of Wales&quot;]</td><td>&quot;Queen Elizabeth II is the sove…</td><td>20970745</td></tr><tr><td>3564169539206178376</td><td>&quot;who is in charge of enforcing …</td><td>[&quot;United States Civil Service Commission&quot;]</td><td>&quot;The Pendleton Civil Service Re…</td><td>20970746</td></tr><tr><td>-3481854117164495809</td><td>&quot;what is the name of latest ver…</td><td>[&quot;Oreo&quot;]</td><td>&quot;Code name Version number Initi…</td><td>20970747</td></tr><tr><td>-4144729966148354479</td><td>&quot;why was there so much interest…</td><td>[&quot;sugar markets&quot;]</td><td>&quot;After the American Civil War a…</td><td>20970748</td></tr><tr><td>-6852383066797541399</td><td>&quot;when did veterans day start be…</td><td>[&quot;June 1 , 1954&quot;]</td><td>&quot;Congress amended the bill on J…</td><td>20970749</td></tr></tbody></table></div>"
      ],
      "text/plain": [
       "shape: (10, 5)\n",
       "┌───────────────────┬───────────────────┬───────────────────┬───────────────────┬──────────────────┐\n",
       "│ example_id        ┆ question          ┆ answers           ┆ text              ┆ idx_gold_in_corp │\n",
       "│ ---               ┆ ---               ┆ ---               ┆ ---               ┆ us               │\n",
       "│ i64               ┆ str               ┆ list[str]         ┆ str               ┆ ---              │\n",
       "│                   ┆                   ┆                   ┆                   ┆ i64              │\n",
       "╞═══════════════════╪═══════════════════╪═══════════════════╪═══════════════════╪══════════════════╡\n",
       "│ 27608654175840869 ┆ do veins carry    ┆ [\"to\"]            ┆ Veins are blood   ┆ 20970740         │\n",
       "│ 94                ┆ blood to the he…  ┆                   ┆ vessels that c…   ┆                  │\n",
       "│ -3805339726851223 ┆ who played        ┆ [\"Peter Gardner   ┆ Peter Gardner     ┆ 20970741         │\n",
       "│ 343               ┆ charlie bucket in ┆ Ostrum\"]          ┆ Ostrum ( / ˈoʊst… ┆                  │\n",
       "│                   ┆ t…                ┆                   ┆                   ┆                  │\n",
       "│ -2451236392093902 ┆ what is 1 radian  ┆ [\"1 / 2π\"]        ┆ Conversion of     ┆ 20970742         │\n",
       "│ 52                ┆ in terms of p…    ┆                   ┆ common angles Tu… ┆                  │\n",
       "│ 21260850107488506 ┆ when does season  ┆ [\"February 20 ,   ┆ The fifth and     ┆ 20970743         │\n",
       "│ 59                ┆ 5 of bates mo…    ┆ 2017\"]            ┆ final season of … ┆                  │\n",
       "│ -7375519584806382 ┆ how many episodes ┆ [\"seven\"]         ┆ The seventh       ┆ 20970744         │\n",
       "│ 465               ┆ are in serie…     ┆                   ┆ season of the     ┆                  │\n",
       "│                   ┆                   ┆                   ┆ fant…             ┆                  │\n",
       "│ -8791189758516265 ┆ who is next in    ┆ [\"Charles ,       ┆ Queen Elizabeth   ┆ 20970745         │\n",
       "│ 195               ┆ line to be the …  ┆ Prince of Wales\"] ┆ II is the sove…   ┆                  │\n",
       "│ 35641695392061783 ┆ who is in charge  ┆ [\"United States   ┆ The Pendleton     ┆ 20970746         │\n",
       "│ 76                ┆ of enforcing …    ┆ Civil Service …   ┆ Civil Service Re… ┆                  │\n",
       "│ -3481854117164495 ┆ what is the name  ┆ [\"Oreo\"]          ┆ Code name Version ┆ 20970747         │\n",
       "│ 809               ┆ of latest ver…    ┆                   ┆ number Initi…     ┆                  │\n",
       "│ -4144729966148354 ┆ why was there so  ┆ [\"sugar markets\"] ┆ After the         ┆ 20970748         │\n",
       "│ 479               ┆ much interest…    ┆                   ┆ American Civil    ┆                  │\n",
       "│                   ┆                   ┆                   ┆ War a…            ┆                  │\n",
       "│ -6852383066797541 ┆ when did veterans ┆ [\"June 1 , 1954\"] ┆ Congress amended  ┆ 20970749         │\n",
       "│ 399               ┆ day start be…     ┆                   ┆ the bill on J…    ┆                  │\n",
       "└───────────────────┴───────────────────┴───────────────────┴───────────────────┴──────────────────┘"
      ]
     },
     "execution_count": 33,
     "metadata": {},
     "output_type": "execute_result"
    }
   ],
   "source": [
    "questions[5:15]"
   ]
  },
  {
   "cell_type": "code",
   "execution_count": 34,
   "id": "fd152cc6",
   "metadata": {},
   "outputs": [],
   "source": [
    "results = {\n",
    "    \"idx\": [],\n",
    "    \"mean_metric_rag\": [],\n",
    "    \"mean_metric_datamodels\": [],\n",
    "}\n",
    "evaluator = Rouge_L_evaluator()\n",
    "\n",
    "\n",
    "for i in range(len(rag_generations)):\n",
    "    rag_i_results = []\n",
    "    datamodels_i_results = []\n",
    "    results[\"idx\"].append(i)\n",
    "    for j in range(len(rag_generations[str(i)])):\n",
    "\n",
    "        max_rag = 0\n",
    "        max_datamodels = 0\n",
    "        \n",
    "        for res in  questions[i][\"answers\"].to_numpy().flatten()[0]:\n",
    "\n",
    "            metric_rag = evaluator.evaluate(np.array([res]), np.array([str(rag_generations[str(i)][j])]))\n",
    "            metric_datamodels = evaluator.evaluate(np.array([res]), np.array([str(datamodels_generations[str(i)][j])]))\n",
    "            \n",
    "            max_rag = max(max_rag, metric_rag[0])\n",
    "            max_datamodels = max(max_datamodels, metric_datamodels[0])\n",
    "\n",
    "        rag_i_results.append(max_rag)\n",
    "        datamodels_i_results.append(max_datamodels)\n",
    "\n",
    "    results[\"mean_metric_rag\"].append(np.mean(rag_i_results))\n",
    "    results[\"mean_metric_datamodels\"].append(np.mean(datamodels_i_results))\n",
    "    df_results = pl.DataFrame(results)\n",
    "    df_results.write_ipc(\"results.feather\")\n",
    "\n",
    "df_results = pl.DataFrame(results)"
   ]
  },
  {
   "cell_type": "code",
   "execution_count": 8,
   "id": "7c5b1a50",
   "metadata": {},
   "outputs": [
    {
     "data": {
      "text/plain": [
       "'According to the Death Penalty Information Center, there are'"
      ]
     },
     "execution_count": 8,
     "metadata": {},
     "output_type": "execute_result"
    }
   ],
   "source": [
    "rag_generations[str(i)][j]"
   ]
  },
  {
   "cell_type": "code",
   "execution_count": 9,
   "id": "3cf4a4d3",
   "metadata": {},
   "outputs": [
    {
     "data": {
      "text/plain": [
       "array(['2,718'], dtype='<U5')"
      ]
     },
     "execution_count": 9,
     "metadata": {},
     "output_type": "execute_result"
    }
   ],
   "source": [
    "np.array([res])"
   ]
  },
  {
   "cell_type": "code",
   "execution_count": 39,
   "id": "672b298b",
   "metadata": {},
   "outputs": [],
   "source": [
    "results = pl.read_ipc(\"results.feather\")\n",
    "rag_metric = results[\"mean_metric_rag\"].to_numpy().flatten()\n",
    "datamodels_metric = results[\"mean_metric_datamodels\"].to_numpy().flatten()"
   ]
  },
  {
   "cell_type": "code",
   "execution_count": 43,
   "id": "d53a6360",
   "metadata": {},
   "outputs": [
    {
     "name": "stdout",
     "output_type": "stream",
     "text": [
      "0.05067113997113996 0.05640779220779221\n"
     ]
    }
   ],
   "source": [
    "print(np.mean(rag_metric), np.mean(datamodels_metric))"
   ]
  }
 ],
 "metadata": {
  "kernelspec": {
   "display_name": "nq",
   "language": "python",
   "name": "python3"
  },
  "language_info": {
   "codemirror_mode": {
    "name": "ipython",
    "version": 3
   },
   "file_extension": ".py",
   "mimetype": "text/x-python",
   "name": "python",
   "nbconvert_exporter": "python",
   "pygments_lexer": "ipython3",
   "version": "3.11.11"
  }
 },
 "nbformat": 4,
 "nbformat_minor": 5
}

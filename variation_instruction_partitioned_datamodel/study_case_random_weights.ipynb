{
 "cells": [
  {
   "cell_type": "code",
   "execution_count": 1,
   "id": "66704162",
   "metadata": {},
   "outputs": [],
   "source": [
    "import polars as pl\n",
    "import torch\n",
    "import seaborn as sns\n",
    "import matplotlib.pyplot as plt"
   ]
  },
  {
   "cell_type": "code",
   "execution_count": 2,
   "id": "b27648a6",
   "metadata": {},
   "outputs": [],
   "source": [
    "### Train samples\n",
    "train_sets = []\n",
    "for i in range(5):\n",
    "    train_sets.append(pl.read_csv(f\"question_{i}_datamodels/train_set.csv\").with_columns(pl.lit(f\"question_{i}\").alias(\"question_id\")))\n",
    "train = pl.concat(train_sets)"
   ]
  },
  {
   "cell_type": "code",
   "execution_count": 3,
   "id": "9618c44c",
   "metadata": {},
   "outputs": [
    {
     "name": "stderr",
     "output_type": "stream",
     "text": [
      "/tmp/ipykernel_308240/3848620530.py:4: FutureWarning: You are using `torch.load` with `weights_only=False` (the current default value), which uses the default pickle module implicitly. It is possible to construct malicious pickle data which will execute arbitrary code during unpickling (See https://github.com/pytorch/pytorch/blob/main/SECURITY.md#untrusted-models for more details). In a future release, the default value for `weights_only` will be flipped to `True`. This limits the functions that could be executed during unpickling. Arbitrary objects will no longer be allowed to be loaded via this mode unless they are explicitly allowlisted by the user via `torch.serialization.add_safe_globals`. We recommend you start setting `weights_only=True` for any use case where you don't have full control of the loaded file. Please open an issue on GitHub for any issues related to this experimental feature.\n",
      "  weights = torch.load(f\"question_{i}_datamodels/models/regression_question_{i}/weights.pt\").to(\"cpu\")\n"
     ]
    }
   ],
   "source": [
    "### Load weights\n",
    "weights_set = []\n",
    "for i in range(5):\n",
    "    weights = torch.load(f\"question_{i}_datamodels/models/regression_question_{i}/weights.pt\").to(\"cpu\")\n",
    "    weights_set.append(weights)"
   ]
  },
  {
   "cell_type": "code",
   "execution_count": 4,
   "id": "336b459f",
   "metadata": {},
   "outputs": [],
   "source": [
    "\n",
    "## add weights to sample training\n",
    "list_weights = []\n",
    "for set in weights_set:\n",
    "    for _w in set[0]:\n",
    "        list_weights.append(float(_w.item()))\n",
    "\n",
    "\n",
    "train = train.with_columns(\n",
    "    pl.Series(\"weights\", list_weights),\n",
    "    pl.when(pl.col(\"idx_right\").is_not_null())\n",
    "        .then(True)\n",
    "        .otherwise(False)\n",
    "        .alias(\"is_from_same_page\")\n",
    ")"
   ]
  },
  {
   "cell_type": "code",
   "execution_count": 5,
   "id": "5d87087a",
   "metadata": {},
   "outputs": [
    {
     "data": {
      "text/plain": [
       "array([['when did the who perform at the super bowl'],\n",
       "       ['why was there so much interest in cuba both before and after the civil war'],\n",
       "       ['who developed the first periodic table with 8 columns'],\n",
       "       ['the organization of the formal elements in an art work'],\n",
       "       ['where did the french king live before versailles']], dtype=object)"
      ]
     },
     "execution_count": 5,
     "metadata": {},
     "output_type": "execute_result"
    }
   ],
   "source": [
    "questions = []\n",
    "for i in range(5):\n",
    "    questions.append(pl.read_csv(f\"question_{i}_datamodels/test_set.csv\"))\n",
    "\n",
    "questions = pl.concat(questions)\n",
    "questions.select(\"question\").to_numpy()"
   ]
  },
  {
   "cell_type": "code",
   "execution_count": 6,
   "id": "64c2f6c7",
   "metadata": {},
   "outputs": [],
   "source": [
    "## Training collections\n",
    "collections_training_set = []\n",
    "for i in range(5):\n",
    "    collection_i = pl.read_ipc(f\"question_{i}_datamodels/collections/train/collection_question_{i}.feather\").with_columns(pl.lit(f\"question_{i}\").alias(\"question_id\"))\n",
    "    collections_training_set.append(collection_i)\n"
   ]
  },
  {
   "cell_type": "markdown",
   "id": "e8d1865d",
   "metadata": {},
   "source": [
    "## Question 2"
   ]
  },
  {
   "cell_type": "code",
   "execution_count": 7,
   "id": "d929716f",
   "metadata": {},
   "outputs": [
    {
     "data": {
      "image/png": "[encoded data removed]",
      "text/plain": [
       "<Figure size 1000x800 with 1 Axes>"
      ]
     },
     "metadata": {},
     "output_type": "display_data"
    }
   ],
   "source": [
    "train_q2 = train.filter(pl.col(\"question_id\") == \"question_2\")\n",
    "\n",
    "distribution_q2 = (\n",
    "    train_q2\n",
    "    .select(\"weights\", \"is_from_same_page\")\n",
    ")\n",
    "fig, ax = plt.subplots(figsize=(10, 8))\n",
    "\n",
    "sns.histplot(\n",
    "    data=distribution_q2,\n",
    "    x=\"weights\",\n",
    "    hue=\"is_from_same_page\",\n",
    "    bins=50,\n",
    "    hue_order=[True, False],\n",
    "    palette=\"muted\",\n",
    "    ax=ax\n",
    ")\n",
    "\n",
    "plt.title(\"Distribution of Weights Labeled by Group\")\n",
    "plt.show()"
   ]
  },
  {
   "cell_type": "code",
   "execution_count": 8,
   "id": "f3a18724",
   "metadata": {},
   "outputs": [
    {
     "data": {
      "text/html": [
       "<div><style>\n",
       ".dataframe > thead > tr,\n",
       ".dataframe > tbody > tr {\n",
       "  text-align: right;\n",
       "  white-space: pre-wrap;\n",
       "}\n",
       "</style>\n",
       "<small>shape: (1, 5)</small><table border=\"1\" class=\"dataframe\"><thead><tr><th>example_id</th><th>question</th><th>answers</th><th>text</th><th>idx_gold_in_corpus</th></tr><tr><td>i64</td><td>str</td><td>str</td><td>str</td><td>i64</td></tr></thead><tbody><tr><td>1317425899790858647</td><td>&quot;who developed the first period…</td><td>&quot;Dmitri Mendeleev&quot;</td><td>&quot;The Russian chemist Dmitri Men…</td><td>20970755</td></tr></tbody></table></div>"
      ],
      "text/plain": [
       "shape: (1, 5)\n",
       "┌────────────────────┬────────────────────┬──────────────────┬────────────────┬────────────────────┐\n",
       "│ example_id         ┆ question           ┆ answers          ┆ text           ┆ idx_gold_in_corpus │\n",
       "│ ---                ┆ ---                ┆ ---              ┆ ---            ┆ ---                │\n",
       "│ i64                ┆ str                ┆ str              ┆ str            ┆ i64                │\n",
       "╞════════════════════╪════════════════════╪══════════════════╪════════════════╪════════════════════╡\n",
       "│ 131742589979085864 ┆ who developed the  ┆ Dmitri Mendeleev ┆ The Russian    ┆ 20970755           │\n",
       "│ 7                  ┆ first period…      ┆                  ┆ chemist Dmitri ┆                    │\n",
       "│                    ┆                    ┆                  ┆ Men…           ┆                    │\n",
       "└────────────────────┴────────────────────┴──────────────────┴────────────────┴────────────────────┘"
      ]
     },
     "execution_count": 8,
     "metadata": {},
     "output_type": "execute_result"
    }
   ],
   "source": [
    "questions[2]"
   ]
  },
  {
   "cell_type": "code",
   "execution_count": 9,
   "id": "23845525",
   "metadata": {},
   "outputs": [
    {
     "data": {
      "text/html": [
       "<div><style>\n",
       ".dataframe > thead > tr,\n",
       ".dataframe > tbody > tr {\n",
       "  text-align: right;\n",
       "  white-space: pre-wrap;\n",
       "}\n",
       "</style>\n",
       "<small>shape: (14, 7)</small><table border=\"1\" class=\"dataframe\"><thead><tr><th>idx</th><th>text</th><th>title</th><th>idx_right</th><th>question_id</th><th>weights</th><th>is_from_same_page</th></tr><tr><td>i64</td><td>str</td><td>str</td><td>i64</td><td>str</td><td>f64</td><td>bool</td></tr></thead><tbody><tr><td>3</td><td>&quot;being completed if a result is…</td><td>&quot;Limited overs cricket&quot;</td><td>null</td><td>&quot;question_2&quot;</td><td>0.000651</td><td>false</td></tr><tr><td>1</td><td>&quot;Antifascista (UMA)&quot;. The &quot;Unió…</td><td>&quot;Unión Militar Republicana Ant…</td><td>null</td><td>&quot;question_2&quot;</td><td>0.0044</td><td>false</td></tr><tr><td>18</td><td>&quot;In 1914 , a year before he was…</td><td>&quot;History of the periodic table&quot;</td><td>20970755</td><td>&quot;question_2&quot;</td><td>0.005688</td><td>true</td></tr><tr><td>8</td><td>&quot;the work of Dmitri Mendeleev h…</td><td>&quot;History of the periodic table&quot;</td><td>20970755</td><td>&quot;question_2&quot;</td><td>0.027457</td><td>true</td></tr><tr><td>0</td><td>&quot;History of the periodic table …</td><td>&quot;History of the periodic table&quot;</td><td>20970755</td><td>&quot;question_2&quot;</td><td>0.031232</td><td>true</td></tr><tr><td>&hellip;</td><td>&hellip;</td><td>&hellip;</td><td>&hellip;</td><td>&hellip;</td><td>&hellip;</td><td>&hellip;</td></tr><tr><td>21</td><td>&quot;A number of physical elements …</td><td>&quot;History of the periodic table&quot;</td><td>20970755</td><td>&quot;question_2&quot;</td><td>0.112693</td><td>true</td></tr><tr><td>12</td><td>&quot;published his periodic table o…</td><td>&quot;History of the periodic table&quot;</td><td>20970755</td><td>&quot;question_2&quot;</td><td>0.11425</td><td>true</td></tr><tr><td>11</td><td>&quot;in an obscure Russian journal …</td><td>&quot;History of the periodic table&quot;</td><td>20970755</td><td>&quot;question_2&quot;</td><td>0.129696</td><td>true</td></tr><tr><td>4</td><td>&quot;employ of ambitious Senator Wa…</td><td>&quot;U.S. Agent (character)&quot;</td><td>null</td><td>&quot;question_2&quot;</td><td>0.138006</td><td>false</td></tr><tr><td>22</td><td>&quot;Alexandre - Emile Béguyer de C…</td><td>&quot;History of the periodic table&quot;</td><td>20970755</td><td>&quot;question_2&quot;</td><td>0.148854</td><td>true</td></tr></tbody></table></div>"
      ],
      "text/plain": [
       "shape: (14, 7)\n",
       "┌─────┬──────────────────┬──────────────────┬───────────┬─────────────┬──────────┬─────────────────┐\n",
       "│ idx ┆ text             ┆ title            ┆ idx_right ┆ question_id ┆ weights  ┆ is_from_same_pa │\n",
       "│ --- ┆ ---              ┆ ---              ┆ ---       ┆ ---         ┆ ---      ┆ ge              │\n",
       "│ i64 ┆ str              ┆ str              ┆ i64       ┆ str         ┆ f64      ┆ ---             │\n",
       "│     ┆                  ┆                  ┆           ┆             ┆          ┆ bool            │\n",
       "╞═════╪══════════════════╪══════════════════╪═══════════╪═════════════╪══════════╪═════════════════╡\n",
       "│ 3   ┆ being completed  ┆ Limited overs    ┆ null      ┆ question_2  ┆ 0.000651 ┆ false           │\n",
       "│     ┆ if a result is…  ┆ cricket          ┆           ┆             ┆          ┆                 │\n",
       "│ 1   ┆ Antifascista     ┆ Unión Militar    ┆ null      ┆ question_2  ┆ 0.0044   ┆ false           │\n",
       "│     ┆ (UMA)\". The      ┆ Republicana Ant… ┆           ┆             ┆          ┆                 │\n",
       "│     ┆ \"Unió…           ┆                  ┆           ┆             ┆          ┆                 │\n",
       "│ 18  ┆ In 1914 , a year ┆ History of the   ┆ 20970755  ┆ question_2  ┆ 0.005688 ┆ true            │\n",
       "│     ┆ before he was…   ┆ periodic table   ┆           ┆             ┆          ┆                 │\n",
       "│ 8   ┆ the work of      ┆ History of the   ┆ 20970755  ┆ question_2  ┆ 0.027457 ┆ true            │\n",
       "│     ┆ Dmitri Mendeleev ┆ periodic table   ┆           ┆             ┆          ┆                 │\n",
       "│     ┆ h…               ┆                  ┆           ┆             ┆          ┆                 │\n",
       "│ 0   ┆ History of the   ┆ History of the   ┆ 20970755  ┆ question_2  ┆ 0.031232 ┆ true            │\n",
       "│     ┆ periodic table … ┆ periodic table   ┆           ┆             ┆          ┆                 │\n",
       "│ …   ┆ …                ┆ …                ┆ …         ┆ …           ┆ …        ┆ …               │\n",
       "│ 21  ┆ A number of      ┆ History of the   ┆ 20970755  ┆ question_2  ┆ 0.112693 ┆ true            │\n",
       "│     ┆ physical         ┆ periodic table   ┆           ┆             ┆          ┆                 │\n",
       "│     ┆ elements …       ┆                  ┆           ┆             ┆          ┆                 │\n",
       "│ 12  ┆ published his    ┆ History of the   ┆ 20970755  ┆ question_2  ┆ 0.11425  ┆ true            │\n",
       "│     ┆ periodic table   ┆ periodic table   ┆           ┆             ┆          ┆                 │\n",
       "│     ┆ o…               ┆                  ┆           ┆             ┆          ┆                 │\n",
       "│ 11  ┆ in an obscure    ┆ History of the   ┆ 20970755  ┆ question_2  ┆ 0.129696 ┆ true            │\n",
       "│     ┆ Russian journal  ┆ periodic table   ┆           ┆             ┆          ┆                 │\n",
       "│     ┆ …                ┆                  ┆           ┆             ┆          ┆                 │\n",
       "│ 4   ┆ employ of        ┆ U.S. Agent       ┆ null      ┆ question_2  ┆ 0.138006 ┆ false           │\n",
       "│     ┆ ambitious        ┆ (character)      ┆           ┆             ┆          ┆                 │\n",
       "│     ┆ Senator Wa…      ┆                  ┆           ┆             ┆          ┆                 │\n",
       "│ 22  ┆ Alexandre -      ┆ History of the   ┆ 20970755  ┆ question_2  ┆ 0.148854 ┆ true            │\n",
       "│     ┆ Emile Béguyer de ┆ periodic table   ┆           ┆             ┆          ┆                 │\n",
       "│     ┆ C…               ┆                  ┆           ┆             ┆          ┆                 │\n",
       "└─────┴──────────────────┴──────────────────┴───────────┴─────────────┴──────────┴─────────────────┘"
      ]
     },
     "execution_count": 9,
     "metadata": {},
     "output_type": "execute_result"
    }
   ],
   "source": [
    "train_q2.filter(pl.col(\"weights\") > 0).sort(\"weights\")"
   ]
  },
  {
   "cell_type": "code",
   "execution_count": 10,
   "id": "73110dc1",
   "metadata": {},
   "outputs": [
    {
     "data": {
      "text/plain": [
       "array([[21, True,\n",
       "        'A number of physical elements ( such as platinum , tin and zinc ) have been known from antiquity , as they are found in their native form and are relatively simple to mine with primitive tools . Around 330 BCE , the Greek philosopher Aristotle proposed that everything is made up of a mixture of one or more roots , an idea that had originally been suggested by the Sicilian philosopher Empedocles . The four roots , which were later renamed as elements by Plato , were earth , water , air and fire . Similar ideas about these four elements also existed in other ancient traditions , such as Indian philosophy . While Aristotle and Plato understood the concept of an element , their ideas did nothing to advance the understanding of the nature of matter .'],\n",
       "       [12, True,\n",
       "        \"published his periodic table of the known elements, predicted new elements to help complete his table and corrected the atomic weights of some of the elements, Meyer published a virtually identical periodic table. Meyer and Mendeleev are considered by some historians of science to be the co-creators of the periodic table, but Mendeleev's accurate prediction of the qualities of undiscovered elements enables him to have the larger share of the credit. In 1864, the English chemist William Odling also drew up a table that was remarkably similar to the table produced by Mendeleev. Odling overcame the tellurium-iodine problem and even\"],\n",
       "       [11, True,\n",
       "        'in an obscure Russian journal and then republished in a German journal, \"Zeitschrift für Chemie\". In it, Mendeleev stated that: Scientific benefits of Mendeleev\\'s table Unknown to Mendeleev, a German chemist, Lothar Meyer, was also working on a periodic table. Although his work was published in 1864, and was done independently of Mendeleev, few historians regard him as an equal co-creator of the periodic table. Meyer\\'s table only included twenty-eight elements, which were not classified by atomic weight, but by valence, and he never reached the idea of predicting new elements and correcting atomic weights. A few months after Mendeleev'],\n",
       "       [4, False,\n",
       "        \"employ of ambitious Senator Warkovsky and on his order places a parasite capable of allowing mind control on U.S. Agent's neck. In their second mission together U.S. Agent and Vries teamed up to tackle a radical faction of Atlantians working with the super-villain Poundcakes (Marian Pouncey). It transpired that Pouncey was attempting to trade more of the alien parasites capable of mind control with the Atlantians. The Sub-Mariner (Namor) disrupts the battle and discovers the parasite placed on U.S. Agent's neck by Vries. Vries later attends Agent's room and attempts to seduce him, placing another parasite on him. U.S. Agent—apparently\"],\n",
       "       [22, True,\n",
       "        \"Alexandre - Emile Béguyer de Chancourtois , a French geologist , was the first person to notice the periodicity of the elements -- similar elements occurring at regular intervals when they are ordered by their atomic weights . In 1862 he devised an early form of periodic table , which he named Vis tellurique ( the ' telluric helix ' ) , after the element tellurium , which fell near the center of his diagram . With the elements arranged in a spiral on a cylinder by order of increasing atomic weight , de Chancourtois saw that elements with similar properties lined up vertically . His 1863 publication included a chart ( which contained ions and compounds , in addition to elements ) , but his original paper in the Comptes rendus de l'Académie des sciences used geological rather than chemical terms and did not include a diagram . As a result , de Chancourtois ' ideas received little attention until after the work of Dmitri Mendeleev had been publicised .\"]],\n",
       "      dtype=object)"
      ]
     },
     "execution_count": 10,
     "metadata": {},
     "output_type": "execute_result"
    }
   ],
   "source": [
    "train_q2.filter(pl.col(\"weights\") > 0.1).sort(\"weights\").select([\"idx\", \"is_from_same_page\", \"text\"]).to_numpy()"
   ]
  },
  {
   "cell_type": "code",
   "execution_count": 11,
   "id": "a1848910",
   "metadata": {},
   "outputs": [
    {
     "data": {
      "text/html": [
       "<div><style>\n",
       ".dataframe > thead > tr,\n",
       ".dataframe > tbody > tr {\n",
       "  text-align: right;\n",
       "  white-space: pre-wrap;\n",
       "}\n",
       "</style>\n",
       "<small>shape: (5, 43)</small><table border=\"1\" class=\"dataframe\"><thead><tr><th>collection_idx</th><th>test_idx</th><th>input_0</th><th>input_1</th><th>input_2</th><th>input_3</th><th>input_4</th><th>input_5</th><th>input_6</th><th>input_7</th><th>input_8</th><th>input_9</th><th>input_10</th><th>input_11</th><th>input_12</th><th>input_13</th><th>input_14</th><th>input_15</th><th>input_16</th><th>input_17</th><th>input_18</th><th>input_19</th><th>input_20</th><th>input_21</th><th>input_22</th><th>input_23</th><th>input_24</th><th>input_25</th><th>input_26</th><th>input_27</th><th>input_28</th><th>input_29</th><th>input_30</th><th>input_31</th><th>input_32</th><th>input_33</th><th>input_34</th><th>input_35</th><th>input_36</th><th>input_37</th><th>input_38</th><th>evaluation</th><th>question_id</th></tr><tr><td>i64</td><td>i64</td><td>i64</td><td>i64</td><td>i64</td><td>i64</td><td>i64</td><td>i64</td><td>i64</td><td>i64</td><td>i64</td><td>i64</td><td>i64</td><td>i64</td><td>i64</td><td>i64</td><td>i64</td><td>i64</td><td>i64</td><td>i64</td><td>i64</td><td>i64</td><td>i64</td><td>i64</td><td>i64</td><td>i64</td><td>i64</td><td>i64</td><td>i64</td><td>i64</td><td>i64</td><td>i64</td><td>i64</td><td>i64</td><td>i64</td><td>i64</td><td>i64</td><td>i64</td><td>i64</td><td>i64</td><td>i64</td><td>f64</td><td>str</td></tr></thead><tbody><tr><td>96</td><td>0</td><td>1</td><td>0</td><td>0</td><td>0</td><td>0</td><td>0</td><td>0</td><td>0</td><td>0</td><td>0</td><td>0</td><td>0</td><td>0</td><td>0</td><td>0</td><td>0</td><td>0</td><td>0</td><td>0</td><td>0</td><td>0</td><td>0</td><td>0</td><td>0</td><td>0</td><td>0</td><td>0</td><td>0</td><td>1</td><td>0</td><td>0</td><td>1</td><td>0</td><td>0</td><td>1</td><td>0</td><td>0</td><td>0</td><td>0</td><td>1.0</td><td>&quot;question_2&quot;</td></tr><tr><td>101</td><td>0</td><td>0</td><td>0</td><td>1</td><td>0</td><td>0</td><td>0</td><td>0</td><td>0</td><td>1</td><td>0</td><td>0</td><td>0</td><td>0</td><td>0</td><td>0</td><td>0</td><td>0</td><td>0</td><td>0</td><td>0</td><td>0</td><td>0</td><td>0</td><td>0</td><td>0</td><td>0</td><td>0</td><td>0</td><td>1</td><td>0</td><td>0</td><td>0</td><td>0</td><td>0</td><td>0</td><td>0</td><td>0</td><td>1</td><td>0</td><td>1.0</td><td>&quot;question_2&quot;</td></tr><tr><td>102</td><td>0</td><td>0</td><td>0</td><td>0</td><td>0</td><td>0</td><td>0</td><td>0</td><td>0</td><td>0</td><td>0</td><td>0</td><td>0</td><td>1</td><td>0</td><td>0</td><td>0</td><td>0</td><td>0</td><td>0</td><td>0</td><td>0</td><td>0</td><td>0</td><td>0</td><td>0</td><td>0</td><td>0</td><td>0</td><td>1</td><td>0</td><td>0</td><td>0</td><td>0</td><td>1</td><td>0</td><td>1</td><td>0</td><td>0</td><td>0</td><td>0.666667</td><td>&quot;question_2&quot;</td></tr><tr><td>107</td><td>0</td><td>0</td><td>0</td><td>0</td><td>0</td><td>0</td><td>0</td><td>0</td><td>0</td><td>0</td><td>0</td><td>0</td><td>0</td><td>0</td><td>1</td><td>0</td><td>0</td><td>0</td><td>0</td><td>0</td><td>0</td><td>0</td><td>0</td><td>0</td><td>0</td><td>0</td><td>0</td><td>0</td><td>0</td><td>1</td><td>1</td><td>0</td><td>1</td><td>0</td><td>0</td><td>0</td><td>0</td><td>0</td><td>0</td><td>0</td><td>0.666667</td><td>&quot;question_2&quot;</td></tr><tr><td>113</td><td>0</td><td>0</td><td>0</td><td>0</td><td>0</td><td>0</td><td>0</td><td>0</td><td>0</td><td>1</td><td>0</td><td>0</td><td>0</td><td>0</td><td>0</td><td>0</td><td>0</td><td>0</td><td>0</td><td>0</td><td>0</td><td>0</td><td>0</td><td>0</td><td>0</td><td>0</td><td>1</td><td>0</td><td>0</td><td>1</td><td>0</td><td>0</td><td>0</td><td>0</td><td>1</td><td>0</td><td>0</td><td>0</td><td>0</td><td>0</td><td>1.0</td><td>&quot;question_2&quot;</td></tr></tbody></table></div>"
      ],
      "text/plain": [
       "shape: (5, 43)\n",
       "┌──────────────┬──────────┬─────────┬─────────┬───┬──────────┬──────────┬────────────┬─────────────┐\n",
       "│ collection_i ┆ test_idx ┆ input_0 ┆ input_1 ┆ … ┆ input_37 ┆ input_38 ┆ evaluation ┆ question_id │\n",
       "│ dx           ┆ ---      ┆ ---     ┆ ---     ┆   ┆ ---      ┆ ---      ┆ ---        ┆ ---         │\n",
       "│ ---          ┆ i64      ┆ i64     ┆ i64     ┆   ┆ i64      ┆ i64      ┆ f64        ┆ str         │\n",
       "│ i64          ┆          ┆         ┆         ┆   ┆          ┆          ┆            ┆             │\n",
       "╞══════════════╪══════════╪═════════╪═════════╪═══╪══════════╪══════════╪════════════╪═════════════╡\n",
       "│ 96           ┆ 0        ┆ 1       ┆ 0       ┆ … ┆ 0        ┆ 0        ┆ 1.0        ┆ question_2  │\n",
       "│ 101          ┆ 0        ┆ 0       ┆ 0       ┆ … ┆ 1        ┆ 0        ┆ 1.0        ┆ question_2  │\n",
       "│ 102          ┆ 0        ┆ 0       ┆ 0       ┆ … ┆ 0        ┆ 0        ┆ 0.666667   ┆ question_2  │\n",
       "│ 107          ┆ 0        ┆ 0       ┆ 0       ┆ … ┆ 0        ┆ 0        ┆ 0.666667   ┆ question_2  │\n",
       "│ 113          ┆ 0        ┆ 0       ┆ 0       ┆ … ┆ 0        ┆ 0        ┆ 1.0        ┆ question_2  │\n",
       "└──────────────┴──────────┴─────────┴─────────┴───┴──────────┴──────────┴────────────┴─────────────┘"
      ]
     },
     "execution_count": 11,
     "metadata": {},
     "output_type": "execute_result"
    }
   ],
   "source": [
    "train_collections_q2 = collections_training_set[2].with_columns(pl.col(\"input\").arr.to_struct(fields = lambda i: f\"input_{i}\")).unnest(\"input\")\n",
    "train_collections_q2.filter(pl.col(\"input_28\") == 1).filter(pl.col(\"evaluation\") > 0)"
   ]
  },
  {
   "cell_type": "markdown",
   "id": "3035b29c",
   "metadata": {},
   "source": [
    "## Question 0"
   ]
  },
  {
   "cell_type": "code",
   "execution_count": 12,
   "id": "4cd5d40e",
   "metadata": {},
   "outputs": [
    {
     "data": {
      "image/png": "[encoded data removed]",
      "text/plain": [
       "<Figure size 1000x800 with 1 Axes>"
      ]
     },
     "metadata": {},
     "output_type": "display_data"
    }
   ],
   "source": [
    "train_q0 = train.filter(pl.col(\"question_id\") == \"question_0\")\n",
    "\n",
    "distribution_q0 = (\n",
    "    train_q0\n",
    "    .select(\"weights\", \"is_from_same_page\")\n",
    ")\n",
    "fig, ax = plt.subplots(figsize=(10, 8))\n",
    "\n",
    "sns.histplot(\n",
    "    data=distribution_q0,\n",
    "    x=\"weights\",\n",
    "    hue=\"is_from_same_page\",\n",
    "    bins=50,\n",
    "    hue_order=[True, False],\n",
    "    palette=\"muted\",\n",
    "    ax=ax\n",
    ")\n",
    "\n",
    "plt.title(\"Distribution of Weights Labeled by Group\")\n",
    "plt.show()"
   ]
  },
  {
   "cell_type": "code",
   "execution_count": 13,
   "id": "37637382",
   "metadata": {},
   "outputs": [
    {
     "data": {
      "text/html": [
       "<div><style>\n",
       ".dataframe > thead > tr,\n",
       ".dataframe > tbody > tr {\n",
       "  text-align: right;\n",
       "  white-space: pre-wrap;\n",
       "}\n",
       "</style>\n",
       "<small>shape: (1, 5)</small><table border=\"1\" class=\"dataframe\"><thead><tr><th>example_id</th><th>question</th><th>answers</th><th>text</th><th>idx_gold_in_corpus</th></tr><tr><td>i64</td><td>str</td><td>str</td><td>str</td><td>i64</td></tr></thead><tbody><tr><td>4393532674001821363</td><td>&quot;when did the who perform at th…</td><td>&quot;Feb 7 , 2010&quot;</td><td>&quot;XLIV Date : Feb 7 , 2010 Locat…</td><td>20970820</td></tr></tbody></table></div>"
      ],
      "text/plain": [
       "shape: (1, 5)\n",
       "┌────────────────────┬────────────────────┬──────────────┬────────────────────┬────────────────────┐\n",
       "│ example_id         ┆ question           ┆ answers      ┆ text               ┆ idx_gold_in_corpus │\n",
       "│ ---                ┆ ---                ┆ ---          ┆ ---                ┆ ---                │\n",
       "│ i64                ┆ str                ┆ str          ┆ str                ┆ i64                │\n",
       "╞════════════════════╪════════════════════╪══════════════╪════════════════════╪════════════════════╡\n",
       "│ 439353267400182136 ┆ when did the who   ┆ Feb 7 , 2010 ┆ XLIV Date : Feb 7  ┆ 20970820           │\n",
       "│ 3                  ┆ perform at th…     ┆              ┆ , 2010 Locat…      ┆                    │\n",
       "└────────────────────┴────────────────────┴──────────────┴────────────────────┴────────────────────┘"
      ]
     },
     "execution_count": 13,
     "metadata": {},
     "output_type": "execute_result"
    }
   ],
   "source": [
    "questions[0]"
   ]
  },
  {
   "cell_type": "code",
   "execution_count": 14,
   "id": "43587b3d",
   "metadata": {},
   "outputs": [
    {
     "data": {
      "text/html": [
       "<div><style>\n",
       ".dataframe > thead > tr,\n",
       ".dataframe > tbody > tr {\n",
       "  text-align: right;\n",
       "  white-space: pre-wrap;\n",
       "}\n",
       "</style>\n",
       "<small>shape: (8, 7)</small><table border=\"1\" class=\"dataframe\"><thead><tr><th>idx</th><th>text</th><th>title</th><th>idx_right</th><th>question_id</th><th>weights</th><th>is_from_same_page</th></tr><tr><td>i64</td><td>str</td><td>str</td><td>i64</td><td>str</td><td>f64</td><td>bool</td></tr></thead><tbody><tr><td>0</td><td>&quot;Cessna 421 The Cessna 421 Gold…</td><td>&quot;Cessna 421&quot;</td><td>null</td><td>&quot;question_0&quot;</td><td>0.000608</td><td>false</td></tr><tr><td>0</td><td>&quot;Date : Feb 5 , 2017 Location :…</td><td>&quot;List of Super Bowl halftime sh…</td><td>20970820</td><td>&quot;question_0&quot;</td><td>0.041878</td><td>true</td></tr><tr><td>6</td><td>&quot;Halftime shows are a tradition…</td><td>&quot;List of Super Bowl halftime sh…</td><td>20970820</td><td>&quot;question_0&quot;</td><td>0.085063</td><td>true</td></tr><tr><td>8</td><td>&quot;Manassas Regional Airport Mana…</td><td>&quot;Manassas Regional Airport&quot;</td><td>null</td><td>&quot;question_0&quot;</td><td>0.091514</td><td>false</td></tr><tr><td>4</td><td>&quot;Alonso composed over two thous…</td><td>&quot;Tite Curet Alonso&quot;</td><td>null</td><td>&quot;question_0&quot;</td><td>0.117261</td><td>false</td></tr><tr><td>13</td><td>&quot;world&quot; of the camp and its sur…</td><td>&quot;Psychonauts&quot;</td><td>null</td><td>&quot;question_0&quot;</td><td>0.144831</td><td>false</td></tr><tr><td>3</td><td>&quot;on the application of patients…</td><td>&quot;Medical tourism&quot;</td><td>null</td><td>&quot;question_0&quot;</td><td>0.145593</td><td>false</td></tr><tr><td>14</td><td>&quot;He later went on to work as a …</td><td>&quot;Bodo Illgner&quot;</td><td>null</td><td>&quot;question_0&quot;</td><td>0.172659</td><td>false</td></tr></tbody></table></div>"
      ],
      "text/plain": [
       "shape: (8, 7)\n",
       "┌─────┬──────────────────┬──────────────────┬───────────┬─────────────┬──────────┬─────────────────┐\n",
       "│ idx ┆ text             ┆ title            ┆ idx_right ┆ question_id ┆ weights  ┆ is_from_same_pa │\n",
       "│ --- ┆ ---              ┆ ---              ┆ ---       ┆ ---         ┆ ---      ┆ ge              │\n",
       "│ i64 ┆ str              ┆ str              ┆ i64       ┆ str         ┆ f64      ┆ ---             │\n",
       "│     ┆                  ┆                  ┆           ┆             ┆          ┆ bool            │\n",
       "╞═════╪══════════════════╪══════════════════╪═══════════╪═════════════╪══════════╪═════════════════╡\n",
       "│ 0   ┆ Cessna 421 The   ┆ Cessna 421       ┆ null      ┆ question_0  ┆ 0.000608 ┆ false           │\n",
       "│     ┆ Cessna 421 Gold… ┆                  ┆           ┆             ┆          ┆                 │\n",
       "│ 0   ┆ Date : Feb 5 ,   ┆ List of Super    ┆ 20970820  ┆ question_0  ┆ 0.041878 ┆ true            │\n",
       "│     ┆ 2017 Location :… ┆ Bowl halftime    ┆           ┆             ┆          ┆                 │\n",
       "│     ┆                  ┆ sh…              ┆           ┆             ┆          ┆                 │\n",
       "│ 6   ┆ Halftime shows   ┆ List of Super    ┆ 20970820  ┆ question_0  ┆ 0.085063 ┆ true            │\n",
       "│     ┆ are a tradition… ┆ Bowl halftime    ┆           ┆             ┆          ┆                 │\n",
       "│     ┆                  ┆ sh…              ┆           ┆             ┆          ┆                 │\n",
       "│ 8   ┆ Manassas         ┆ Manassas         ┆ null      ┆ question_0  ┆ 0.091514 ┆ false           │\n",
       "│     ┆ Regional Airport ┆ Regional Airport ┆           ┆             ┆          ┆                 │\n",
       "│     ┆ Mana…            ┆                  ┆           ┆             ┆          ┆                 │\n",
       "│ 4   ┆ Alonso composed  ┆ Tite Curet       ┆ null      ┆ question_0  ┆ 0.117261 ┆ false           │\n",
       "│     ┆ over two thous…  ┆ Alonso           ┆           ┆             ┆          ┆                 │\n",
       "│ 13  ┆ world\" of the    ┆ Psychonauts      ┆ null      ┆ question_0  ┆ 0.144831 ┆ false           │\n",
       "│     ┆ camp and its     ┆                  ┆           ┆             ┆          ┆                 │\n",
       "│     ┆ sur…             ┆                  ┆           ┆             ┆          ┆                 │\n",
       "│ 3   ┆ on the           ┆ Medical tourism  ┆ null      ┆ question_0  ┆ 0.145593 ┆ false           │\n",
       "│     ┆ application of   ┆                  ┆           ┆             ┆          ┆                 │\n",
       "│     ┆ patients…        ┆                  ┆           ┆             ┆          ┆                 │\n",
       "│ 14  ┆ He later went on ┆ Bodo Illgner     ┆ null      ┆ question_0  ┆ 0.172659 ┆ false           │\n",
       "│     ┆ to work as a …   ┆                  ┆           ┆             ┆          ┆                 │\n",
       "└─────┴──────────────────┴──────────────────┴───────────┴─────────────┴──────────┴─────────────────┘"
      ]
     },
     "execution_count": 14,
     "metadata": {},
     "output_type": "execute_result"
    }
   ],
   "source": [
    "train_q0.filter(pl.col(\"weights\") > 0).sort(\"weights\")"
   ]
  },
  {
   "cell_type": "code",
   "execution_count": 17,
   "id": "c5905955",
   "metadata": {},
   "outputs": [
    {
     "data": {
      "text/plain": [
       "array([[4, False,\n",
       "        'Alonso composed over two thousand songs. Arguably, about 200 of these were hit songs, and about 50 of these were major salsa hits. Some of the people who have intrepeted his songs are: Joe Quijano, Iris Chacón, Wilkins, Cheo Feliciano, Celia Cruz, La Lupe, Willie Colón, Tito Rodríguez, Olga Guillot, Mon Rivera, Héctor Lavoe, Ray Barretto, Tony Croatto, Rubén Blades, Tito Puente, Ismael Miranda, Roberto Roena, Bobby Valentín, Marvin Santiago, Willie Rosario, Chucho Avellanet, Andy Montañez, Rafael Cortijo, Tommy Olivencia and Frankie Ruiz. His song \"Las Caras Lindas (De Mi Gente Negra)\" (The Beautiful Faces (Of My Black People) recorded'],\n",
       "       [13, False,\n",
       "        'world\" of the camp and its surroundings, as well as a number of \"mental worlds\" which exist in the consciousness of the game\\'s various characters. The mental worlds have wildly differing art and level design aesthetics, but generally have a specific goal that Raz must complete to help resolve a psychological issue a character may have, allowing the game\\'s plot to progress. Within the mental worlds are censors that react negatively to Raz\\'s presence and will attack him. There are also various collectibles within the mental worlds, including \"figments\" of the character\\'s imagination which help increase Raz\\'s psi ranking, \"emotional'],\n",
       "       [3, False,\n",
       "        'on the application of patients’ rights to cross-border healthcare was agreed in 2011. On December 9, 2013, the City of Helsinki decided that all minors under the age of 18 and all pregnant mothers living in Helsinki without a valid visa or residence permit are granted the right to the same health care and at the same price as all citizens of the city. This service will be available sometime early year 2014. Volunteer doctors of Global Clinic have tried to help these people, for whom only acute care has been available. This means that the Finnish health care system'],\n",
       "       [14, False,\n",
       "        'He later went on to work as a pundit for Sky Deutschland and English language broadcasts of beIN Sport and, in April 2013, he was named by Marca as a member of the \"Best foreign eleven in Real Madrid\\'s history\". On 23 September 1987, Illgner made his debut for the West Germany national team in a 1–0 friendly home win against Denmark, and went on to back Eike Immel during UEFA Euro 1988. At the 1990 FIFA World Cup he, by now the country\\'s first-choice, was in exceptional form, and commanded the backline, which consisted of the experienced Klaus Augenthaler,']],\n",
       "      dtype=object)"
      ]
     },
     "execution_count": 17,
     "metadata": {},
     "output_type": "execute_result"
    }
   ],
   "source": [
    "train_q0.filter(pl.col(\"weights\") > 0.1).sort(\"weights\").select([\"idx\", \"is_from_same_page\", \"text\"]).to_numpy()"
   ]
  },
  {
   "cell_type": "code",
   "execution_count": 25,
   "id": "a3a3d741",
   "metadata": {},
   "outputs": [
    {
     "data": {
      "text/html": [
       "<div><style>\n",
       ".dataframe > thead > tr,\n",
       ".dataframe > tbody > tr {\n",
       "  text-align: right;\n",
       "  white-space: pre-wrap;\n",
       "}\n",
       "</style>\n",
       "<small>shape: (3, 27)</small><table border=\"1\" class=\"dataframe\"><thead><tr><th>collection_idx</th><th>test_idx</th><th>input_0</th><th>input_1</th><th>input_2</th><th>input_3</th><th>input_4</th><th>input_5</th><th>input_6</th><th>input_7</th><th>input_8</th><th>input_9</th><th>input_10</th><th>input_11</th><th>input_12</th><th>input_13</th><th>input_14</th><th>input_15</th><th>input_16</th><th>input_17</th><th>input_18</th><th>input_19</th><th>input_20</th><th>input_21</th><th>input_22</th><th>evaluation</th><th>question_id</th></tr><tr><td>i64</td><td>i64</td><td>i64</td><td>i64</td><td>i64</td><td>i64</td><td>i64</td><td>i64</td><td>i64</td><td>i64</td><td>i64</td><td>i64</td><td>i64</td><td>i64</td><td>i64</td><td>i64</td><td>i64</td><td>i64</td><td>i64</td><td>i64</td><td>i64</td><td>i64</td><td>i64</td><td>i64</td><td>i64</td><td>f64</td><td>str</td></tr></thead><tbody><tr><td>9</td><td>0</td><td>1</td><td>1</td><td>1</td><td>0</td><td>0</td><td>1</td><td>0</td><td>0</td><td>0</td><td>0</td><td>0</td><td>0</td><td>0</td><td>0</td><td>0</td><td>0</td><td>0</td><td>0</td><td>0</td><td>0</td><td>0</td><td>0</td><td>0</td><td>0.25</td><td>&quot;question_0&quot;</td></tr><tr><td>122</td><td>0</td><td>0</td><td>0</td><td>0</td><td>0</td><td>1</td><td>0</td><td>0</td><td>0</td><td>0</td><td>0</td><td>0</td><td>0</td><td>0</td><td>0</td><td>0</td><td>0</td><td>1</td><td>1</td><td>0</td><td>1</td><td>0</td><td>0</td><td>0</td><td>0.222222</td><td>&quot;question_0&quot;</td></tr><tr><td>124</td><td>0</td><td>0</td><td>0</td><td>1</td><td>0</td><td>0</td><td>0</td><td>0</td><td>0</td><td>1</td><td>0</td><td>0</td><td>0</td><td>0</td><td>1</td><td>0</td><td>0</td><td>0</td><td>0</td><td>0</td><td>0</td><td>1</td><td>0</td><td>0</td><td>0.285714</td><td>&quot;question_0&quot;</td></tr></tbody></table></div>"
      ],
      "text/plain": [
       "shape: (3, 27)\n",
       "┌──────────────┬──────────┬─────────┬─────────┬───┬──────────┬──────────┬────────────┬─────────────┐\n",
       "│ collection_i ┆ test_idx ┆ input_0 ┆ input_1 ┆ … ┆ input_21 ┆ input_22 ┆ evaluation ┆ question_id │\n",
       "│ dx           ┆ ---      ┆ ---     ┆ ---     ┆   ┆ ---      ┆ ---      ┆ ---        ┆ ---         │\n",
       "│ ---          ┆ i64      ┆ i64     ┆ i64     ┆   ┆ i64      ┆ i64      ┆ f64        ┆ str         │\n",
       "│ i64          ┆          ┆         ┆         ┆   ┆          ┆          ┆            ┆             │\n",
       "╞══════════════╪══════════╪═════════╪═════════╪═══╪══════════╪══════════╪════════════╪═════════════╡\n",
       "│ 9            ┆ 0        ┆ 1       ┆ 1       ┆ … ┆ 0        ┆ 0        ┆ 0.25       ┆ question_0  │\n",
       "│ 122          ┆ 0        ┆ 0       ┆ 0       ┆ … ┆ 0        ┆ 0        ┆ 0.222222   ┆ question_0  │\n",
       "│ 124          ┆ 0        ┆ 0       ┆ 0       ┆ … ┆ 0        ┆ 0        ┆ 0.285714   ┆ question_0  │\n",
       "└──────────────┴──────────┴─────────┴─────────┴───┴──────────┴──────────┴────────────┴─────────────┘"
      ]
     },
     "execution_count": 25,
     "metadata": {},
     "output_type": "execute_result"
    }
   ],
   "source": [
    "train_collections_q0 = collections_training_set[0].with_columns(pl.col(\"input\").arr.to_struct(fields = lambda i: f\"input_{i}\")).unnest(\"input\")\n",
    "train_collections_q0.filter(pl.col(\"evaluation\") > 0)"
   ]
  }
 ],
 "metadata": {
  "kernelspec": {
   "display_name": "Python 3 (ipykernel)",
   "language": "python",
   "name": "python3"
  },
  "language_info": {
   "codemirror_mode": {
    "name": "ipython",
    "version": 3
   },
   "file_extension": ".py",
   "mimetype": "text/x-python",
   "name": "python",
   "nbconvert_exporter": "python",
   "pygments_lexer": "ipython3",
   "version": "3.11.11"
  }
 },
 "nbformat": 4,
 "nbformat_minor": 5
}

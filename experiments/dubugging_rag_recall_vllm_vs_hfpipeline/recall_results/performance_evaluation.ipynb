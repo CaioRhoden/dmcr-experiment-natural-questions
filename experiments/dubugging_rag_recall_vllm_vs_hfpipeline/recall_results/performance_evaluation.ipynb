{
 "cells": [
  {
   "cell_type": "markdown",
   "id": "eddb848c",
   "metadata": {},
   "source": [
    "# Preview Evaluation - Perplexity\n",
    "\n",
    "Thia is a notebook to make a preview comparison of the generations when using LLM JUDGE"
   ]
  },
  {
   "cell_type": "code",
   "execution_count": 1,
   "id": "64df10d3",
   "metadata": {},
   "outputs": [
    {
     "name": "stderr",
     "output_type": "stream",
     "text": [
      "/home/users/caio.rhoden/miniconda3/envs/nq/lib/python3.11/site-packages/tqdm/auto.py:21: TqdmWarning: IProgress not found. Please update jupyter and ipywidgets. See https://ipywidgets.readthedocs.io/en/stable/user_install.html\n",
      "  from .autonotebook import tqdm as notebook_tqdm\n"
     ]
    },
    {
     "name": "stdout",
     "output_type": "stream",
     "text": [
      "INFO 10-14 17:06:06 [__init__.py:220] No platform detected, vLLM is running on UnspecifiedPlatform\n",
      "WARNING 10-14 17:06:07 [_custom_ops.py:20] Failed to import from vllm._C with ImportError('libcuda.so.1: cannot open shared object file: No such file or directory')\n"
     ]
    }
   ],
   "source": [
    "import polars as pl\n",
    "import seaborn as sns\n",
    "import matplotlib.pyplot as plt\n",
    "from utils.metrics.calculate_metric import calculate_agg_metric\n",
    "import os\n",
    "import numpy as np\n",
    "import json"
   ]
  },
  {
   "cell_type": "code",
   "execution_count": 2,
   "id": "5775430b",
   "metadata": {},
   "outputs": [],
   "source": [
    "exp_names = [\"hf\", \"vllm\", \"vllm_float16\"]"
   ]
  },
  {
   "cell_type": "markdown",
   "id": "c0c31a25",
   "metadata": {},
   "source": [
    "## Calculate Metrics and save them"
   ]
  },
  {
   "cell_type": "code",
   "execution_count": 3,
   "id": "9564eb4f",
   "metadata": {},
   "outputs": [
    {
     "name": "stderr",
     "output_type": "stream",
     "text": [
      "Could not memory_map compressed IPC file, defaulting to normal read. Toggle off 'memory_map' to silence this warning.\n",
      "Could not memory_map compressed IPC file, defaulting to normal read. Toggle off 'memory_map' to silence this warning.\n",
      "Could not memory_map compressed IPC file, defaulting to normal read. Toggle off 'memory_map' to silence this warning.\n"
     ]
    }
   ],
   "source": [
    "\n",
    "\n",
    "questions_path = \"../questions_2500_42_dev.feather\"\n",
    "for exp in exp_names:\n",
    "    for file in os.listdir(f\"../{exp}/generations\"):\n",
    "        if f\"result_{exp}.feather\" not in os.listdir(\".\"):\n",
    "            calculate_agg_metric(\n",
    "                metrics=[\"rouge_l\"],\n",
    "                generation_path=f\"../{exp}/generations/{file}\",\n",
    "                reference_path=questions_path,\n",
    "                saving_path=f\"result_{exp}.feather\"\n",
    "            )\n",
    "\n",
    "\n"
   ]
  },
  {
   "cell_type": "markdown",
   "id": "1ae8da9c",
   "metadata": {},
   "source": [
    "## Load Data"
   ]
  },
  {
   "cell_type": "code",
   "execution_count": 4,
   "id": "9fe60c6a",
   "metadata": {},
   "outputs": [
    {
     "name": "stdout",
     "output_type": "stream",
     "text": [
      "shape: (3, 2)\n",
      "┌──────────────┬──────────┐\n",
      "│ exp_name     ┆ mean     │\n",
      "│ ---          ┆ ---      │\n",
      "│ str          ┆ f64      │\n",
      "╞══════════════╪══════════╡\n",
      "│ hf           ┆ 0.070108 │\n",
      "│ vllm_float16 ┆ 0.056046 │\n",
      "│ vllm         ┆ 0.053331 │\n",
      "└──────────────┴──────────┘\n"
     ]
    }
   ],
   "source": [
    "results = []\n",
    "for f in os.listdir(\".\"):\n",
    "    if f.endswith(\"feather\"):\n",
    "        processsed_namefile = f.split(\".\")[0].split(\"result_\")[1]\n",
    "        results.append(\n",
    "            pl.read_ipc(f, memory_map=False)\n",
    "            .with_columns(\n",
    "                pl.lit(f\"{processsed_namefile}\").alias(\"exp_name\"),\n",
    "            )\n",
    "        )\n",
    "\n",
    "results = pl.concat(results)\n",
    "with pl.Config(\n",
    "    tbl_rows=-1,             # Show all rows (-1 means all)\n",
    "    tbl_cols=-1,             # Show all columns (-1 means all)\n",
    "    fmt_str_lengths=100    # Set string column width\n",
    "):\n",
    "    print(results.group_by(\"exp_name\").agg(pl.col(\"mean\").mean()).sort(\"mean\", descending=True))"
   ]
  },
  {
   "cell_type": "code",
   "execution_count": 5,
   "id": "f8fe854a",
   "metadata": {},
   "outputs": [
    {
     "data": {
      "text/html": [
       "<div><style>\n",
       ".dataframe > thead > tr,\n",
       ".dataframe > tbody > tr {\n",
       "  text-align: right;\n",
       "  white-space: pre-wrap;\n",
       "}\n",
       "</style>\n",
       "<small>shape: (3, 2)</small><table border=\"1\" class=\"dataframe\"><thead><tr><th>exp_name</th><th>mean</th></tr><tr><td>str</td><td>u32</td></tr></thead><tbody><tr><td>&quot;vllm&quot;</td><td>297</td></tr><tr><td>&quot;vllm_float16&quot;</td><td>307</td></tr><tr><td>&quot;hf&quot;</td><td>418</td></tr></tbody></table></div>"
      ],
      "text/plain": [
       "shape: (3, 2)\n",
       "┌──────────────┬──────┐\n",
       "│ exp_name     ┆ mean │\n",
       "│ ---          ┆ ---  │\n",
       "│ str          ┆ u32  │\n",
       "╞══════════════╪══════╡\n",
       "│ vllm         ┆ 297  │\n",
       "│ vllm_float16 ┆ 307  │\n",
       "│ hf           ┆ 418  │\n",
       "└──────────────┴──────┘"
      ]
     },
     "execution_count": 5,
     "metadata": {},
     "output_type": "execute_result"
    }
   ],
   "source": [
    "results.filter(pl.col(\"mean\") > 0).group_by(\"exp_name\").agg(pl.col(\"mean\").count())"
   ]
  },
  {
   "cell_type": "code",
   "execution_count": 7,
   "id": "4dbdd6cf",
   "metadata": {},
   "outputs": [
    {
     "name": "stderr",
     "output_type": "stream",
     "text": [
      "/tmp/ipykernel_2438706/4158193766.py:1: DeprecationWarning: `GroupBy.count` was renamed; use `GroupBy.len` instead\n",
      "  results.filter(pl.col(\"mean\") > 0).group_by(\"idx\").count().sort(\"count\", descending=True).filter(pl.col(\"count\")==3)\n"
     ]
    },
    {
     "data": {
      "text/html": [
       "<div><style>\n",
       ".dataframe > thead > tr,\n",
       ".dataframe > tbody > tr {\n",
       "  text-align: right;\n",
       "  white-space: pre-wrap;\n",
       "}\n",
       "</style>\n",
       "<small>shape: (143, 2)</small><table border=\"1\" class=\"dataframe\"><thead><tr><th>idx</th><th>count</th></tr><tr><td>i64</td><td>u32</td></tr></thead><tbody><tr><td>923</td><td>3</td></tr><tr><td>399</td><td>3</td></tr><tr><td>2367</td><td>3</td></tr><tr><td>9</td><td>3</td></tr><tr><td>664</td><td>3</td></tr><tr><td>&hellip;</td><td>&hellip;</td></tr><tr><td>902</td><td>3</td></tr><tr><td>780</td><td>3</td></tr><tr><td>384</td><td>3</td></tr><tr><td>1700</td><td>3</td></tr><tr><td>914</td><td>3</td></tr></tbody></table></div>"
      ],
      "text/plain": [
       "shape: (143, 2)\n",
       "┌──────┬───────┐\n",
       "│ idx  ┆ count │\n",
       "│ ---  ┆ ---   │\n",
       "│ i64  ┆ u32   │\n",
       "╞══════╪═══════╡\n",
       "│ 923  ┆ 3     │\n",
       "│ 399  ┆ 3     │\n",
       "│ 2367 ┆ 3     │\n",
       "│ 9    ┆ 3     │\n",
       "│ 664  ┆ 3     │\n",
       "│ …    ┆ …     │\n",
       "│ 902  ┆ 3     │\n",
       "│ 780  ┆ 3     │\n",
       "│ 384  ┆ 3     │\n",
       "│ 1700 ┆ 3     │\n",
       "│ 914  ┆ 3     │\n",
       "└──────┴───────┘"
      ]
     },
     "execution_count": 7,
     "metadata": {},
     "output_type": "execute_result"
    }
   ],
   "source": [
    "results.filter(pl.col(\"mean\") > 0).group_by(\"idx\").count().sort(\"count\", descending=True).filter(pl.col(\"count\")==3)"
   ]
  }
 ],
 "metadata": {
  "kernelspec": {
   "display_name": "nq",
   "language": "python",
   "name": "python3"
  },
  "language_info": {
   "codemirror_mode": {
    "name": "ipython",
    "version": 3
   },
   "file_extension": ".py",
   "mimetype": "text/x-python",
   "name": "python",
   "nbconvert_exporter": "python",
   "pygments_lexer": "ipython3",
   "version": "3.11.13"
  }
 },
 "nbformat": 4,
 "nbformat_minor": 5
}

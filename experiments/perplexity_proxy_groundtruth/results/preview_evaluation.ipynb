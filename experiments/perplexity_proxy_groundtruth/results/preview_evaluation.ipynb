{
 "cells": [
  {
   "cell_type": "markdown",
   "id": "eddb848c",
   "metadata": {},
   "source": [
    "# Preview Evaluation - Perplexity\n",
    "\n",
    "Thia is a notebook to make a preview comparison of the generations when using Perplexity as a metric for the Datamodels collections.  \n",
    "Important to notice, this notebook is considering onle ONE generation of 50 samples."
   ]
  },
  {
   "cell_type": "code",
   "execution_count": 1,
   "id": "64df10d3",
   "metadata": {},
   "outputs": [
    {
     "name": "stderr",
     "output_type": "stream",
     "text": [
      "/home/caio.rhoden/miniconda3/envs/nq_dl/lib/python3.11/site-packages/tqdm/auto.py:21: TqdmWarning: IProgress not found. Please update jupyter and ipywidgets. See https://ipywidgets.readthedocs.io/en/stable/user_install.html\n",
      "  from .autonotebook import tqdm as notebook_tqdm\n"
     ]
    }
   ],
   "source": [
    "import polars as pl\n",
    "import seaborn as sns\n",
    "import matplotlib.pyplot as plt\n",
    "from utils.calculate_metric import calculate_agg_metric\n",
    "import os"
   ]
  },
  {
   "cell_type": "markdown",
   "id": "c0c31a25",
   "metadata": {},
   "source": [
    "## Calculate Metrics and save them"
   ]
  },
  {
   "cell_type": "code",
   "execution_count": 2,
   "id": "5adeaad2",
   "metadata": {},
   "outputs": [],
   "source": [
    "seeds = [7270, 860]\n",
    "datamodels_path  = \"../dmrc_pipelines\"\n",
    "\n",
    "questions_path = \"../../datamodels_training_window_size/experiments_7270/questions.feather\""
   ]
  },
  {
   "cell_type": "code",
   "execution_count": 4,
   "id": "9564eb4f",
   "metadata": {},
   "outputs": [
    {
     "name": "stdout",
     "output_type": "stream",
     "text": [
      "perplexity_generations.json\n"
     ]
    },
    {
     "name": "stdout",
     "output_type": "stream",
     "text": [
      "rag_generations.json\n",
      "datamodels_generations.json\n",
      "baseline_7270_baseline_generations.json\n",
      "perplexity_generations.json\n",
      "rag_generations.json\n",
      "datamodels_generations.json\n",
      "baseline_860_baseline_generations.json\n"
     ]
    }
   ],
   "source": [
    "for s in seeds:\n",
    "    questions_path = f\"../../datamodels_training_window_size/experiments_{s}/questions.feather\"\n",
    "    for file in os.listdir(f\"{datamodels_path}/{s}/generations\"):\n",
    "        print(file)\n",
    "        calculate_agg_metric(\n",
    "            metrics=[\"rouge_l\"],\n",
    "            generation_path=f\"{datamodels_path}/{s}/generations/{file}\",\n",
    "            reference_path=questions_path,\n",
    "            saving_path=f\"result_{s}_{file.split('.')[0]}.feather\"\n",
    "        )\n",
    "\n",
    "\n"
   ]
  },
  {
   "cell_type": "markdown",
   "id": "1ae8da9c",
   "metadata": {},
   "source": [
    "## Load Data"
   ]
  },
  {
   "cell_type": "code",
   "execution_count": 12,
   "id": "7879623c",
   "metadata": {},
   "outputs": [
    {
     "data": {
      "text/html": [
       "<div><style>\n",
       ".dataframe > thead > tr,\n",
       ".dataframe > tbody > tr {\n",
       "  text-align: right;\n",
       "  white-space: pre-wrap;\n",
       "}\n",
       "</style>\n",
       "<small>shape: (8, 4)</small><table border=\"1\" class=\"dataframe\"><thead><tr><th>seed</th><th>run_type</th><th>metric</th><th>mean</th></tr><tr><td>str</td><td>str</td><td>str</td><td>f64</td></tr></thead><tbody><tr><td>&quot;7270&quot;</td><td>&quot;baseline&quot;</td><td>&quot;rouge_l&quot;</td><td>0.286462</td></tr><tr><td>&quot;7270&quot;</td><td>&quot;datamodels&quot;</td><td>&quot;rouge_l&quot;</td><td>0.328384</td></tr><tr><td>&quot;7270&quot;</td><td>&quot;perplexity&quot;</td><td>&quot;rouge_l&quot;</td><td>0.009194</td></tr><tr><td>&quot;7270&quot;</td><td>&quot;rag&quot;</td><td>&quot;rouge_l&quot;</td><td>0.255143</td></tr><tr><td>&quot;860&quot;</td><td>&quot;baseline&quot;</td><td>&quot;rouge_l&quot;</td><td>0.165779</td></tr><tr><td>&quot;860&quot;</td><td>&quot;datamodels&quot;</td><td>&quot;rouge_l&quot;</td><td>0.341708</td></tr><tr><td>&quot;860&quot;</td><td>&quot;perplexity&quot;</td><td>&quot;rouge_l&quot;</td><td>0.002676</td></tr><tr><td>&quot;860&quot;</td><td>&quot;rag&quot;</td><td>&quot;rouge_l&quot;</td><td>0.202825</td></tr></tbody></table></div>"
      ],
      "text/plain": [
       "shape: (8, 4)\n",
       "┌──────┬────────────┬─────────┬──────────┐\n",
       "│ seed ┆ run_type   ┆ metric  ┆ mean     │\n",
       "│ ---  ┆ ---        ┆ ---     ┆ ---      │\n",
       "│ str  ┆ str        ┆ str     ┆ f64      │\n",
       "╞══════╪════════════╪═════════╪══════════╡\n",
       "│ 7270 ┆ baseline   ┆ rouge_l ┆ 0.286462 │\n",
       "│ 7270 ┆ datamodels ┆ rouge_l ┆ 0.328384 │\n",
       "│ 7270 ┆ perplexity ┆ rouge_l ┆ 0.009194 │\n",
       "│ 7270 ┆ rag        ┆ rouge_l ┆ 0.255143 │\n",
       "│ 860  ┆ baseline   ┆ rouge_l ┆ 0.165779 │\n",
       "│ 860  ┆ datamodels ┆ rouge_l ┆ 0.341708 │\n",
       "│ 860  ┆ perplexity ┆ rouge_l ┆ 0.002676 │\n",
       "│ 860  ┆ rag        ┆ rouge_l ┆ 0.202825 │\n",
       "└──────┴────────────┴─────────┴──────────┘"
      ]
     },
     "execution_count": 12,
     "metadata": {},
     "output_type": "execute_result"
    }
   ],
   "source": [
    "### Perplexity results\n",
    "\n",
    "_perplexitiy_results = []\n",
    "for f in os.listdir(\".\"):\n",
    "    if f.endswith(\"feather\"):\n",
    "        processsed_namefile = f.split(\".\")[0].split(\"result_\")[1]\n",
    "        seed = processsed_namefile.split(\"_\")[0]\n",
    "        run_type = processsed_namefile.split(\"_\")[1]\n",
    "        _perplexitiy_results.append(pl.read_ipc(f).with_columns(pl.lit(seed).alias(\"seed\"), pl.lit(run_type).alias(\"run_type\")))\n",
    "perplexity_results = pl.concat(_perplexitiy_results)\n",
    "perplexity_results.group_by(\"seed\", \"run_type\", \"metric\").agg(pl.col(\"mean\").mean()).sort(\"seed\", \"run_type\")"
   ]
  },
  {
   "cell_type": "code",
   "execution_count": null,
   "id": "59be6e6d",
   "metadata": {},
   "outputs": [],
   "source": [
    "import json\n",
    "\n",
    "for s in seeds:\n",
    "    rag_retrieval = json.load(open(f\"{s}/{datamodels_path}/retrieval/rag_retrieval_indexes.json\"))\n",
    "    per_datamodels_retrieval = json.load(open(f\"{datamodels_path}/retrieval/7270_indexes.json\"))\n",
    "    rou_datamodels_retrieval = json.load(open(\"rouge_indexes.json\"))"
   ]
  },
  {
   "cell_type": "code",
   "execution_count": 25,
   "id": "8eb15e99",
   "metadata": {},
   "outputs": [],
   "source": [
    "import numpy as np\n",
    "\n",
    "\n",
    "dicts = [rag_retrieval, per_datamodels_retrieval, rou_datamodels_retrieval]\n",
    "processed_dicts = []\n",
    "for d in dicts:\n",
    "    # Get values in order and convert to numpy array\n",
    "    array_50x100 = np.array([d[str(key)] for key in range(50)])\n",
    "    # Take first 16 elements\n",
    "    array_50x16 = array_50x100[:, 34:50]\n",
    "    # Convert back to list if needed (otherwise keep as numpy array)\n",
    "    processed_dicts.append(array_50x16.tolist())"
   ]
  },
  {
   "cell_type": "code",
   "execution_count": 26,
   "id": "0c29f522",
   "metadata": {},
   "outputs": [
    {
     "name": "stdout",
     "output_type": "stream",
     "text": [
      "7\n",
      "0\n",
      "0\n"
     ]
    }
   ],
   "source": [
    "from polars import count\n",
    "\n",
    "\n",
    "def count_matches_no_numpy(list_a, list_b):\n",
    "    matches = 0\n",
    "    for key in range(50):\n",
    "        for i in range(16):\n",
    "            if list_a[key][i] == list_b[key][i]:\n",
    "                matches += 1\n",
    "    return matches\n",
    "\n",
    "rag, per, rouge = processed_dicts\n",
    "\n",
    "print(count_matches_no_numpy(rag, per))\n",
    "print(count_matches_no_numpy(rag, rouge))\n",
    "print(count_matches_no_numpy(per, rouge))"
   ]
  }
 ],
 "metadata": {
  "kernelspec": {
   "display_name": "nq_dl",
   "language": "python",
   "name": "python3"
  },
  "language_info": {
   "codemirror_mode": {
    "name": "ipython",
    "version": 3
   },
   "file_extension": ".py",
   "mimetype": "text/x-python",
   "name": "python",
   "nbconvert_exporter": "python",
   "pygments_lexer": "ipython3",
   "version": "3.11.11"
  }
 },
 "nbformat": 4,
 "nbformat_minor": 5
}

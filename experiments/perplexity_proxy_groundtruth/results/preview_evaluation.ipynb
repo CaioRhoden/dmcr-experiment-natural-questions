{
 "cells": [
  {
   "cell_type": "markdown",
   "id": "eddb848c",
   "metadata": {},
   "source": [
    "# Preview Evaluation - Perplexity\n",
    "\n",
    "Thia is a notebook to make a preview comparison of the generations when using Perplexity as a metric for the Datamodels collections.  \n",
    "Important to notice, this notebook is considering onle ONE generation of 50 samples."
   ]
  },
  {
   "cell_type": "code",
   "execution_count": 1,
   "id": "64df10d3",
   "metadata": {},
   "outputs": [],
   "source": [
    "import polars as pl\n",
    "import seaborn as sns\n",
    "import matplotlib.pyplot as plt\n",
    "from utils.calculate_metric import calculate_agg_metric"
   ]
  },
  {
   "cell_type": "markdown",
   "id": "c0c31a25",
   "metadata": {},
   "source": [
    "## Calculate Metrics and save them"
   ]
  },
  {
   "cell_type": "code",
   "execution_count": 3,
   "id": "5adeaad2",
   "metadata": {},
   "outputs": [],
   "source": [
    "datamodels_path  = \"../dmrc_pipelines/7270\"\n",
    "questions_path = \"../../datamodels_training_window_size/experiments_7270/questions.feather\""
   ]
  },
  {
   "cell_type": "code",
   "execution_count": 4,
   "id": "9564eb4f",
   "metadata": {},
   "outputs": [],
   "source": [
    "calculate_agg_metric(\n",
    "    metrics=[\"rouge_l\"],\n",
    "    generation_path=f\"{datamodels_path}/generations/datamodels_generations.json\",\n",
    "    reference_path=questions_path,\n",
    "    saving_path=\"preview.feather\"\n",
    ")"
   ]
  },
  {
   "cell_type": "markdown",
   "id": "1ae8da9c",
   "metadata": {},
   "source": [
    "## Load Data"
   ]
  },
  {
   "cell_type": "code",
   "execution_count": 7,
   "id": "7879623c",
   "metadata": {},
   "outputs": [
    {
     "data": {
      "text/html": [
       "<div><style>\n",
       ".dataframe > thead > tr,\n",
       ".dataframe > tbody > tr {\n",
       "  text-align: right;\n",
       "  white-space: pre-wrap;\n",
       "}\n",
       "</style>\n",
       "<small>shape: (1, 1)</small><table border=\"1\" class=\"dataframe\"><thead><tr><th>mean</th></tr><tr><td>f64</td></tr></thead><tbody><tr><td>0.009194</td></tr></tbody></table></div>"
      ],
      "text/plain": [
       "shape: (1, 1)\n",
       "┌──────────┐\n",
       "│ mean     │\n",
       "│ ---      │\n",
       "│ f64      │\n",
       "╞══════════╡\n",
       "│ 0.009194 │\n",
       "└──────────┘"
      ]
     },
     "execution_count": 7,
     "metadata": {},
     "output_type": "execute_result"
    }
   ],
   "source": [
    "df = pl.read_ipc(\"preview.feather\")\n",
    "df.select(\"mean\").mean()"
   ]
  },
  {
   "cell_type": "code",
   "execution_count": 11,
   "id": "59be6e6d",
   "metadata": {},
   "outputs": [],
   "source": [
    "import json\n",
    "\n",
    "\n",
    "rag_retrieval = json.load(open(f\"{datamodels_path}/retrieval/rag_retrieval_indexes.json\"))\n",
    "per_datamodels_retrieval = json.load(open(f\"{datamodels_path}/retrieval/7270_indexes.json\"))\n",
    "rou_datamodels_retrieval = json.load(open(\"rouge_indexes.json\"))"
   ]
  },
  {
   "cell_type": "code",
   "execution_count": 25,
   "id": "8eb15e99",
   "metadata": {},
   "outputs": [],
   "source": [
    "import numpy as np\n",
    "\n",
    "\n",
    "dicts = [rag_retrieval, per_datamodels_retrieval, rou_datamodels_retrieval]\n",
    "processed_dicts = []\n",
    "for d in dicts:\n",
    "    # Get values in order and convert to numpy array\n",
    "    array_50x100 = np.array([d[str(key)] for key in range(50)])\n",
    "    # Take first 16 elements\n",
    "    array_50x16 = array_50x100[:, 34:50]\n",
    "    # Convert back to list if needed (otherwise keep as numpy array)\n",
    "    processed_dicts.append(array_50x16.tolist())"
   ]
  },
  {
   "cell_type": "code",
   "execution_count": 26,
   "id": "0c29f522",
   "metadata": {},
   "outputs": [
    {
     "name": "stdout",
     "output_type": "stream",
     "text": [
      "7\n",
      "0\n",
      "0\n"
     ]
    }
   ],
   "source": [
    "from polars import count\n",
    "\n",
    "\n",
    "def count_matches_no_numpy(list_a, list_b):\n",
    "    matches = 0\n",
    "    for key in range(50):\n",
    "        for i in range(16):\n",
    "            if list_a[key][i] == list_b[key][i]:\n",
    "                matches += 1\n",
    "    return matches\n",
    "\n",
    "rag, per, rouge = processed_dicts\n",
    "\n",
    "print(count_matches_no_numpy(rag, per))\n",
    "print(count_matches_no_numpy(rag, rouge))\n",
    "print(count_matches_no_numpy(per, rouge))"
   ]
  }
 ],
 "metadata": {
  "kernelspec": {
   "display_name": "nq_dl",
   "language": "python",
   "name": "python3"
  },
  "language_info": {
   "codemirror_mode": {
    "name": "ipython",
    "version": 3
   },
   "file_extension": ".py",
   "mimetype": "text/x-python",
   "name": "python",
   "nbconvert_exporter": "python",
   "pygments_lexer": "ipython3",
   "version": "3.11.11"
  }
 },
 "nbformat": 4,
 "nbformat_minor": 5
}

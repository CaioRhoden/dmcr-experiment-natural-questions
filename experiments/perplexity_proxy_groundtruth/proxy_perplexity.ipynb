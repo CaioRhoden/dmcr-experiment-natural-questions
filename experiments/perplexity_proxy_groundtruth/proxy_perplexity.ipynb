{
 "cells": [
  {
   "cell_type": "markdown",
   "id": "40fece82",
   "metadata": {},
   "source": [
    "# Proxy Perplexity\n",
    "\n",
    "The goal of this notebook is to unravel the feasibility of the usage of the perplexity metric as a proxy for the groundtruth metric dataset of 50 samples with genertions in the models Llama3.2-3B-Instruct using 5 different random generations.\n"
   ]
  },
  {
   "cell_type": "code",
   "execution_count": 2,
   "id": "a901bd1f",
   "metadata": {},
   "outputs": [],
   "source": [
    "import polars as pl\n",
    "import seaborn as sns\n",
    "import json\n",
    "import os"
   ]
  },
  {
   "cell_type": "markdown",
   "id": "0ef43404",
   "metadata": {},
   "source": [
    "### Importing Data"
   ]
  },
  {
   "cell_type": "code",
   "execution_count": 13,
   "id": "39a84279",
   "metadata": {},
   "outputs": [],
   "source": [
    "#### Import collections\n",
    "collections_list = []\n",
    "for dir in os.listdir(\"collections\"):\n",
    "    for file in os.listdir(f\"collections/{dir}\"):\n",
    "        collections_list.append(pl.read_ipc(f\"collections/{dir}/{file}\").with_columns(pl.lit(dir).alias(\"seed\")))\n",
    "collections = pl.concat(collections_list)\n",
    "\n",
    "    "
   ]
  },
  {
   "cell_type": "code",
   "execution_count": 12,
   "id": "967c6e34",
   "metadata": {},
   "outputs": [
    {
     "data": {
      "text/html": [
       "<div><style>\n",
       ".dataframe > thead > tr,\n",
       ".dataframe > tbody > tr {\n",
       "  text-align: right;\n",
       "  white-space: pre-wrap;\n",
       "}\n",
       "</style>\n",
       "<small>shape: (5, 5)</small><table border=\"1\" class=\"dataframe\"><thead><tr><th>collection_idx</th><th>test_idx</th><th>input</th><th>evaluation</th><th>seed</th></tr><tr><td>i64</td><td>i64</td><td>array[i64, 100]</td><td>f64</td><td>str</td></tr></thead><tbody><tr><td>1000</td><td>0</td><td>[0, 1, … 0]</td><td>0.0</td><td>&quot;7270&quot;</td></tr><tr><td>1000</td><td>1</td><td>[0, 1, … 0]</td><td>1.0</td><td>&quot;7270&quot;</td></tr><tr><td>1000</td><td>2</td><td>[0, 1, … 0]</td><td>1.0</td><td>&quot;7270&quot;</td></tr><tr><td>1000</td><td>3</td><td>[0, 1, … 0]</td><td>1.0</td><td>&quot;7270&quot;</td></tr><tr><td>1000</td><td>4</td><td>[0, 1, … 0]</td><td>1.0</td><td>&quot;7270&quot;</td></tr></tbody></table></div>"
      ],
      "text/plain": [
       "shape: (5, 5)\n",
       "┌────────────────┬──────────┬─────────────────┬────────────┬──────┐\n",
       "│ collection_idx ┆ test_idx ┆ input           ┆ evaluation ┆ seed │\n",
       "│ ---            ┆ ---      ┆ ---             ┆ ---        ┆ ---  │\n",
       "│ i64            ┆ i64      ┆ array[i64, 100] ┆ f64        ┆ str  │\n",
       "╞════════════════╪══════════╪═════════════════╪════════════╪══════╡\n",
       "│ 1000           ┆ 0        ┆ [0, 1, … 0]     ┆ 0.0        ┆ 7270 │\n",
       "│ 1000           ┆ 1        ┆ [0, 1, … 0]     ┆ 1.0        ┆ 7270 │\n",
       "│ 1000           ┆ 2        ┆ [0, 1, … 0]     ┆ 1.0        ┆ 7270 │\n",
       "│ 1000           ┆ 3        ┆ [0, 1, … 0]     ┆ 1.0        ┆ 7270 │\n",
       "│ 1000           ┆ 4        ┆ [0, 1, … 0]     ┆ 1.0        ┆ 7270 │\n",
       "└────────────────┴──────────┴─────────────────┴────────────┴──────┘"
      ]
     },
     "execution_count": 12,
     "metadata": {},
     "output_type": "execute_result"
    }
   ],
   "source": [
    "collections.head(5)"
   ]
  },
  {
   "cell_type": "code",
   "execution_count": 15,
   "id": "08d7f66b",
   "metadata": {},
   "outputs": [],
   "source": [
    "#### Import pre-collections\n",
    "pre_collections_list = []\n",
    "for dir in os.listdir(\"pre_collections\"):\n",
    "    for file in os.listdir(f\"pre_collections/{dir}\"):\n",
    "       pre_collections_list.append(pl.read_ipc(f\"pre_collections/{dir}/{file}\").with_columns(pl.lit(dir).alias(\"seed\")))\n",
    "pre_collections = pl.concat(pre_collections_list)"
   ]
  },
  {
   "cell_type": "code",
   "execution_count": 18,
   "id": "00635e0c",
   "metadata": {},
   "outputs": [
    {
     "data": {
      "text/html": [
       "<div><style>\n",
       ".dataframe > thead > tr,\n",
       ".dataframe > tbody > tr {\n",
       "  text-align: right;\n",
       "  white-space: pre-wrap;\n",
       "}\n",
       "</style>\n",
       "<small>shape: (5, 6)</small><table border=\"1\" class=\"dataframe\"><thead><tr><th>collection_idx</th><th>test_idx</th><th>input</th><th>predicted_output</th><th>true_output</th><th>seed</th></tr><tr><td>i64</td><td>i64</td><td>array[i64, 100]</td><td>str</td><td>list[str]</td><td>str</td></tr></thead><tbody><tr><td>1400</td><td>0</td><td>[0, 0, … 1]</td><td>&quot;Judith Keppel&quot;</td><td>[&quot;Judith Cynthia Aline Keppel&quot;]</td><td>&quot;7270&quot;</td></tr><tr><td>1400</td><td>1</td><td>[0, 0, … 1]</td><td>&quot;George W. Bush&quot;</td><td>[&quot;George W. Bush&quot;, &quot;Bush&quot;]</td><td>&quot;7270&quot;</td></tr><tr><td>1400</td><td>2</td><td>[0, 0, … 1]</td><td>&quot;Sammi Smith&quot;</td><td>[&quot;Kris Kristofferson&quot;]</td><td>&quot;7270&quot;</td></tr><tr><td>1400</td><td>3</td><td>[0, 0, … 1]</td><td>&quot;October 27, 1904.&quot;</td><td>[&quot;October 27 , 1904&quot;, &quot;1904&quot;]</td><td>&quot;7270&quot;</td></tr><tr><td>1400</td><td>4</td><td>[0, 0, … 1]</td><td>&quot;2004&quot;</td><td>[&quot;2004&quot;, &quot;February 25 , 2004&quot;]</td><td>&quot;7270&quot;</td></tr></tbody></table></div>"
      ],
      "text/plain": [
       "shape: (5, 6)\n",
       "┌────────────────┬──────────┬─────────────────┬───────────────────┬─────────────────────────┬──────┐\n",
       "│ collection_idx ┆ test_idx ┆ input           ┆ predicted_output  ┆ true_output             ┆ seed │\n",
       "│ ---            ┆ ---      ┆ ---             ┆ ---               ┆ ---                     ┆ ---  │\n",
       "│ i64            ┆ i64      ┆ array[i64, 100] ┆ str               ┆ list[str]               ┆ str  │\n",
       "╞════════════════╪══════════╪═════════════════╪═══════════════════╪═════════════════════════╪══════╡\n",
       "│ 1400           ┆ 0        ┆ [0, 0, … 1]     ┆ Judith Keppel     ┆ [\"Judith Cynthia Aline  ┆ 7270 │\n",
       "│                ┆          ┆                 ┆                   ┆ Keppel\"…                ┆      │\n",
       "│ 1400           ┆ 1        ┆ [0, 0, … 1]     ┆ George W. Bush    ┆ [\"George W. Bush\",      ┆ 7270 │\n",
       "│                ┆          ┆                 ┆                   ┆ \"Bush\"]                 ┆      │\n",
       "│ 1400           ┆ 2        ┆ [0, 0, … 1]     ┆ Sammi Smith       ┆ [\"Kris Kristofferson\"]  ┆ 7270 │\n",
       "│ 1400           ┆ 3        ┆ [0, 0, … 1]     ┆ October 27, 1904. ┆ [\"October 27 , 1904\",   ┆ 7270 │\n",
       "│                ┆          ┆                 ┆                   ┆ \"1904\"]                 ┆      │\n",
       "│ 1400           ┆ 4        ┆ [0, 0, … 1]     ┆ 2004              ┆ [\"2004\", \"February 25 , ┆ 7270 │\n",
       "│                ┆          ┆                 ┆                   ┆ 2004\"]                  ┆      │\n",
       "└────────────────┴──────────┴─────────────────┴───────────────────┴─────────────────────────┴──────┘"
      ]
     },
     "execution_count": 18,
     "metadata": {},
     "output_type": "execute_result"
    }
   ],
   "source": [
    "pre_collections.head(5)"
   ]
  }
 ],
 "metadata": {
  "kernelspec": {
   "display_name": "nq_dl",
   "language": "python",
   "name": "python3"
  },
  "language_info": {
   "codemirror_mode": {
    "name": "ipython",
    "version": 3
   },
   "file_extension": ".py",
   "mimetype": "text/x-python",
   "name": "python",
   "nbconvert_exporter": "python",
   "pygments_lexer": "ipython3",
   "version": "3.11.11"
  }
 },
 "nbformat": 4,
 "nbformat_minor": 5
}

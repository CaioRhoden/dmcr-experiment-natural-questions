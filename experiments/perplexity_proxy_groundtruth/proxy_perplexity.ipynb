{
 "cells": [
  {
   "cell_type": "markdown",
   "id": "40fece82",
   "metadata": {},
   "source": [
    "# Proxy Perplexity\n",
    "\n",
    "The goal of this notebook is to unravel the feasibility of the usage of the perplexity metric as a proxy for the groundtruth metric dataset of 50 samples with genertions in the models Llama3.2-3B-Instruct using 5 different random generations.\n"
   ]
  },
  {
   "cell_type": "code",
   "execution_count": 1,
   "id": "a901bd1f",
   "metadata": {},
   "outputs": [
    {
     "name": "stderr",
     "output_type": "stream",
     "text": [
      "/home/caio.rhoden/miniconda3/envs/nq_dl/lib/python3.11/site-packages/tqdm/auto.py:21: TqdmWarning: IProgress not found. Please update jupyter and ipywidgets. See https://ipywidgets.readthedocs.io/en/stable/user_install.html\n",
      "  from .autonotebook import tqdm as notebook_tqdm\n"
     ]
    }
   ],
   "source": [
    "import polars as pl\n",
    "import seaborn as sns\n",
    "import json\n",
    "import os\n",
    "from utils.calculate_perplexity import calculate_perplexity\n",
    "\n",
    "os.environ[\"CUDA_VISIBLE_DEVICES\"] = \"2\""
   ]
  },
  {
   "cell_type": "markdown",
   "id": "0ef43404",
   "metadata": {},
   "source": [
    "### Importing Data"
   ]
  },
  {
   "cell_type": "code",
   "execution_count": 2,
   "id": "39a84279",
   "metadata": {},
   "outputs": [],
   "source": [
    "#### Import collections\n",
    "collections_list = []\n",
    "for dir in os.listdir(\"collections\"):\n",
    "    for file in os.listdir(f\"collections/{dir}\"):\n",
    "        collections_list.append(pl.read_ipc(f\"collections/{dir}/{file}\").with_columns(pl.lit(dir).alias(\"seed\")))\n",
    "collections = pl.concat(collections_list)\n",
    "\n",
    "    "
   ]
  },
  {
   "cell_type": "code",
   "execution_count": 3,
   "id": "967c6e34",
   "metadata": {},
   "outputs": [
    {
     "data": {
      "text/html": [
       "<div><style>\n",
       ".dataframe > thead > tr,\n",
       ".dataframe > tbody > tr {\n",
       "  text-align: right;\n",
       "  white-space: pre-wrap;\n",
       "}\n",
       "</style>\n",
       "<small>shape: (5, 5)</small><table border=\"1\" class=\"dataframe\"><thead><tr><th>collection_idx</th><th>test_idx</th><th>input</th><th>evaluation</th><th>seed</th></tr><tr><td>i64</td><td>i64</td><td>array[i64, 100]</td><td>f64</td><td>str</td></tr></thead><tbody><tr><td>1000</td><td>0</td><td>[0, 1, … 0]</td><td>0.0</td><td>&quot;7270&quot;</td></tr><tr><td>1000</td><td>1</td><td>[0, 1, … 0]</td><td>1.0</td><td>&quot;7270&quot;</td></tr><tr><td>1000</td><td>2</td><td>[0, 1, … 0]</td><td>1.0</td><td>&quot;7270&quot;</td></tr><tr><td>1000</td><td>3</td><td>[0, 1, … 0]</td><td>1.0</td><td>&quot;7270&quot;</td></tr><tr><td>1000</td><td>4</td><td>[0, 1, … 0]</td><td>1.0</td><td>&quot;7270&quot;</td></tr></tbody></table></div>"
      ],
      "text/plain": [
       "shape: (5, 5)\n",
       "┌────────────────┬──────────┬─────────────────┬────────────┬──────┐\n",
       "│ collection_idx ┆ test_idx ┆ input           ┆ evaluation ┆ seed │\n",
       "│ ---            ┆ ---      ┆ ---             ┆ ---        ┆ ---  │\n",
       "│ i64            ┆ i64      ┆ array[i64, 100] ┆ f64        ┆ str  │\n",
       "╞════════════════╪══════════╪═════════════════╪════════════╪══════╡\n",
       "│ 1000           ┆ 0        ┆ [0, 1, … 0]     ┆ 0.0        ┆ 7270 │\n",
       "│ 1000           ┆ 1        ┆ [0, 1, … 0]     ┆ 1.0        ┆ 7270 │\n",
       "│ 1000           ┆ 2        ┆ [0, 1, … 0]     ┆ 1.0        ┆ 7270 │\n",
       "│ 1000           ┆ 3        ┆ [0, 1, … 0]     ┆ 1.0        ┆ 7270 │\n",
       "│ 1000           ┆ 4        ┆ [0, 1, … 0]     ┆ 1.0        ┆ 7270 │\n",
       "└────────────────┴──────────┴─────────────────┴────────────┴──────┘"
      ]
     },
     "execution_count": 3,
     "metadata": {},
     "output_type": "execute_result"
    }
   ],
   "source": [
    "collections.head(5)"
   ]
  },
  {
   "cell_type": "code",
   "execution_count": 4,
   "id": "08d7f66b",
   "metadata": {},
   "outputs": [],
   "source": [
    "#### Import pre-collections\n",
    "pre_collections_list = []\n",
    "for dir in os.listdir(\"pre_collections\"):\n",
    "    for file in os.listdir(f\"pre_collections/{dir}\"):\n",
    "       pre_collections_list.append(pl.read_ipc(f\"pre_collections/{dir}/{file}\").with_columns(pl.lit(dir).alias(\"seed\")))\n",
    "pre_collections = pl.concat(pre_collections_list)"
   ]
  },
  {
   "cell_type": "code",
   "execution_count": 5,
   "id": "00635e0c",
   "metadata": {},
   "outputs": [
    {
     "data": {
      "text/html": [
       "<div><style>\n",
       ".dataframe > thead > tr,\n",
       ".dataframe > tbody > tr {\n",
       "  text-align: right;\n",
       "  white-space: pre-wrap;\n",
       "}\n",
       "</style>\n",
       "<small>shape: (5, 6)</small><table border=\"1\" class=\"dataframe\"><thead><tr><th>collection_idx</th><th>test_idx</th><th>input</th><th>predicted_output</th><th>true_output</th><th>seed</th></tr><tr><td>i64</td><td>i64</td><td>array[i64, 100]</td><td>str</td><td>list[str]</td><td>str</td></tr></thead><tbody><tr><td>1400</td><td>0</td><td>[0, 0, … 1]</td><td>&quot;Judith Keppel&quot;</td><td>[&quot;Judith Cynthia Aline Keppel&quot;]</td><td>&quot;7270&quot;</td></tr><tr><td>1400</td><td>1</td><td>[0, 0, … 1]</td><td>&quot;George W. Bush&quot;</td><td>[&quot;George W. Bush&quot;, &quot;Bush&quot;]</td><td>&quot;7270&quot;</td></tr><tr><td>1400</td><td>2</td><td>[0, 0, … 1]</td><td>&quot;Sammi Smith&quot;</td><td>[&quot;Kris Kristofferson&quot;]</td><td>&quot;7270&quot;</td></tr><tr><td>1400</td><td>3</td><td>[0, 0, … 1]</td><td>&quot;October 27, 1904.&quot;</td><td>[&quot;October 27 , 1904&quot;, &quot;1904&quot;]</td><td>&quot;7270&quot;</td></tr><tr><td>1400</td><td>4</td><td>[0, 0, … 1]</td><td>&quot;2004&quot;</td><td>[&quot;2004&quot;, &quot;February 25 , 2004&quot;]</td><td>&quot;7270&quot;</td></tr></tbody></table></div>"
      ],
      "text/plain": [
       "shape: (5, 6)\n",
       "┌────────────────┬──────────┬─────────────────┬───────────────────┬─────────────────────────┬──────┐\n",
       "│ collection_idx ┆ test_idx ┆ input           ┆ predicted_output  ┆ true_output             ┆ seed │\n",
       "│ ---            ┆ ---      ┆ ---             ┆ ---               ┆ ---                     ┆ ---  │\n",
       "│ i64            ┆ i64      ┆ array[i64, 100] ┆ str               ┆ list[str]               ┆ str  │\n",
       "╞════════════════╪══════════╪═════════════════╪═══════════════════╪═════════════════════════╪══════╡\n",
       "│ 1400           ┆ 0        ┆ [0, 0, … 1]     ┆ Judith Keppel     ┆ [\"Judith Cynthia Aline  ┆ 7270 │\n",
       "│                ┆          ┆                 ┆                   ┆ Keppel\"…                ┆      │\n",
       "│ 1400           ┆ 1        ┆ [0, 0, … 1]     ┆ George W. Bush    ┆ [\"George W. Bush\",      ┆ 7270 │\n",
       "│                ┆          ┆                 ┆                   ┆ \"Bush\"]                 ┆      │\n",
       "│ 1400           ┆ 2        ┆ [0, 0, … 1]     ┆ Sammi Smith       ┆ [\"Kris Kristofferson\"]  ┆ 7270 │\n",
       "│ 1400           ┆ 3        ┆ [0, 0, … 1]     ┆ October 27, 1904. ┆ [\"October 27 , 1904\",   ┆ 7270 │\n",
       "│                ┆          ┆                 ┆                   ┆ \"1904\"]                 ┆      │\n",
       "│ 1400           ┆ 4        ┆ [0, 0, … 1]     ┆ 2004              ┆ [\"2004\", \"February 25 , ┆ 7270 │\n",
       "│                ┆          ┆                 ┆                   ┆ 2004\"]                  ┆      │\n",
       "└────────────────┴──────────┴─────────────────┴───────────────────┴─────────────────────────┴──────┘"
      ]
     },
     "execution_count": 5,
     "metadata": {},
     "output_type": "execute_result"
    }
   ],
   "source": [
    "pre_collections.head(5)"
   ]
  },
  {
   "cell_type": "code",
   "execution_count": 6,
   "id": "c9f352cc",
   "metadata": {},
   "outputs": [
    {
     "data": {
      "text/html": [
       "<div><style>\n",
       ".dataframe > thead > tr,\n",
       ".dataframe > tbody > tr {\n",
       "  text-align: right;\n",
       "  white-space: pre-wrap;\n",
       "}\n",
       "</style>\n",
       "<small>shape: (3, 3)</small><table border=\"1\" class=\"dataframe\"><thead><tr><th>idx</th><th>text</th><th>title</th></tr><tr><td>u32</td><td>str</td><td>str</td></tr></thead><tbody><tr><td>0</td><td>&quot;Aaron Aaron ( or ; &quot;Ahärôn&quot;) i…</td><td>&quot;Aaron&quot;</td></tr><tr><td>1</td><td>&quot;God at Sinai granted Aaron the…</td><td>&quot;Aaron&quot;</td></tr><tr><td>2</td><td>&quot;his rod turn into a snake. The…</td><td>&quot;Aaron&quot;</td></tr></tbody></table></div>"
      ],
      "text/plain": [
       "shape: (3, 3)\n",
       "┌─────┬─────────────────────────────────┬───────┐\n",
       "│ idx ┆ text                            ┆ title │\n",
       "│ --- ┆ ---                             ┆ ---   │\n",
       "│ u32 ┆ str                             ┆ str   │\n",
       "╞═════╪═════════════════════════════════╪═══════╡\n",
       "│ 0   ┆ Aaron Aaron ( or ; \"Ahärôn\") i… ┆ Aaron │\n",
       "│ 1   ┆ God at Sinai granted Aaron the… ┆ Aaron │\n",
       "│ 2   ┆ his rod turn into a snake. The… ┆ Aaron │\n",
       "└─────┴─────────────────────────────────┴───────┘"
      ]
     },
     "execution_count": 6,
     "metadata": {},
     "output_type": "execute_result"
    }
   ],
   "source": [
    "## wiki import\n",
    "WIKI_PATH = \"../../data/wiki_dump2018_nq_open/processed/wiki.feather\"\n",
    "wiki = pl.read_ipc(WIKI_PATH).with_row_index(\"idx\")\n",
    "wiki.head(3)"
   ]
  },
  {
   "cell_type": "code",
   "execution_count": 7,
   "id": "e9ed5083",
   "metadata": {},
   "outputs": [
    {
     "name": "stdout",
     "output_type": "stream",
     "text": [
      "dict_keys(['7270'])\n"
     ]
    }
   ],
   "source": [
    "retrievals_idx = {}\n",
    "for dir in os.listdir(\"retrieval\"):\n",
    "    for file in os.listdir(f\"retrieval/{dir}\"):\n",
    "        retrievals_idx[dir] = json.load(open(f\"retrieval/{dir}/{file}\"))\n",
    "print(retrievals_idx.keys())"
   ]
  },
  {
   "cell_type": "code",
   "execution_count": 8,
   "id": "18065de1",
   "metadata": {},
   "outputs": [
    {
     "data": {
      "text/html": [
       "<div><style>\n",
       ".dataframe > thead > tr,\n",
       ".dataframe > tbody > tr {\n",
       "  text-align: right;\n",
       "  white-space: pre-wrap;\n",
       "}\n",
       "</style>\n",
       "<small>shape: (3, 3)</small><table border=\"1\" class=\"dataframe\"><thead><tr><th>idx</th><th>text</th><th>title</th></tr><tr><td>u32</td><td>str</td><td>str</td></tr></thead><tbody><tr><td>0</td><td>&quot;Aaron Aaron ( or ; &quot;Ahärôn&quot;) i…</td><td>&quot;Aaron&quot;</td></tr><tr><td>1</td><td>&quot;God at Sinai granted Aaron the…</td><td>&quot;Aaron&quot;</td></tr><tr><td>2</td><td>&quot;his rod turn into a snake. The…</td><td>&quot;Aaron&quot;</td></tr></tbody></table></div>"
      ],
      "text/plain": [
       "shape: (3, 3)\n",
       "┌─────┬─────────────────────────────────┬───────┐\n",
       "│ idx ┆ text                            ┆ title │\n",
       "│ --- ┆ ---                             ┆ ---   │\n",
       "│ u32 ┆ str                             ┆ str   │\n",
       "╞═════╪═════════════════════════════════╪═══════╡\n",
       "│ 0   ┆ Aaron Aaron ( or ; \"Ahärôn\") i… ┆ Aaron │\n",
       "│ 1   ┆ God at Sinai granted Aaron the… ┆ Aaron │\n",
       "│ 2   ┆ his rod turn into a snake. The… ┆ Aaron │\n",
       "└─────┴─────────────────────────────────┴───────┘"
      ]
     },
     "execution_count": 8,
     "metadata": {},
     "output_type": "execute_result"
    }
   ],
   "source": [
    "## wiki import\n",
    "WIKI_PATH = \"../../data/wiki_dump2018_nq_open/processed/wiki.feather\"\n",
    "wiki = pl.read_ipc(WIKI_PATH).with_row_index(\"idx\")\n",
    "wiki.head(3)"
   ]
  },
  {
   "cell_type": "code",
   "execution_count": 9,
   "id": "8ed9e8c5",
   "metadata": {},
   "outputs": [
    {
     "data": {
      "text/html": [
       "<div><style>\n",
       ".dataframe > thead > tr,\n",
       ".dataframe > tbody > tr {\n",
       "  text-align: right;\n",
       "  white-space: pre-wrap;\n",
       "}\n",
       "</style>\n",
       "<small>shape: (3, 6)</small><table border=\"1\" class=\"dataframe\"><thead><tr><th>idx</th><th>example_id</th><th>question</th><th>answers</th><th>text</th><th>idx_gold_in_corpus</th></tr><tr><td>u32</td><td>i64</td><td>str</td><td>list[str]</td><td>str</td><td>i64</td></tr></thead><tbody><tr><td>0</td><td>-3290814144789249484</td><td>&quot;who got the first nobel prize …</td><td>[&quot;Wilhelm Conrad Röntgen&quot;]</td><td>&quot;The first Nobel Prize in Physi…</td><td>20994698</td></tr><tr><td>1</td><td>8851020722386421469</td><td>&quot;when is the next deadpool movi…</td><td>[&quot;May 18 , 2018&quot;]</td><td>&quot;Deadpool 2 is scheduled to be …</td><td>21032933</td></tr><tr><td>2</td><td>955374967862684316</td><td>&quot;the south west wind blows acro…</td><td>[&quot;till September&quot;]</td><td>&quot;With the Intertropical Converg…</td><td>21032934</td></tr></tbody></table></div>"
      ],
      "text/plain": [
       "shape: (3, 6)\n",
       "┌─────┬───────────────────┬───────────────────┬─────────────┬───────────────────┬──────────────────┐\n",
       "│ idx ┆ example_id        ┆ question          ┆ answers     ┆ text              ┆ idx_gold_in_corp │\n",
       "│ --- ┆ ---               ┆ ---               ┆ ---         ┆ ---               ┆ us               │\n",
       "│ u32 ┆ i64               ┆ str               ┆ list[str]   ┆ str               ┆ ---              │\n",
       "│     ┆                   ┆                   ┆             ┆                   ┆ i64              │\n",
       "╞═════╪═══════════════════╪═══════════════════╪═════════════╪═══════════════════╪══════════════════╡\n",
       "│ 0   ┆ -3290814144789249 ┆ who got the first ┆ [\"Wilhelm   ┆ The first Nobel   ┆ 20994698         │\n",
       "│     ┆ 484               ┆ nobel prize …     ┆ Conrad      ┆ Prize in Physi…   ┆                  │\n",
       "│     ┆                   ┆                   ┆ Röntgen\"]   ┆                   ┆                  │\n",
       "│ 1   ┆ 88510207223864214 ┆ when is the next  ┆ [\"May 18 ,  ┆ Deadpool 2 is     ┆ 21032933         │\n",
       "│     ┆ 69                ┆ deadpool movi…    ┆ 2018\"]      ┆ scheduled to be … ┆                  │\n",
       "│ 2   ┆ 95537496786268431 ┆ the south west    ┆ [\"till      ┆ With the          ┆ 21032934         │\n",
       "│     ┆ 6                 ┆ wind blows acro…  ┆ September\"] ┆ Intertropical     ┆                  │\n",
       "│     ┆                   ┆                   ┆             ┆ Converg…          ┆                  │\n",
       "└─────┴───────────────────┴───────────────────┴─────────────┴───────────────────┴──────────────────┘"
      ]
     },
     "execution_count": 9,
     "metadata": {},
     "output_type": "execute_result"
    }
   ],
   "source": [
    "## wiki import\n",
    "QUESTIONS_PATH = \"../../data/nq_open_gold/processed/test.feather\"\n",
    "questions = pl.read_ipc(QUESTIONS_PATH).with_row_index(\"idx\")\n",
    "questions.head(3)"
   ]
  },
  {
   "cell_type": "markdown",
   "id": "46fb2b32",
   "metadata": {},
   "source": [
    "## Estimation of Differential Perplexity - Singe Sample"
   ]
  },
  {
   "cell_type": "code",
   "execution_count": 10,
   "id": "4693c177",
   "metadata": {},
   "outputs": [
    {
     "data": {
      "text/html": [
       "<div><style>\n",
       ".dataframe > thead > tr,\n",
       ".dataframe > tbody > tr {\n",
       "  text-align: right;\n",
       "  white-space: pre-wrap;\n",
       "}\n",
       "</style>\n",
       "<small>shape: (1_657, 5)</small><table border=\"1\" class=\"dataframe\"><thead><tr><th>collection_idx</th><th>test_idx</th><th>input</th><th>evaluation</th><th>seed</th></tr><tr><td>i64</td><td>i64</td><td>array[i64, 100]</td><td>f64</td><td>str</td></tr></thead><tbody><tr><td>1000</td><td>3</td><td>[0, 1, … 0]</td><td>1.0</td><td>&quot;7270&quot;</td></tr><tr><td>1001</td><td>3</td><td>[0, 1, … 0]</td><td>1.0</td><td>&quot;7270&quot;</td></tr><tr><td>1002</td><td>3</td><td>[0, 0, … 0]</td><td>1.0</td><td>&quot;7270&quot;</td></tr><tr><td>1003</td><td>3</td><td>[0, 0, … 0]</td><td>1.0</td><td>&quot;7270&quot;</td></tr><tr><td>1004</td><td>3</td><td>[0, 0, … 0]</td><td>1.0</td><td>&quot;7270&quot;</td></tr><tr><td>&hellip;</td><td>&hellip;</td><td>&hellip;</td><td>&hellip;</td><td>&hellip;</td></tr><tr><td>995</td><td>3</td><td>[0, 0, … 0]</td><td>1.0</td><td>&quot;7270&quot;</td></tr><tr><td>996</td><td>3</td><td>[0, 0, … 0]</td><td>1.0</td><td>&quot;7270&quot;</td></tr><tr><td>997</td><td>3</td><td>[1, 0, … 0]</td><td>1.0</td><td>&quot;7270&quot;</td></tr><tr><td>998</td><td>3</td><td>[0, 1, … 0]</td><td>1.0</td><td>&quot;7270&quot;</td></tr><tr><td>999</td><td>3</td><td>[1, 0, … 0]</td><td>1.0</td><td>&quot;7270&quot;</td></tr></tbody></table></div>"
      ],
      "text/plain": [
       "shape: (1_657, 5)\n",
       "┌────────────────┬──────────┬─────────────────┬────────────┬──────┐\n",
       "│ collection_idx ┆ test_idx ┆ input           ┆ evaluation ┆ seed │\n",
       "│ ---            ┆ ---      ┆ ---             ┆ ---        ┆ ---  │\n",
       "│ i64            ┆ i64      ┆ array[i64, 100] ┆ f64        ┆ str  │\n",
       "╞════════════════╪══════════╪═════════════════╪════════════╪══════╡\n",
       "│ 1000           ┆ 3        ┆ [0, 1, … 0]     ┆ 1.0        ┆ 7270 │\n",
       "│ 1001           ┆ 3        ┆ [0, 1, … 0]     ┆ 1.0        ┆ 7270 │\n",
       "│ 1002           ┆ 3        ┆ [0, 0, … 0]     ┆ 1.0        ┆ 7270 │\n",
       "│ 1003           ┆ 3        ┆ [0, 0, … 0]     ┆ 1.0        ┆ 7270 │\n",
       "│ 1004           ┆ 3        ┆ [0, 0, … 0]     ┆ 1.0        ┆ 7270 │\n",
       "│ …              ┆ …        ┆ …               ┆ …          ┆ …    │\n",
       "│ 995            ┆ 3        ┆ [0, 0, … 0]     ┆ 1.0        ┆ 7270 │\n",
       "│ 996            ┆ 3        ┆ [0, 0, … 0]     ┆ 1.0        ┆ 7270 │\n",
       "│ 997            ┆ 3        ┆ [1, 0, … 0]     ┆ 1.0        ┆ 7270 │\n",
       "│ 998            ┆ 3        ┆ [0, 1, … 0]     ┆ 1.0        ┆ 7270 │\n",
       "│ 999            ┆ 3        ┆ [1, 0, … 0]     ┆ 1.0        ┆ 7270 │\n",
       "└────────────────┴──────────┴─────────────────┴────────────┴──────┘"
      ]
     },
     "execution_count": 10,
     "metadata": {},
     "output_type": "execute_result"
    }
   ],
   "source": [
    "collections.filter(pl.col(\"test_idx\") == 3).filter(pl.col(\"evaluation\") == 1)"
   ]
  },
  {
   "cell_type": "code",
   "execution_count": 11,
   "id": "b5afafb4",
   "metadata": {},
   "outputs": [
    {
     "name": "stderr",
     "output_type": "stream",
     "text": [
      "Loading checkpoint shards: 100%|██████████| 2/2 [00:02<00:00,  1.09s/it]\n"
     ]
    }
   ],
   "source": [
    "from transformers import AutoTokenizer, AutoModelForCausalLM\n",
    "from accelerate import Accelerator\n",
    "import torch\n",
    "\n",
    "\n",
    "\n",
    "model_path = \"../../models/llms/Llama-3.2-3B-Instruct\"\n",
    "tokenizer = AutoTokenizer.from_pretrained(model_path)\n",
    "model = AutoModelForCausalLM.from_pretrained(model_path,  device_map={\"\": Accelerator().process_index}, torch_dtype=torch.bfloat16,)\n"
   ]
  },
  {
   "cell_type": "code",
   "execution_count": 12,
   "id": "ce262ee0",
   "metadata": {},
   "outputs": [
    {
     "data": {
      "text/plain": [
       "'what does hp mean in war and order'"
      ]
     },
     "execution_count": 12,
     "metadata": {},
     "output_type": "execute_result"
    }
   ],
   "source": [
    "questions[3].select(\"question\").item()"
   ]
  },
  {
   "cell_type": "code",
   "execution_count": null,
   "id": "49e7b07f",
   "metadata": {},
   "outputs": [
    {
     "data": {
      "text/plain": [
       "217.00242614746094"
      ]
     },
     "execution_count": 13,
     "metadata": {},
     "output_type": "execute_result"
    }
   ],
   "source": [
    "base_perplexity = calculate_perplexity(\n",
    "    questions[3].select(\"question\").item(),\n",
    "    model,\n",
    "    tokenizer,\n",
    "    device=Accelerator().device\n",
    ")\n",
    "base_perplexity"
   ]
  },
  {
   "cell_type": "code",
   "execution_count": 17,
   "id": "172c916d",
   "metadata": {},
   "outputs": [
    {
     "data": {
      "text/plain": [
       "708.57763671875"
      ]
     },
     "execution_count": 17,
     "metadata": {},
     "output_type": "execute_result"
    }
   ],
   "source": [
    "calculate_perplexity(\n",
    "    questions[3].select(\"question\").item(),\n",
    "    model,\n",
    "    tokenizer,\n",
    "    context=\"Abacate, cirugia, RIndônia, platerlmito, 23\",\n",
    "    device=Accelerator().device\n",
    ")"
   ]
  },
  {
   "cell_type": "code",
   "execution_count": null,
   "id": "28857ecb",
   "metadata": {},
   "outputs": [],
   "source": []
  }
 ],
 "metadata": {
  "kernelspec": {
   "display_name": "nq_dl",
   "language": "python",
   "name": "python3"
  },
  "language_info": {
   "codemirror_mode": {
    "name": "ipython",
    "version": 3
   },
   "file_extension": ".py",
   "mimetype": "text/x-python",
   "name": "python",
   "nbconvert_exporter": "python",
   "pygments_lexer": "ipython3",
   "version": "3.11.11"
  }
 },
 "nbformat": 4,
 "nbformat_minor": 5
}

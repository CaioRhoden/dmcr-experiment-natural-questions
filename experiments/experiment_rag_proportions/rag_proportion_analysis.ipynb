{
 "cells": [
  {
   "cell_type": "markdown",
   "id": "f18f20c8",
   "metadata": {},
   "source": [
    "# RAG Proportion Analysis\n",
    "\n",
    "Here we will evaluate the behavior of the collections when using 25, 50 and 100 examples as subset provided by the RAG to perform the re-ranking  \n",
    "The goal is to undestand if concetration of retrieved examples can improve the datamodels training"
   ]
  },
  {
   "cell_type": "code",
   "execution_count": 1,
   "id": "3e432de2",
   "metadata": {},
   "outputs": [
    {
     "name": "stdout",
     "output_type": "stream",
     "text": [
      "Number of GPUs available: 1\n",
      "GPU 0: Tesla T4\n"
     ]
    }
   ],
   "source": [
    "\n",
    "import os\n",
    "import random\n",
    "import numpy as np\n",
    "import torch\n",
    "\n",
    "import json\n",
    "import polars as pl\n",
    "import seaborn as sns\n",
    "import matplotlib.pyplot as plt\n",
    "import numpy as np\n",
    "os.environ[\"CUDA_VISIBLE_DEVICES\"] = \"0\"\n",
    "seed = 42\n",
    "\n",
    "torch.backends.cudnn.enabled = False\n",
    "# NumPy\n",
    "np.random.seed(seed)\n",
    "random.seed(seed)\n",
    "# PyTorch\n",
    "torch.manual_seed(seed)\n",
    "if torch.cuda.is_available():\n",
    "    torch.cuda.manual_seed(seed)\n",
    "    torch.cuda.manual_seed_all(seed)\n",
    "    torch.backends.cudnn.deterministic = True\n",
    "    torch.backends.cudnn.benchmark = False\n",
    "\n",
    "\n",
    "\n",
    "if torch.cuda.is_available():\n",
    "    print(f\"Number of GPUs available: {torch.cuda.device_count()}\")\n",
    "    for i in range(torch.cuda.device_count()):\n",
    "        print(f\"GPU {i}: {torch.cuda.get_device_name(i)}\")\n",
    "\n",
    "device = torch.device(\"cuda:0\" if torch.cuda.is_available() else \"cpu\")\n"
   ]
  },
  {
   "cell_type": "markdown",
   "id": "5d31b1c0",
   "metadata": {},
   "source": [
    "## Loading data"
   ]
  },
  {
   "cell_type": "code",
   "execution_count": null,
   "id": "185bbd21",
   "metadata": {},
   "outputs": [],
   "source": [
    "paths = [\"rag_25\", \"rag_50\", \"rag_100\"]\n",
    "collections = []\n",
    "for collection_path in paths:\n",
    "    dir_path = f\"{collection_path}/datamodels/collections/train\"\n",
    "    for file in os.listdir(dir_path):\n",
    "        collection = pl.read_ipc(os.path.join(dir_path, file))\n",
    "        collection.with_columns(\n",
    "            pl.lit(f\"{collection_path}\").alias(\"rag_subset\"),\n",
    "            pl.lit(\"train\").alias(\"split\"),\n",
    "        )\n",
    "    collections.append(collection)\n",
    "\n",
    "    dir_path = f\"{collection_path}/datamodels/collections/test\"\n",
    "    for file in os.listdir(dir_path):\n",
    "        collection = pl.read_ipc(os.path.join(dir_path, file))\n",
    "        collection.with_columns(\n",
    "            pl.lit(f\"{collection_path}\").alias(\"rag_subset\"),\n",
    "            pl.lit(\"train\").alias(\"split\"),\n",
    "        )\n",
    "    collections.append(collection)\n"
   ]
  }
 ],
 "metadata": {
  "kernelspec": {
   "display_name": "nq",
   "language": "python",
   "name": "python3"
  },
  "language_info": {
   "codemirror_mode": {
    "name": "ipython",
    "version": 3
   },
   "file_extension": ".py",
   "mimetype": "text/x-python",
   "name": "python",
   "nbconvert_exporter": "python",
   "pygments_lexer": "ipython3",
   "version": "3.11.11"
  }
 },
 "nbformat": 4,
 "nbformat_minor": 5
}

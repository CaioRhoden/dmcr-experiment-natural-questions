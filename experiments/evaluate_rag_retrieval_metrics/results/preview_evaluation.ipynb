{
 "cells": [
  {
   "cell_type": "markdown",
   "id": "eddb848c",
   "metadata": {},
   "source": [
    "# Preview Evaluation - Perplexity\n",
    "\n",
    "Thia is a notebook to make a preview comparison of the generations when using LLM JUDGE"
   ]
  },
  {
   "cell_type": "code",
   "execution_count": 1,
   "id": "64df10d3",
   "metadata": {},
   "outputs": [
    {
     "name": "stderr",
     "output_type": "stream",
     "text": [
      "/home/caio.rhoden/miniconda3/envs/nq_dl/lib/python3.11/site-packages/tqdm/auto.py:21: TqdmWarning: IProgress not found. Please update jupyter and ipywidgets. See https://ipywidgets.readthedocs.io/en/stable/user_install.html\n",
      "  from .autonotebook import tqdm as notebook_tqdm\n"
     ]
    }
   ],
   "source": [
    "import polars as pl\n",
    "import seaborn as sns\n",
    "import matplotlib.pyplot as plt\n",
    "from utils.metrics.calculate_metric import calculate_agg_metric\n",
    "import os\n",
    "import numpy as np\n",
    "import json"
   ]
  },
  {
   "cell_type": "markdown",
   "id": "c0c31a25",
   "metadata": {},
   "source": [
    "## Calculate Metrics and save them"
   ]
  },
  {
   "cell_type": "code",
   "execution_count": 4,
   "id": "5adeaad2",
   "metadata": {},
   "outputs": [],
   "source": [
    "rag_metrics = [\"ip\", \"l2\", \"cosine\"]\n",
    "path  = \"experiments\""
   ]
  },
  {
   "cell_type": "code",
   "execution_count": 5,
   "id": "9564eb4f",
   "metadata": {},
   "outputs": [
    {
     "name": "stdout",
     "output_type": "stream",
     "text": [
      "rag_generations.json\n",
      "rag_generations.json\n",
      "rag_generations.json\n"
     ]
    }
   ],
   "source": [
    "for s in rag_metrics:\n",
    "    questions_path = \"../questions_250_42_dev.feather\"\n",
    "    for file in os.listdir(f\"../{path}_{s}/generations\"):\n",
    "        print(file)\n",
    "        calculate_agg_metric(\n",
    "            metrics=[\"rouge_l\"],\n",
    "            generation_path=f\"../{path}_{s}/generations/{file}\",\n",
    "            reference_path=questions_path,\n",
    "            saving_path=f\"result_{s}_{file.split('.')[0]}.feather\"\n",
    "        )\n",
    "\n",
    "\n"
   ]
  },
  {
   "cell_type": "markdown",
   "id": "1ae8da9c",
   "metadata": {},
   "source": [
    "## Load Data"
   ]
  },
  {
   "cell_type": "code",
   "execution_count": 7,
   "id": "7879623c",
   "metadata": {},
   "outputs": [
    {
     "name": "stderr",
     "output_type": "stream",
     "text": [
      "Could not memory_map compressed IPC file, defaulting to normal read. Toggle off 'memory_map' to silence this warning.\n",
      "Could not memory_map compressed IPC file, defaulting to normal read. Toggle off 'memory_map' to silence this warning.\n",
      "Could not memory_map compressed IPC file, defaulting to normal read. Toggle off 'memory_map' to silence this warning.\n"
     ]
    },
    {
     "data": {
      "text/html": [
       "<div><style>\n",
       ".dataframe > thead > tr,\n",
       ".dataframe > tbody > tr {\n",
       "  text-align: right;\n",
       "  white-space: pre-wrap;\n",
       "}\n",
       "</style>\n",
       "<small>shape: (3, 3)</small><table border=\"1\" class=\"dataframe\"><thead><tr><th>run_type</th><th>metric</th><th>mean</th></tr><tr><td>str</td><td>str</td><td>f64</td></tr></thead><tbody><tr><td>&quot;cosine&quot;</td><td>&quot;rouge_l&quot;</td><td>0.139944</td></tr><tr><td>&quot;ip&quot;</td><td>&quot;rouge_l&quot;</td><td>0.119726</td></tr><tr><td>&quot;l2&quot;</td><td>&quot;rouge_l&quot;</td><td>0.10464</td></tr></tbody></table></div>"
      ],
      "text/plain": [
       "shape: (3, 3)\n",
       "┌──────────┬─────────┬──────────┐\n",
       "│ run_type ┆ metric  ┆ mean     │\n",
       "│ ---      ┆ ---     ┆ ---      │\n",
       "│ str      ┆ str     ┆ f64      │\n",
       "╞══════════╪═════════╪══════════╡\n",
       "│ cosine   ┆ rouge_l ┆ 0.139944 │\n",
       "│ ip       ┆ rouge_l ┆ 0.119726 │\n",
       "│ l2       ┆ rouge_l ┆ 0.10464  │\n",
       "└──────────┴─────────┴──────────┘"
      ]
     },
     "execution_count": 7,
     "metadata": {},
     "output_type": "execute_result"
    }
   ],
   "source": [
    "### Perplexity results\n",
    "\n",
    "_perplexitiy_results = []\n",
    "for f in os.listdir(\".\"):\n",
    "    if f.endswith(\"feather\"):\n",
    "        processsed_namefile = f.split(\".\")[0].split(\"result_\")[1]\n",
    "        run_type = processsed_namefile.split(\"_\")[0]\n",
    "        _perplexitiy_results.append(pl.read_ipc(f).with_columns( pl.lit(run_type).alias(\"run_type\")))\n",
    "perplexity_results = pl.concat(_perplexitiy_results)\n",
    "perplexity_results.group_by(\"run_type\", \"metric\").agg(pl.col(\"mean\").mean()).sort(\"run_type\")"
   ]
  },
  {
   "cell_type": "code",
   "execution_count": 77,
   "id": "59be6e6d",
   "metadata": {},
   "outputs": [],
   "source": [
    "import json\n",
    "indexes = {}\n",
    "for s in rag_metrics:\n",
    "    rag_retrieval = json.load(open(f\"../{path}_{s}/retrieval/rag_retrieval_indexes.json\"))\n",
    "\n",
    "    # Get values in order and convert to numpy arrayzz\n",
    "    array_250x100 = np.array([rag_retrieval[str(key)] for key in range(250)])\n",
    "    # Take first 16 elements\n",
    "    array_250x16 = array_250x100[:, 84:100]\n",
    "    # Convert back to list if needed (otherwise keep as numpy array)\n",
    "\n",
    "    indexes[str(s)] = array_250x16 "
   ]
  },
  {
   "cell_type": "code",
   "execution_count": 78,
   "id": "ddb30ae7",
   "metadata": {},
   "outputs": [
    {
     "data": {
      "text/plain": [
       "250"
      ]
     },
     "execution_count": 78,
     "metadata": {},
     "output_type": "execute_result"
    }
   ],
   "source": [
    "len(indexes[\"ip\"])"
   ]
  },
  {
   "cell_type": "code",
   "execution_count": 81,
   "id": "0c29f522",
   "metadata": {},
   "outputs": [
    {
     "name": "stdout",
     "output_type": "stream",
     "text": [
      "Intersection between IP and L2: 1106\n",
      "Intersection between IP and Cosine: 3543\n",
      "Intersection between Cosine and L2: 1124\n",
      "Intersection between IP, L2 and LLM Cosine: 1045\n"
     ]
    }
   ],
   "source": [
    "\n",
    "\n",
    "def count_matches_no_numpy(list_a, list_b):\n",
    "    matches = 0\n",
    "    for key in range(250):\n",
    "        for i in range(16):\n",
    "\n",
    "            if list_a[key][i] in list_b[key]:\n",
    "                \n",
    "                matches += 1\n",
    "    return matches\n",
    "\n",
    "def count_matches_no_numpy_3(list_a, list_b, list_c):\n",
    "    matches = 0\n",
    "    for key in range(250):\n",
    "        for i in range(16):\n",
    "            if list_a[key][i] in list_b[key] and list_a[key][i] in list_c[key]:\n",
    "                matches += 1\n",
    "    return matches\n",
    "\n",
    "print(f\"Intersection between IP and L2: {count_matches_no_numpy(indexes['ip'], indexes['l2'])}\")\n",
    "print(f\"Intersection between IP and Cosine: {count_matches_no_numpy(indexes['ip'], indexes['cosine'])}\")\n",
    "print(f\"Intersection between Cosine and L2: {count_matches_no_numpy(indexes['cosine'], indexes['l2'])}\")\n",
    "print(f\"Intersection between IP, L2 and LLM Cosine: {count_matches_no_numpy_3(indexes['ip'], indexes['l2'], indexes['cosine'])}\")"
   ]
  },
  {
   "cell_type": "code",
   "execution_count": 82,
   "id": "37bf5782",
   "metadata": {},
   "outputs": [
    {
     "name": "stdout",
     "output_type": "stream",
     "text": [
      "Max intersection = 4000\n"
     ]
    }
   ],
   "source": [
    "print(f\"Max intersection = {16*250}\")"
   ]
  }
 ],
 "metadata": {
  "kernelspec": {
   "display_name": "nq_dl",
   "language": "python",
   "name": "python3"
  },
  "language_info": {
   "codemirror_mode": {
    "name": "ipython",
    "version": 3
   },
   "file_extension": ".py",
   "mimetype": "text/x-python",
   "name": "python",
   "nbconvert_exporter": "python",
   "pygments_lexer": "ipython3",
   "version": "3.11.11"
  }
 },
 "nbformat": 4,
 "nbformat_minor": 5
}

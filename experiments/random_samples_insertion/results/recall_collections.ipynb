{
 "cells": [
  {
   "cell_type": "code",
   "execution_count": 14,
   "id": "538213bd",
   "metadata": {},
   "outputs": [],
   "source": [
    "import polars as pl\n",
    "import seaborn as sns\n",
    "import matplotlib.pyplot as plt\n",
    "import os\n",
    "import numpy as np\n",
    "import json"
   ]
  },
  {
   "cell_type": "code",
   "execution_count": 21,
   "id": "88fb3ea8",
   "metadata": {},
   "outputs": [],
   "source": [
    "experiments = [\"original\", \"random_20_5k\", \"random_10\", \"changing_template\", \"instruction_last\", \"instruction_sandwich\"]\n"
   ]
  },
  {
   "cell_type": "code",
   "execution_count": 22,
   "id": "3a0d5c6f",
   "metadata": {},
   "outputs": [
    {
     "name": "stdout",
     "output_type": "stream",
     "text": [
      "original\n",
      "random_20_5k\n",
      "random_10\n",
      "changing_template\n",
      "instruction_last\n",
      "instruction_sandwich\n"
     ]
    }
   ],
   "source": [
    "_temp = []\n",
    "for e in experiments:\n",
    "    print(e)\n",
    "\n",
    "    for file in os.listdir(f\"../{e}/datamodels/collections/train/\"):\n",
    "        if file.startswith(\"groundtruth\"):\n",
    "            _temp.append(pl.read_ipc(f\"../{e}/datamodels/collections/train/{file}\", memory_map=False).drop(\"input\").with_columns(pl.lit(e).alias(\"experiment\")))\n",
    "collections = pl.concat(_temp)"
   ]
  },
  {
   "cell_type": "code",
   "execution_count": 23,
   "id": "4f517795",
   "metadata": {},
   "outputs": [
    {
     "name": "stderr",
     "output_type": "stream",
     "text": [
      "/tmp/ipykernel_496861/1982936945.py:1: DeprecationWarning: `pl.count()` is deprecated. Please use `pl.len()` instead.\n",
      "(Deprecated in version 0.20.5)\n",
      "  collections.filter(pl.col(\"evaluation\")>0).group_by(pl.col(\"experiment\")).agg((pl.count()).alias(\"recall\"))\n"
     ]
    },
    {
     "data": {
      "text/html": [
       "<div><style>\n",
       ".dataframe > thead > tr,\n",
       ".dataframe > tbody > tr {\n",
       "  text-align: right;\n",
       "  white-space: pre-wrap;\n",
       "}\n",
       "</style>\n",
       "<small>shape: (5, 2)</small><table border=\"1\" class=\"dataframe\"><thead><tr><th>experiment</th><th>recall</th></tr><tr><td>str</td><td>u32</td></tr></thead><tbody><tr><td>&quot;original&quot;</td><td>126102</td></tr><tr><td>&quot;instruction_last&quot;</td><td>50707</td></tr><tr><td>&quot;changing_template&quot;</td><td>39174</td></tr><tr><td>&quot;random_20_5k&quot;</td><td>388310</td></tr><tr><td>&quot;random_10&quot;</td><td>154429</td></tr></tbody></table></div>"
      ],
      "text/plain": [
       "shape: (5, 2)\n",
       "┌───────────────────┬────────┐\n",
       "│ experiment        ┆ recall │\n",
       "│ ---               ┆ ---    │\n",
       "│ str               ┆ u32    │\n",
       "╞═══════════════════╪════════╡\n",
       "│ original          ┆ 126102 │\n",
       "│ instruction_last  ┆ 50707  │\n",
       "│ changing_template ┆ 39174  │\n",
       "│ random_20_5k      ┆ 388310 │\n",
       "│ random_10         ┆ 154429 │\n",
       "└───────────────────┴────────┘"
      ]
     },
     "execution_count": 23,
     "metadata": {},
     "output_type": "execute_result"
    }
   ],
   "source": [
    "collections.filter(pl.col(\"evaluation\")>0).group_by(pl.col(\"experiment\")).agg((pl.count()).alias(\"recall\"))"
   ]
  },
  {
   "cell_type": "code",
   "execution_count": 24,
   "id": "4432c8bc",
   "metadata": {},
   "outputs": [
    {
     "name": "stderr",
     "output_type": "stream",
     "text": [
      "/tmp/ipykernel_496861/403960541.py:1: DeprecationWarning: `pl.count()` is deprecated. Please use `pl.len()` instead.\n",
      "(Deprecated in version 0.20.5)\n",
      "  collections.filter(pl.col(\"evaluation\")>0).select([\"experiment\", \"test_idx\"]).unique().group_by(pl.col(\"experiment\")).agg(pl.count())\n"
     ]
    },
    {
     "data": {
      "text/html": [
       "<div><style>\n",
       ".dataframe > thead > tr,\n",
       ".dataframe > tbody > tr {\n",
       "  text-align: right;\n",
       "  white-space: pre-wrap;\n",
       "}\n",
       "</style>\n",
       "<small>shape: (5, 2)</small><table border=\"1\" class=\"dataframe\"><thead><tr><th>experiment</th><th>count</th></tr><tr><td>str</td><td>u32</td></tr></thead><tbody><tr><td>&quot;instruction_last&quot;</td><td>320</td></tr><tr><td>&quot;changing_template&quot;</td><td>358</td></tr><tr><td>&quot;random_10&quot;</td><td>353</td></tr><tr><td>&quot;original&quot;</td><td>358</td></tr><tr><td>&quot;random_20_5k&quot;</td><td>369</td></tr></tbody></table></div>"
      ],
      "text/plain": [
       "shape: (5, 2)\n",
       "┌───────────────────┬───────┐\n",
       "│ experiment        ┆ count │\n",
       "│ ---               ┆ ---   │\n",
       "│ str               ┆ u32   │\n",
       "╞═══════════════════╪═══════╡\n",
       "│ instruction_last  ┆ 320   │\n",
       "│ changing_template ┆ 358   │\n",
       "│ random_10         ┆ 353   │\n",
       "│ original          ┆ 358   │\n",
       "│ random_20_5k      ┆ 369   │\n",
       "└───────────────────┴───────┘"
      ]
     },
     "execution_count": 24,
     "metadata": {},
     "output_type": "execute_result"
    }
   ],
   "source": [
    "collections.filter(pl.col(\"evaluation\")>0).select([\"experiment\", \"test_idx\"]).unique().group_by(pl.col(\"experiment\")).agg(pl.count())"
   ]
  },
  {
   "cell_type": "code",
   "execution_count": 25,
   "id": "4afe54c7",
   "metadata": {},
   "outputs": [
    {
     "name": "stderr",
     "output_type": "stream",
     "text": [
      "/tmp/ipykernel_496861/58300571.py:1: DeprecationWarning: `pl.count()` is deprecated. Please use `pl.len()` instead.\n",
      "(Deprecated in version 0.20.5)\n",
      "  collections.filter(pl.col(\"evaluation\")>0).group_by([\"experiment\", \"test_idx\"]).agg(pl.count()).sort(\"experiment\", \"test_idx\").filter(pl.col(\"count\")>10)\n"
     ]
    },
    {
     "data": {
      "text/html": [
       "<div><style>\n",
       ".dataframe > thead > tr,\n",
       ".dataframe > tbody > tr {\n",
       "  text-align: right;\n",
       "  white-space: pre-wrap;\n",
       "}\n",
       "</style>\n",
       "<small>shape: (1_214, 3)</small><table border=\"1\" class=\"dataframe\"><thead><tr><th>experiment</th><th>test_idx</th><th>count</th></tr><tr><td>str</td><td>i64</td><td>u32</td></tr></thead><tbody><tr><td>&quot;changing_template&quot;</td><td>0</td><td>37</td></tr><tr><td>&quot;changing_template&quot;</td><td>2</td><td>62</td></tr><tr><td>&quot;changing_template&quot;</td><td>4</td><td>15</td></tr><tr><td>&quot;changing_template&quot;</td><td>6</td><td>83</td></tr><tr><td>&quot;changing_template&quot;</td><td>9</td><td>39</td></tr><tr><td>&hellip;</td><td>&hellip;</td><td>&hellip;</td></tr><tr><td>&quot;random_20_5k&quot;</td><td>493</td><td>278</td></tr><tr><td>&quot;random_20_5k&quot;</td><td>494</td><td>14</td></tr><tr><td>&quot;random_20_5k&quot;</td><td>497</td><td>29</td></tr><tr><td>&quot;random_20_5k&quot;</td><td>498</td><td>1158</td></tr><tr><td>&quot;random_20_5k&quot;</td><td>499</td><td>1076</td></tr></tbody></table></div>"
      ],
      "text/plain": [
       "shape: (1_214, 3)\n",
       "┌───────────────────┬──────────┬───────┐\n",
       "│ experiment        ┆ test_idx ┆ count │\n",
       "│ ---               ┆ ---      ┆ ---   │\n",
       "│ str               ┆ i64      ┆ u32   │\n",
       "╞═══════════════════╪══════════╪═══════╡\n",
       "│ changing_template ┆ 0        ┆ 37    │\n",
       "│ changing_template ┆ 2        ┆ 62    │\n",
       "│ changing_template ┆ 4        ┆ 15    │\n",
       "│ changing_template ┆ 6        ┆ 83    │\n",
       "│ changing_template ┆ 9        ┆ 39    │\n",
       "│ …                 ┆ …        ┆ …     │\n",
       "│ random_20_5k      ┆ 493      ┆ 278   │\n",
       "│ random_20_5k      ┆ 494      ┆ 14    │\n",
       "│ random_20_5k      ┆ 497      ┆ 29    │\n",
       "│ random_20_5k      ┆ 498      ┆ 1158  │\n",
       "│ random_20_5k      ┆ 499      ┆ 1076  │\n",
       "└───────────────────┴──────────┴───────┘"
      ]
     },
     "execution_count": 25,
     "metadata": {},
     "output_type": "execute_result"
    }
   ],
   "source": [
    "collections.filter(pl.col(\"evaluation\")>0).group_by([\"experiment\", \"test_idx\"]).agg(pl.count()).sort(\"experiment\", \"test_idx\").filter(pl.col(\"count\")>10)"
   ]
  },
  {
   "cell_type": "code",
   "execution_count": null,
   "id": "4f7f8337",
   "metadata": {},
   "outputs": [],
   "source": []
  }
 ],
 "metadata": {
  "kernelspec": {
   "display_name": "nq",
   "language": "python",
   "name": "python3"
  },
  "language_info": {
   "codemirror_mode": {
    "name": "ipython",
    "version": 3
   },
   "file_extension": ".py",
   "mimetype": "text/x-python",
   "name": "python",
   "nbconvert_exporter": "python",
   "pygments_lexer": "ipython3",
   "version": "3.11.13"
  }
 },
 "nbformat": 4,
 "nbformat_minor": 5
}

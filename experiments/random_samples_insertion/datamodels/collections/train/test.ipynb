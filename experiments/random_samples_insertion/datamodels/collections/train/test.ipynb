{
 "cells": [
  {
   "cell_type": "code",
   "execution_count": 1,
   "id": "db22afd2",
   "metadata": {},
   "outputs": [],
   "source": [
    "import polars as pl\n",
    "import os"
   ]
  },
  {
   "cell_type": "code",
   "execution_count": null,
   "id": "e732a084",
   "metadata": {},
   "outputs": [],
   "source": [
    "collection_name = \"random\"\n",
    "collections_arr: list[str] = [f for f in os.listdir(\".\") if f.endswith(\".feather\") and f.startswith(collection_name)]\n",
    "for c in collections_arr:\n",
    "    df = pl.read_ipc(c).with_columns((pl.arange(0, pl.count()) % 1000).alias(\"test_idx\"))\n",
    "    df.write_ipc(c)\n",
    "    "
   ]
  },
  {
   "cell_type": "code",
   "execution_count": 16,
   "id": "9ce66d0e",
   "metadata": {},
   "outputs": [
    {
     "data": {
      "text/html": [
       "<div><style>\n",
       ".dataframe > thead > tr,\n",
       ".dataframe > tbody > tr {\n",
       "  text-align: right;\n",
       "  white-space: pre-wrap;\n",
       "}\n",
       "</style>\n",
       "<small>shape: (10, 4)</small><table border=\"1\" class=\"dataframe\"><thead><tr><th>collection_idx</th><th>test_idx</th><th>input</th><th>evaluation</th></tr><tr><td>i64</td><td>i64</td><td>array[i64, 120]</td><td>f64</td></tr></thead><tbody><tr><td>510</td><td>8</td><td>[0, 0, … 0]</td><td>0.181818</td></tr><tr><td>510</td><td>8</td><td>[0, 0, … 0]</td><td>0.0</td></tr><tr><td>510</td><td>8</td><td>[0, 0, … 0]</td><td>0.363636</td></tr><tr><td>510</td><td>8</td><td>[0, 0, … 0]</td><td>0.0</td></tr><tr><td>510</td><td>8</td><td>[0, 0, … 0]</td><td>0.0</td></tr><tr><td>510</td><td>8</td><td>[0, 0, … 0]</td><td>0.0</td></tr><tr><td>510</td><td>8</td><td>[0, 0, … 0]</td><td>0.666667</td></tr><tr><td>510</td><td>8</td><td>[0, 0, … 0]</td><td>0.0</td></tr><tr><td>510</td><td>8</td><td>[0, 0, … 0]</td><td>0.0</td></tr><tr><td>510</td><td>17</td><td>[0, 0, … 0]</td><td>1.0</td></tr></tbody></table></div>"
      ],
      "text/plain": [
       "shape: (10, 4)\n",
       "┌────────────────┬──────────┬─────────────────┬────────────┐\n",
       "│ collection_idx ┆ test_idx ┆ input           ┆ evaluation │\n",
       "│ ---            ┆ ---      ┆ ---             ┆ ---        │\n",
       "│ i64            ┆ i64      ┆ array[i64, 120] ┆ f64        │\n",
       "╞════════════════╪══════════╪═════════════════╪════════════╡\n",
       "│ 510            ┆ 8        ┆ [0, 0, … 0]     ┆ 0.181818   │\n",
       "│ 510            ┆ 8        ┆ [0, 0, … 0]     ┆ 0.0        │\n",
       "│ 510            ┆ 8        ┆ [0, 0, … 0]     ┆ 0.363636   │\n",
       "│ 510            ┆ 8        ┆ [0, 0, … 0]     ┆ 0.0        │\n",
       "│ 510            ┆ 8        ┆ [0, 0, … 0]     ┆ 0.0        │\n",
       "│ 510            ┆ 8        ┆ [0, 0, … 0]     ┆ 0.0        │\n",
       "│ 510            ┆ 8        ┆ [0, 0, … 0]     ┆ 0.666667   │\n",
       "│ 510            ┆ 8        ┆ [0, 0, … 0]     ┆ 0.0        │\n",
       "│ 510            ┆ 8        ┆ [0, 0, … 0]     ┆ 0.0        │\n",
       "│ 510            ┆ 17       ┆ [0, 0, … 0]     ┆ 1.0        │\n",
       "└────────────────┴──────────┴─────────────────┴────────────┘"
      ]
     },
     "execution_count": 16,
     "metadata": {},
     "output_type": "execute_result"
    }
   ],
   "source": [
    "\n",
    "df.head(10)"
   ]
  },
  {
   "cell_type": "code",
   "execution_count": 15,
   "id": "b09c4234",
   "metadata": {},
   "outputs": [
    {
     "data": {
      "text/html": [
       "<div><style>\n",
       ".dataframe > thead > tr,\n",
       ".dataframe > tbody > tr {\n",
       "  text-align: right;\n",
       "  white-space: pre-wrap;\n",
       "}\n",
       "</style>\n",
       "<small>shape: (500_000, 4)</small><table border=\"1\" class=\"dataframe\"><thead><tr><th>collection_idx</th><th>test_idx</th><th>input</th><th>evaluation</th></tr><tr><td>i64</td><td>i64</td><td>array[i64, 120]</td><td>f64</td></tr></thead><tbody><tr><td>510</td><td>8</td><td>[0, 0, … 0]</td><td>0.181818</td></tr><tr><td>510</td><td>8</td><td>[0, 0, … 0]</td><td>0.0</td></tr><tr><td>510</td><td>8</td><td>[0, 0, … 0]</td><td>0.363636</td></tr><tr><td>510</td><td>8</td><td>[0, 0, … 0]</td><td>0.0</td></tr><tr><td>510</td><td>8</td><td>[0, 0, … 0]</td><td>0.0</td></tr><tr><td>&hellip;</td><td>&hellip;</td><td>&hellip;</td><td>&hellip;</td></tr><tr><td>779</td><td>499</td><td>[0, 0, … 0]</td><td>0.0</td></tr><tr><td>779</td><td>499</td><td>[0, 0, … 0]</td><td>0.0</td></tr><tr><td>779</td><td>499</td><td>[0, 0, … 0]</td><td>0.0</td></tr><tr><td>779</td><td>499</td><td>[0, 0, … 0]</td><td>0.0</td></tr><tr><td>779</td><td>499</td><td>[0, 0, … 0]</td><td>1.0</td></tr></tbody></table></div>"
      ],
      "text/plain": [
       "shape: (500_000, 4)\n",
       "┌────────────────┬──────────┬─────────────────┬────────────┐\n",
       "│ collection_idx ┆ test_idx ┆ input           ┆ evaluation │\n",
       "│ ---            ┆ ---      ┆ ---             ┆ ---        │\n",
       "│ i64            ┆ i64      ┆ array[i64, 120] ┆ f64        │\n",
       "╞════════════════╪══════════╪═════════════════╪════════════╡\n",
       "│ 510            ┆ 8        ┆ [0, 0, … 0]     ┆ 0.181818   │\n",
       "│ 510            ┆ 8        ┆ [0, 0, … 0]     ┆ 0.0        │\n",
       "│ 510            ┆ 8        ┆ [0, 0, … 0]     ┆ 0.363636   │\n",
       "│ 510            ┆ 8        ┆ [0, 0, … 0]     ┆ 0.0        │\n",
       "│ 510            ┆ 8        ┆ [0, 0, … 0]     ┆ 0.0        │\n",
       "│ …              ┆ …        ┆ …               ┆ …          │\n",
       "│ 779            ┆ 499      ┆ [0, 0, … 0]     ┆ 0.0        │\n",
       "│ 779            ┆ 499      ┆ [0, 0, … 0]     ┆ 0.0        │\n",
       "│ 779            ┆ 499      ┆ [0, 0, … 0]     ┆ 0.0        │\n",
       "│ 779            ┆ 499      ┆ [0, 0, … 0]     ┆ 0.0        │\n",
       "│ 779            ┆ 499      ┆ [0, 0, … 0]     ┆ 1.0        │\n",
       "└────────────────┴──────────┴─────────────────┴────────────┘"
      ]
     },
     "execution_count": 15,
     "metadata": {},
     "output_type": "execute_result"
    }
   ],
   "source": [
    "df"
   ]
  }
 ],
 "metadata": {
  "kernelspec": {
   "display_name": "nq_dl",
   "language": "python",
   "name": "python3"
  },
  "language_info": {
   "codemirror_mode": {
    "name": "ipython",
    "version": 3
   },
   "file_extension": ".py",
   "mimetype": "text/x-python",
   "name": "python",
   "nbconvert_exporter": "python",
   "pygments_lexer": "ipython3",
   "version": "3.11.11"
  }
 },
 "nbformat": 4,
 "nbformat_minor": 5
}

{
 "cells": [
  {
   "cell_type": "markdown",
   "id": "eddb848c",
   "metadata": {},
   "source": [
    "# Preview Evaluation - Perplexity\n",
    "\n",
    "Thia is a notebook to make a preview comparison of the generations when using LLM JUDGE"
   ]
  },
  {
   "cell_type": "code",
   "execution_count": 1,
   "id": "64df10d3",
   "metadata": {},
   "outputs": [
    {
     "name": "stderr",
     "output_type": "stream",
     "text": [
      "/home/caio.rhoden/miniconda3/envs/nq_dl/lib/python3.11/site-packages/tqdm/auto.py:21: TqdmWarning: IProgress not found. Please update jupyter and ipywidgets. See https://ipywidgets.readthedocs.io/en/stable/user_install.html\n",
      "  from .autonotebook import tqdm as notebook_tqdm\n"
     ]
    }
   ],
   "source": [
    "import polars as pl\n",
    "import seaborn as sns\n",
    "import matplotlib.pyplot as plt\n",
    "from utils.metrics.calculate_metric import calculate_agg_metric\n",
    "import os\n",
    "import numpy as np\n",
    "import json"
   ]
  },
  {
   "cell_type": "markdown",
   "id": "c0c31a25",
   "metadata": {},
   "source": [
    "## Calculate Metrics and save them"
   ]
  },
  {
   "cell_type": "code",
   "execution_count": 7,
   "id": "5adeaad2",
   "metadata": {},
   "outputs": [],
   "source": [
    "seeds = [7270]\n",
    "datamodels_path  = \"experiments\""
   ]
  },
  {
   "cell_type": "code",
   "execution_count": 10,
   "id": "9564eb4f",
   "metadata": {},
   "outputs": [
    {
     "name": "stdout",
     "output_type": "stream",
     "text": [
      "judge_generation.json\n",
      "rag_generations.json\n",
      "datamodels_generations.json\n",
      "baseline_7270_baseline_generations.json\n"
     ]
    }
   ],
   "source": [
    "for s in seeds:\n",
    "    questions_path = f\"../../datamodels_training_window_size/experiments_{s}/questions.feather\"\n",
    "    for file in os.listdir(f\"../{datamodels_path}_{s}/generations\"):\n",
    "        print(file)\n",
    "        calculate_agg_metric(\n",
    "            metrics=[\"rouge_l\"],\n",
    "            generation_path=f\"../{datamodels_path}_{s}/generations/{file}\",\n",
    "            reference_path=questions_path,\n",
    "            saving_path=f\"result_{s}_{file.split('.')[0]}.feather\"\n",
    "        )\n",
    "\n",
    "\n"
   ]
  },
  {
   "cell_type": "markdown",
   "id": "1ae8da9c",
   "metadata": {},
   "source": [
    "## Load Data"
   ]
  },
  {
   "cell_type": "code",
   "execution_count": 11,
   "id": "7879623c",
   "metadata": {},
   "outputs": [
    {
     "data": {
      "text/html": [
       "<div><style>\n",
       ".dataframe > thead > tr,\n",
       ".dataframe > tbody > tr {\n",
       "  text-align: right;\n",
       "  white-space: pre-wrap;\n",
       "}\n",
       "</style>\n",
       "<small>shape: (4, 4)</small><table border=\"1\" class=\"dataframe\"><thead><tr><th>seed</th><th>run_type</th><th>metric</th><th>mean</th></tr><tr><td>str</td><td>str</td><td>str</td><td>f64</td></tr></thead><tbody><tr><td>&quot;7270&quot;</td><td>&quot;baseline&quot;</td><td>&quot;rouge_l&quot;</td><td>0.286462</td></tr><tr><td>&quot;7270&quot;</td><td>&quot;datamodels&quot;</td><td>&quot;rouge_l&quot;</td><td>0.606403</td></tr><tr><td>&quot;7270&quot;</td><td>&quot;judge&quot;</td><td>&quot;rouge_l&quot;</td><td>0.473103</td></tr><tr><td>&quot;7270&quot;</td><td>&quot;rag&quot;</td><td>&quot;rouge_l&quot;</td><td>0.255143</td></tr></tbody></table></div>"
      ],
      "text/plain": [
       "shape: (4, 4)\n",
       "┌──────┬────────────┬─────────┬──────────┐\n",
       "│ seed ┆ run_type   ┆ metric  ┆ mean     │\n",
       "│ ---  ┆ ---        ┆ ---     ┆ ---      │\n",
       "│ str  ┆ str        ┆ str     ┆ f64      │\n",
       "╞══════╪════════════╪═════════╪══════════╡\n",
       "│ 7270 ┆ baseline   ┆ rouge_l ┆ 0.286462 │\n",
       "│ 7270 ┆ datamodels ┆ rouge_l ┆ 0.606403 │\n",
       "│ 7270 ┆ judge      ┆ rouge_l ┆ 0.473103 │\n",
       "│ 7270 ┆ rag        ┆ rouge_l ┆ 0.255143 │\n",
       "└──────┴────────────┴─────────┴──────────┘"
      ]
     },
     "execution_count": 11,
     "metadata": {},
     "output_type": "execute_result"
    }
   ],
   "source": [
    "### Perplexity results\n",
    "\n",
    "_perplexitiy_results = []\n",
    "for f in os.listdir(\".\"):\n",
    "    if f.endswith(\"feather\"):\n",
    "        processsed_namefile = f.split(\".\")[0].split(\"result_\")[1]\n",
    "        seed = processsed_namefile.split(\"_\")[0]\n",
    "        run_type = processsed_namefile.split(\"_\")[1]\n",
    "        _perplexitiy_results.append(pl.read_ipc(f).with_columns(pl.lit(seed).alias(\"seed\"), pl.lit(run_type).alias(\"run_type\")))\n",
    "perplexity_results = pl.concat(_perplexitiy_results)\n",
    "perplexity_results.group_by(\"seed\", \"run_type\", \"metric\").agg(pl.col(\"mean\").mean()).sort(\"seed\", \"run_type\")"
   ]
  },
  {
   "cell_type": "code",
   "execution_count": 15,
   "id": "59be6e6d",
   "metadata": {},
   "outputs": [],
   "source": [
    "import json\n",
    "indexes = {}\n",
    "for s in seeds:\n",
    "    rag_retrieval = json.load(open(f\"../{datamodels_path}_{s}/retrieval/rag_retrieval_indexes.json\"))\n",
    "    rou_datamodels_retrieval = json.load(open(f\"../{datamodels_path}_{s}/retrieval/size_2000_indexes.json\"))\n",
    "    judge = json.load(open(f\"../{datamodels_path}_{s}/retrieval/judge_llm_indexes.json\"))\n",
    "    dicts = [rag_retrieval, rou_datamodels_retrieval, judge]\n",
    "    processed_dicts = []\n",
    "    for d in dicts:\n",
    "        # Get values in order and convert to numpy arrayzz\n",
    "        array_50x100 = np.array([d[str(key)] for key in range(50)])\n",
    "        # Take first 16 elements\n",
    "        array_50x16 = array_50x100[:, 34:50]\n",
    "        # Convert back to list if needed (otherwise keep as numpy array)\n",
    "        processed_dicts.append(array_50x16.tolist())\n",
    "    indexes[str(s)] = processed_dicts"
   ]
  },
  {
   "cell_type": "code",
   "execution_count": 17,
   "id": "0c29f522",
   "metadata": {},
   "outputs": [
    {
     "name": "stdout",
     "output_type": "stream",
     "text": [
      "Seed: 7270\n",
      "Intersection between RAG and Datamodels: 131\n",
      "Intersection between RAG and LLM Judge: 127\n",
      "Intersection between Datamodels and LLM Judge: 151\n",
      "Intersection between RAG, Datamodels and LLM Judge: 21\n"
     ]
    }
   ],
   "source": [
    "\n",
    "\n",
    "def count_matches_no_numpy(list_a, list_b):\n",
    "    matches = 0\n",
    "    for key in range(50):\n",
    "        for i in range(16):\n",
    "            if list_a[key][i] in list_b[key]:\n",
    "                matches += 1\n",
    "    return matches\n",
    "\n",
    "def count_matches_no_numpy_3(list_a, list_b, list_c):\n",
    "    matches = 0\n",
    "    for key in range(50):\n",
    "        for i in range(16):\n",
    "            if list_a[key][i] in list_b[key] and list_a[key][i] in list_c[key]:\n",
    "                matches += 1\n",
    "    return matches\n",
    "\n",
    "\n",
    "for s in seeds:\n",
    "    print(f\"Seed: {s}\")\n",
    "    print(f\"Intersection between RAG and Datamodels: {count_matches_no_numpy(indexes[str(s)][0], indexes[str(s)][1])}\")\n",
    "    print(f\"Intersection between RAG and LLM Judge: {count_matches_no_numpy(indexes[str(s)][0], indexes[str(s)][2])}\")\n",
    "    print(f\"Intersection between Datamodels and LLM Judge: {count_matches_no_numpy(indexes[str(s)][1], indexes[str(s)][2])}\")\n",
    "    print(f\"Intersection between RAG, Datamodels and LLM Judge: {count_matches_no_numpy_3(indexes[str(s)][0], indexes[str(s)][1], indexes[str(s)][2])}\")"
   ]
  }
 ],
 "metadata": {
  "kernelspec": {
   "display_name": "nq_dl",
   "language": "python",
   "name": "python3"
  },
  "language_info": {
   "codemirror_mode": {
    "name": "ipython",
    "version": 3
   },
   "file_extension": ".py",
   "mimetype": "text/x-python",
   "name": "python",
   "nbconvert_exporter": "python",
   "pygments_lexer": "ipython3",
   "version": "3.11.11"
  }
 },
 "nbformat": 4,
 "nbformat_minor": 5
}

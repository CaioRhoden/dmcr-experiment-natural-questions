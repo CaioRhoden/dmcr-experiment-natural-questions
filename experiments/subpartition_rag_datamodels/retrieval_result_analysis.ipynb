{
 "cells": [
  {
   "cell_type": "markdown",
   "id": "7d95c6e7",
   "metadata": {},
   "source": [
    "# Retrieval Results Analysis\n",
    "\n",
    "The goal of this notebok is to investigate the quality of the retrieval when using RAG and the Datamodels re-ranking  \n",
    "To be able to analyse this we will see how each method ranks the golden documents for 50 test samples and how different the ranking were to similar and different performance situations  \n",
    "Finally, we will further oberserve the special scenarios where the baseline performed well but neither the methods acheived the expected answer"
   ]
  },
  {
   "cell_type": "markdown",
   "id": "f2ad19b1",
   "metadata": {},
   "source": [
    "## Setup"
   ]
  },
  {
   "cell_type": "code",
   "execution_count": 1,
   "id": "cfd55a4b",
   "metadata": {},
   "outputs": [],
   "source": [
    "import polars as pl\n",
    "import seaborn as sns\n",
    "import matplotlib.pyplot as plt\n",
    "import json\n",
    "import os\n",
    "import torch"
   ]
  },
  {
   "cell_type": "code",
   "execution_count": 2,
   "id": "29d77c4d",
   "metadata": {},
   "outputs": [
    {
     "data": {
      "text/html": [
       "<div><style>\n",
       ".dataframe > thead > tr,\n",
       ".dataframe > tbody > tr {\n",
       "  text-align: right;\n",
       "  white-space: pre-wrap;\n",
       "}\n",
       "</style>\n",
       "<small>shape: (5, 2)</small><table border=\"1\" class=\"dataframe\"><thead><tr><th>text</th><th>title</th></tr><tr><td>str</td><td>str</td></tr></thead><tbody><tr><td>&quot;Aaron Aaron ( or ; &quot;Ahärôn&quot;) i…</td><td>&quot;Aaron&quot;</td></tr><tr><td>&quot;God at Sinai granted Aaron the…</td><td>&quot;Aaron&quot;</td></tr><tr><td>&quot;his rod turn into a snake. The…</td><td>&quot;Aaron&quot;</td></tr><tr><td>&quot;however, Aaron and Hur remaine…</td><td>&quot;Aaron&quot;</td></tr><tr><td>&quot;Aaron and his sons to the prie…</td><td>&quot;Aaron&quot;</td></tr></tbody></table></div>"
      ],
      "text/plain": [
       "shape: (5, 2)\n",
       "┌─────────────────────────────────┬───────┐\n",
       "│ text                            ┆ title │\n",
       "│ ---                             ┆ ---   │\n",
       "│ str                             ┆ str   │\n",
       "╞═════════════════════════════════╪═══════╡\n",
       "│ Aaron Aaron ( or ; \"Ahärôn\") i… ┆ Aaron │\n",
       "│ God at Sinai granted Aaron the… ┆ Aaron │\n",
       "│ his rod turn into a snake. The… ┆ Aaron │\n",
       "│ however, Aaron and Hur remaine… ┆ Aaron │\n",
       "│ Aaron and his sons to the prie… ┆ Aaron │\n",
       "└─────────────────────────────────┴───────┘"
      ]
     },
     "execution_count": 2,
     "metadata": {},
     "output_type": "execute_result"
    }
   ],
   "source": [
    "## Load wiki\n",
    "wiki = pl.read_ipc(\"../../data/wiki_dump2018_nq_open/processed/wiki.feather\")\n",
    "wiki.head()"
   ]
  },
  {
   "cell_type": "code",
   "execution_count": 33,
   "id": "57109a17",
   "metadata": {},
   "outputs": [
    {
     "data": {
      "text/html": [
       "<div><style>\n",
       ".dataframe > thead > tr,\n",
       ".dataframe > tbody > tr {\n",
       "  text-align: right;\n",
       "  white-space: pre-wrap;\n",
       "}\n",
       "</style>\n",
       "<small>shape: (5, 6)</small><table border=\"1\" class=\"dataframe\"><thead><tr><th>idx</th><th>example_id</th><th>question</th><th>answers</th><th>text</th><th>idx_gold_in_corpus</th></tr><tr><td>u32</td><td>i64</td><td>str</td><td>list[str]</td><td>str</td><td>i64</td></tr></thead><tbody><tr><td>0</td><td>-5266947057771511513</td><td>&quot;who was the first woman to win…</td><td>[&quot;Judith Cynthia Aline Keppel&quot;]</td><td>&quot;Judith Cynthia Aline Keppel (b…</td><td>21033303</td></tr><tr><td>1</td><td>-7256500086799415081</td><td>&quot;who carried florida by 537 vot…</td><td>[&quot;George W. Bush&quot;, &quot;Bush&quot;]</td><td>&quot;United States presidential ele…</td><td>20988218</td></tr><tr><td>2</td><td>7104554727863075462</td><td>&quot;who&#x27;s the original singer of h…</td><td>[&quot;Kris Kristofferson&quot;]</td><td>&quot;&#x27;&#x27; Help Me Make It Through The…</td><td>20972472</td></tr><tr><td>3</td><td>-5172636572480122331</td><td>&quot;when did the subway open in ne…</td><td>[&quot;October 27 , 1904&quot;, &quot;1904&quot;]</td><td>&quot;The New York City Subway is a …</td><td>20995376</td></tr><tr><td>4</td><td>-7121343730302515106</td><td>&quot;when did the passion of the ch…</td><td>[&quot;2004&quot;, &quot;February 25 , 2004&quot;]</td><td>&quot;The Passion of the Christ ( al…</td><td>21033680</td></tr></tbody></table></div>"
      ],
      "text/plain": [
       "shape: (5, 6)\n",
       "┌─────┬──────────────────┬──────────────────┬──────────────────┬─────────────────┬─────────────────┐\n",
       "│ idx ┆ example_id       ┆ question         ┆ answers          ┆ text            ┆ idx_gold_in_cor │\n",
       "│ --- ┆ ---              ┆ ---              ┆ ---              ┆ ---             ┆ pus             │\n",
       "│ u32 ┆ i64              ┆ str              ┆ list[str]        ┆ str             ┆ ---             │\n",
       "│     ┆                  ┆                  ┆                  ┆                 ┆ i64             │\n",
       "╞═════╪══════════════════╪══════════════════╪══════════════════╪═════════════════╪═════════════════╡\n",
       "│ 0   ┆ -526694705777151 ┆ who was the      ┆ [\"Judith Cynthia ┆ Judith Cynthia  ┆ 21033303        │\n",
       "│     ┆ 1513             ┆ first woman to   ┆ Aline Keppel\"…   ┆ Aline Keppel    ┆                 │\n",
       "│     ┆                  ┆ win…             ┆                  ┆ (b…             ┆                 │\n",
       "│ 1   ┆ -725650008679941 ┆ who carried      ┆ [\"George W.      ┆ United States   ┆ 20988218        │\n",
       "│     ┆ 5081             ┆ florida by 537   ┆ Bush\", \"Bush\"]   ┆ presidential    ┆                 │\n",
       "│     ┆                  ┆ vot…             ┆                  ┆ ele…            ┆                 │\n",
       "│ 2   ┆ 7104554727863075 ┆ who's the        ┆ [\"Kris           ┆ '' Help Me Make ┆ 20972472        │\n",
       "│     ┆ 462              ┆ original singer  ┆ Kristofferson\"]  ┆ It Through The… ┆                 │\n",
       "│     ┆                  ┆ of h…            ┆                  ┆                 ┆                 │\n",
       "│ 3   ┆ -517263657248012 ┆ when did the     ┆ [\"October 27 ,   ┆ The New York    ┆ 20995376        │\n",
       "│     ┆ 2331             ┆ subway open in   ┆ 1904\", \"1904\"]   ┆ City Subway is  ┆                 │\n",
       "│     ┆                  ┆ ne…              ┆                  ┆ a …             ┆                 │\n",
       "│ 4   ┆ -712134373030251 ┆ when did the     ┆ [\"2004\",         ┆ The Passion of  ┆ 21033680        │\n",
       "│     ┆ 5106             ┆ passion of the   ┆ \"February 25 ,   ┆ the Christ (    ┆                 │\n",
       "│     ┆                  ┆ ch…              ┆ 2004\"]           ┆ al…             ┆                 │\n",
       "└─────┴──────────────────┴──────────────────┴──────────────────┴─────────────────┴─────────────────┘"
      ]
     },
     "execution_count": 33,
     "metadata": {},
     "output_type": "execute_result"
    }
   ],
   "source": [
    "## Read test df\n",
    "test_df  = pl.read_ipc(\"previews/50_test.feather\").with_row_index(\"idx\")\n",
    "test_df.head()"
   ]
  },
  {
   "cell_type": "code",
   "execution_count": 4,
   "id": "b1f58982",
   "metadata": {},
   "outputs": [
    {
     "data": {
      "text/html": [
       "<div><style>\n",
       ".dataframe > thead > tr,\n",
       ".dataframe > tbody > tr {\n",
       "  text-align: right;\n",
       "  white-space: pre-wrap;\n",
       "}\n",
       "</style>\n",
       "<small>shape: (1, 2)</small><table border=\"1\" class=\"dataframe\"><thead><tr><th>text</th><th>title</th></tr><tr><td>str</td><td>str</td></tr></thead><tbody><tr><td>&quot;The Passion of the Christ ( al…</td><td>&quot;The Passion of the Christ&quot;</td></tr></tbody></table></div>"
      ],
      "text/plain": [
       "shape: (1, 2)\n",
       "┌─────────────────────────────────┬───────────────────────────┐\n",
       "│ text                            ┆ title                     │\n",
       "│ ---                             ┆ ---                       │\n",
       "│ str                             ┆ str                       │\n",
       "╞═════════════════════════════════╪═══════════════════════════╡\n",
       "│ The Passion of the Christ ( al… ┆ The Passion of the Christ │\n",
       "└─────────────────────────────────┴───────────────────────────┘"
      ]
     },
     "execution_count": 4,
     "metadata": {},
     "output_type": "execute_result"
    }
   ],
   "source": [
    "## Example of gold passage based on the last sample showed in the previous cell\n",
    "wiki[21033680]"
   ]
  },
  {
   "cell_type": "code",
   "execution_count": 45,
   "id": "b3faba0a",
   "metadata": {},
   "outputs": [],
   "source": [
    "#### Load generations results\n",
    "PREFIX_PATH = \"previews\"\n",
    "\n",
    "previews = {\n",
    "    \"0\": \"preview_50_L2\",\n",
    "    \"1\": \"preview_50_IP\",\n",
    "    \"2\": \"new_prompt_preview_50_cosine\",\n",
    "    \"3\": \"preview_50_L2_k8\",\n",
    "    \"4\": \"new_prompt_preview_50_L2\"\n",
    "}\n",
    "\n",
    "dfs = []\n",
    "\n",
    "for f in os.listdir(\"previews_results\"):\n",
    "\n",
    "    _preview_num = f.split(\"_\")[1]\n",
    "\n",
    "\n",
    "    if f.endswith(\"datamodels.feather\"):\n",
    "        retrieval = \"datamodels\"\n",
    "        type = previews[_preview_num]\n",
    "\n",
    "    elif f.endswith(\"baseline.feather\"):\n",
    "        retrieval = \"baseline\"\n",
    "        type = \"baseline\"\n",
    "\n",
    "    else:\n",
    "        retrieval = \"rag\"\n",
    "        type = previews[_preview_num]\n",
    "\n",
    "    _df = pl.read_ipc(f\"previews_results/{f}\")\n",
    "    _df = _df.with_columns(pl.lit(retrieval).alias(\"retrieval\"))\n",
    "    _df = _df.with_columns(pl.lit(type).alias(\"type\"))\n",
    "    dfs.append(_df)\n",
    "\n",
    "results = pl.concat(dfs).filter(pl.col(\"type\") != \"baseline\")"
   ]
  },
  {
   "cell_type": "code",
   "execution_count": 46,
   "id": "29b3d052",
   "metadata": {},
   "outputs": [
    {
     "data": {
      "text/html": [
       "<div><style>\n",
       ".dataframe > thead > tr,\n",
       ".dataframe > tbody > tr {\n",
       "  text-align: right;\n",
       "  white-space: pre-wrap;\n",
       "}\n",
       "</style>\n",
       "<small>shape: (1_500, 6)</small><table border=\"1\" class=\"dataframe\"><thead><tr><th>idx</th><th>mean</th><th>max</th><th>metric</th><th>retrieval</th><th>type</th></tr><tr><td>i64</td><td>f64</td><td>f64</td><td>str</td><td>str</td><td>str</td></tr></thead><tbody><tr><td>0</td><td>0.0</td><td>0.0</td><td>&quot;rouge_l&quot;</td><td>&quot;rag&quot;</td><td>&quot;new_prompt_preview_50_L2&quot;</td></tr><tr><td>1</td><td>0.8</td><td>1.0</td><td>&quot;rouge_l&quot;</td><td>&quot;rag&quot;</td><td>&quot;new_prompt_preview_50_L2&quot;</td></tr><tr><td>2</td><td>0.0</td><td>0.0</td><td>&quot;rouge_l&quot;</td><td>&quot;rag&quot;</td><td>&quot;new_prompt_preview_50_L2&quot;</td></tr><tr><td>3</td><td>0.066667</td><td>0.333333</td><td>&quot;rouge_l&quot;</td><td>&quot;rag&quot;</td><td>&quot;new_prompt_preview_50_L2&quot;</td></tr><tr><td>4</td><td>0.057143</td><td>0.285714</td><td>&quot;rouge_l&quot;</td><td>&quot;rag&quot;</td><td>&quot;new_prompt_preview_50_L2&quot;</td></tr><tr><td>&hellip;</td><td>&hellip;</td><td>&hellip;</td><td>&hellip;</td><td>&hellip;</td><td>&hellip;</td></tr><tr><td>45</td><td>0.0</td><td>0.0</td><td>&quot;squad_v2_best_exact&quot;</td><td>&quot;rag&quot;</td><td>&quot;preview_50_L2_k8&quot;</td></tr><tr><td>46</td><td>0.0</td><td>0.0</td><td>&quot;squad_v2_best_exact&quot;</td><td>&quot;rag&quot;</td><td>&quot;preview_50_L2_k8&quot;</td></tr><tr><td>47</td><td>0.0</td><td>0.0</td><td>&quot;squad_v2_best_exact&quot;</td><td>&quot;rag&quot;</td><td>&quot;preview_50_L2_k8&quot;</td></tr><tr><td>48</td><td>1.0</td><td>1.0</td><td>&quot;squad_v2_best_exact&quot;</td><td>&quot;rag&quot;</td><td>&quot;preview_50_L2_k8&quot;</td></tr><tr><td>49</td><td>1.0</td><td>1.0</td><td>&quot;squad_v2_best_exact&quot;</td><td>&quot;rag&quot;</td><td>&quot;preview_50_L2_k8&quot;</td></tr></tbody></table></div>"
      ],
      "text/plain": [
       "shape: (1_500, 6)\n",
       "┌─────┬──────────┬──────────┬─────────────────────┬───────────┬──────────────────────────┐\n",
       "│ idx ┆ mean     ┆ max      ┆ metric              ┆ retrieval ┆ type                     │\n",
       "│ --- ┆ ---      ┆ ---      ┆ ---                 ┆ ---       ┆ ---                      │\n",
       "│ i64 ┆ f64      ┆ f64      ┆ str                 ┆ str       ┆ str                      │\n",
       "╞═════╪══════════╪══════════╪═════════════════════╪═══════════╪══════════════════════════╡\n",
       "│ 0   ┆ 0.0      ┆ 0.0      ┆ rouge_l             ┆ rag       ┆ new_prompt_preview_50_L2 │\n",
       "│ 1   ┆ 0.8      ┆ 1.0      ┆ rouge_l             ┆ rag       ┆ new_prompt_preview_50_L2 │\n",
       "│ 2   ┆ 0.0      ┆ 0.0      ┆ rouge_l             ┆ rag       ┆ new_prompt_preview_50_L2 │\n",
       "│ 3   ┆ 0.066667 ┆ 0.333333 ┆ rouge_l             ┆ rag       ┆ new_prompt_preview_50_L2 │\n",
       "│ 4   ┆ 0.057143 ┆ 0.285714 ┆ rouge_l             ┆ rag       ┆ new_prompt_preview_50_L2 │\n",
       "│ …   ┆ …        ┆ …        ┆ …                   ┆ …         ┆ …                        │\n",
       "│ 45  ┆ 0.0      ┆ 0.0      ┆ squad_v2_best_exact ┆ rag       ┆ preview_50_L2_k8         │\n",
       "│ 46  ┆ 0.0      ┆ 0.0      ┆ squad_v2_best_exact ┆ rag       ┆ preview_50_L2_k8         │\n",
       "│ 47  ┆ 0.0      ┆ 0.0      ┆ squad_v2_best_exact ┆ rag       ┆ preview_50_L2_k8         │\n",
       "│ 48  ┆ 1.0      ┆ 1.0      ┆ squad_v2_best_exact ┆ rag       ┆ preview_50_L2_k8         │\n",
       "│ 49  ┆ 1.0      ┆ 1.0      ┆ squad_v2_best_exact ┆ rag       ┆ preview_50_L2_k8         │\n",
       "└─────┴──────────┴──────────┴─────────────────────┴───────────┴──────────────────────────┘"
      ]
     },
     "execution_count": 46,
     "metadata": {},
     "output_type": "execute_result"
    }
   ],
   "source": [
    "results"
   ]
  },
  {
   "cell_type": "code",
   "execution_count": 47,
   "id": "988fa915",
   "metadata": {},
   "outputs": [],
   "source": [
    "results = results.join(test_df.select([\"idx\", \"idx_gold_in_corpus\"]), on=\"idx\", how=\"left\").rename({\"idx_gold_in_corpus\": \"gold\"})"
   ]
  },
  {
   "cell_type": "code",
   "execution_count": 48,
   "id": "f7666300",
   "metadata": {},
   "outputs": [
    {
     "name": "stdout",
     "output_type": "stream",
     "text": [
      "preview_50_IP\n",
      "preview_50_L2\n",
      "preview_50_L2_k8\n",
      "new_prompt_preview_50_cosine\n",
      "new_prompt_preview_50_L2\n"
     ]
    }
   ],
   "source": [
    "retrievals = {\n",
    "    \"idx\": [],\n",
    "    \"retrieval\": [],\n",
    "    \"type\": [],\n",
    "    \"docs\": []\n",
    "}\n",
    "\n",
    "\n",
    "\n",
    "for dir in os.listdir(\"previews\"):\n",
    "    if dir in previews.values():\n",
    "\n",
    "        print(dir)\n",
    "        docs = json.load(open(f\"previews/{dir}/retrieval/rag_retrieval_indexes.json\", \"r\"))\n",
    "\n",
    "        if dir == \"preview_50_L2_k8\":\n",
    "            for _key in docs.keys():\n",
    "\n",
    "                retrievals[\"idx\"].append(int(_key))\n",
    "                retrievals[\"retrieval\"].append(\"rag\")\n",
    "                retrievals[\"type\"].append(dir)\n",
    "                retrievals[\"docs\"].append(docs[_key][:8])\n",
    "        \n",
    "        else:\n",
    "\n",
    "            for _key in docs.keys():\n",
    "\n",
    "                retrievals[\"idx\"].append(int(_key))\n",
    "                retrievals[\"retrieval\"].append(\"rag\")\n",
    "                retrievals[\"type\"].append(dir)\n",
    "                retrievals[\"docs\"].append(docs[_key][:4])\n",
    "\n",
    "\n",
    "        \n",
    "        for f in os.listdir(f\"previews/{dir}/retrieval\"):\n",
    "\n",
    "            if f.endswith(\"retrieval_indexes.json\") and not f.startswith(\"rag\"):\n",
    "\n",
    "                if dir == \"preview_50_L2_k8\":\n",
    "                    docs = json.load(open(f, \"r\"))\n",
    "                    for _key in docs.keys():\n",
    "\n",
    "                        retrievals[\"idx\"].append(int(_key))\n",
    "                        retrievals[\"retrieval\"].append(\"datamodels\")\n",
    "                        retrievals[\"type\"].append(dir)\n",
    "                        retrievals[\"docs\"].append(docs[_key][:8])\n",
    "\n",
    "                else:\n",
    "                    docs = json.load(open(f, \"r\"))\n",
    "                    for _key in docs.keys():\n",
    "\n",
    "                        retrievals[\"idx\"].append(int(_key))\n",
    "                        retrievals[\"retrieval\"].append(\"datamodels\")\n",
    "                        retrievals[\"type\"].append(dir)\n",
    "                        retrievals[\"docs\"].append(docs[_key][:4])\n",
    "\n",
    "df_retrievals = pl.DataFrame(retrievals)\n",
    "results = results.join(df_retrievals, right_on=[\"idx\", \"retrieval\", \"type\"], left_on=[\"idx\", \"retrieval\", \"type\"], how=\"left\")"
   ]
  },
  {
   "cell_type": "code",
   "execution_count": null,
   "id": "fbc88bf0",
   "metadata": {},
   "outputs": [
    {
     "data": {
      "text/html": [
       "<div><style>\n",
       ".dataframe > thead > tr,\n",
       ".dataframe > tbody > tr {\n",
       "  text-align: right;\n",
       "  white-space: pre-wrap;\n",
       "}\n",
       "</style>\n",
       "<small>shape: (300, 8)</small><table border=\"1\" class=\"dataframe\"><thead><tr><th>idx</th><th>mean</th><th>max</th><th>metric</th><th>retrieval</th><th>type</th><th>gold</th><th>docs</th></tr><tr><td>i64</td><td>f64</td><td>f64</td><td>str</td><td>str</td><td>str</td><td>i64</td><td>list[i64]</td></tr></thead><tbody><tr><td>0</td><td>0.666667</td><td>0.666667</td><td>&quot;rouge_l&quot;</td><td>&quot;datamodels&quot;</td><td>&quot;preview_50_L2_k8&quot;</td><td>21033303</td><td>null</td></tr><tr><td>1</td><td>0.8</td><td>1.0</td><td>&quot;rouge_l&quot;</td><td>&quot;datamodels&quot;</td><td>&quot;preview_50_L2_k8&quot;</td><td>20988218</td><td>null</td></tr><tr><td>2</td><td>0.2</td><td>1.0</td><td>&quot;rouge_l&quot;</td><td>&quot;datamodels&quot;</td><td>&quot;preview_50_L2_k8&quot;</td><td>20972472</td><td>null</td></tr><tr><td>3</td><td>1.0</td><td>1.0</td><td>&quot;rouge_l&quot;</td><td>&quot;datamodels&quot;</td><td>&quot;preview_50_L2_k8&quot;</td><td>20995376</td><td>null</td></tr><tr><td>4</td><td>0.8</td><td>1.0</td><td>&quot;rouge_l&quot;</td><td>&quot;datamodels&quot;</td><td>&quot;preview_50_L2_k8&quot;</td><td>21033680</td><td>null</td></tr><tr><td>&hellip;</td><td>&hellip;</td><td>&hellip;</td><td>&hellip;</td><td>&hellip;</td><td>&hellip;</td><td>&hellip;</td><td>&hellip;</td></tr><tr><td>45</td><td>0.0</td><td>0.0</td><td>&quot;squad_v2_best_exact&quot;</td><td>&quot;rag&quot;</td><td>&quot;preview_50_L2_k8&quot;</td><td>20999656</td><td>[15127581, 16988707, … 3117532]</td></tr><tr><td>46</td><td>0.0</td><td>0.0</td><td>&quot;squad_v2_best_exact&quot;</td><td>&quot;rag&quot;</td><td>&quot;preview_50_L2_k8&quot;</td><td>21034797</td><td>[16185470, 17861892, … 13842891]</td></tr><tr><td>47</td><td>0.0</td><td>0.0</td><td>&quot;squad_v2_best_exact&quot;</td><td>&quot;rag&quot;</td><td>&quot;preview_50_L2_k8&quot;</td><td>21033869</td><td>[20073387, 446950, … 15594583]</td></tr><tr><td>48</td><td>1.0</td><td>1.0</td><td>&quot;squad_v2_best_exact&quot;</td><td>&quot;rag&quot;</td><td>&quot;preview_50_L2_k8&quot;</td><td>21034377</td><td>[9800132, 5350486, … 3075070]</td></tr><tr><td>49</td><td>1.0</td><td>1.0</td><td>&quot;squad_v2_best_exact&quot;</td><td>&quot;rag&quot;</td><td>&quot;preview_50_L2_k8&quot;</td><td>21033376</td><td>[8366573, 21027861, … 8349613]</td></tr></tbody></table></div>"
      ],
      "text/plain": [
       "shape: (300, 8)\n",
       "┌─────┬──────────┬──────────┬───────────────┬────────────┬───────────────┬──────────┬──────────────┐\n",
       "│ idx ┆ mean     ┆ max      ┆ metric        ┆ retrieval  ┆ type          ┆ gold     ┆ docs         │\n",
       "│ --- ┆ ---      ┆ ---      ┆ ---           ┆ ---        ┆ ---           ┆ ---      ┆ ---          │\n",
       "│ i64 ┆ f64      ┆ f64      ┆ str           ┆ str        ┆ str           ┆ i64      ┆ list[i64]    │\n",
       "╞═════╪══════════╪══════════╪═══════════════╪════════════╪═══════════════╪══════════╪══════════════╡\n",
       "│ 0   ┆ 0.666667 ┆ 0.666667 ┆ rouge_l       ┆ datamodels ┆ preview_50_L2 ┆ 21033303 ┆ null         │\n",
       "│     ┆          ┆          ┆               ┆            ┆ _k8           ┆          ┆              │\n",
       "│ 1   ┆ 0.8      ┆ 1.0      ┆ rouge_l       ┆ datamodels ┆ preview_50_L2 ┆ 20988218 ┆ null         │\n",
       "│     ┆          ┆          ┆               ┆            ┆ _k8           ┆          ┆              │\n",
       "│ 2   ┆ 0.2      ┆ 1.0      ┆ rouge_l       ┆ datamodels ┆ preview_50_L2 ┆ 20972472 ┆ null         │\n",
       "│     ┆          ┆          ┆               ┆            ┆ _k8           ┆          ┆              │\n",
       "│ 3   ┆ 1.0      ┆ 1.0      ┆ rouge_l       ┆ datamodels ┆ preview_50_L2 ┆ 20995376 ┆ null         │\n",
       "│     ┆          ┆          ┆               ┆            ┆ _k8           ┆          ┆              │\n",
       "│ 4   ┆ 0.8      ┆ 1.0      ┆ rouge_l       ┆ datamodels ┆ preview_50_L2 ┆ 21033680 ┆ null         │\n",
       "│     ┆          ┆          ┆               ┆            ┆ _k8           ┆          ┆              │\n",
       "│ …   ┆ …        ┆ …        ┆ …             ┆ …          ┆ …             ┆ …        ┆ …            │\n",
       "│ 45  ┆ 0.0      ┆ 0.0      ┆ squad_v2_best ┆ rag        ┆ preview_50_L2 ┆ 20999656 ┆ [15127581,   │\n",
       "│     ┆          ┆          ┆ _exact        ┆            ┆ _k8           ┆          ┆ 16988707, …  │\n",
       "│     ┆          ┆          ┆               ┆            ┆               ┆          ┆ 3117532…     │\n",
       "│ 46  ┆ 0.0      ┆ 0.0      ┆ squad_v2_best ┆ rag        ┆ preview_50_L2 ┆ 21034797 ┆ [16185470,   │\n",
       "│     ┆          ┆          ┆ _exact        ┆            ┆ _k8           ┆          ┆ 17861892, …  │\n",
       "│     ┆          ┆          ┆               ┆            ┆               ┆          ┆ 1384289…     │\n",
       "│ 47  ┆ 0.0      ┆ 0.0      ┆ squad_v2_best ┆ rag        ┆ preview_50_L2 ┆ 21033869 ┆ [20073387,   │\n",
       "│     ┆          ┆          ┆ _exact        ┆            ┆ _k8           ┆          ┆ 446950, …    │\n",
       "│     ┆          ┆          ┆               ┆            ┆               ┆          ┆ 15594583]    │\n",
       "│ 48  ┆ 1.0      ┆ 1.0      ┆ squad_v2_best ┆ rag        ┆ preview_50_L2 ┆ 21034377 ┆ [9800132,    │\n",
       "│     ┆          ┆          ┆ _exact        ┆            ┆ _k8           ┆          ┆ 5350486, …   │\n",
       "│     ┆          ┆          ┆               ┆            ┆               ┆          ┆ 3075070]     │\n",
       "│ 49  ┆ 1.0      ┆ 1.0      ┆ squad_v2_best ┆ rag        ┆ preview_50_L2 ┆ 21033376 ┆ [8366573,    │\n",
       "│     ┆          ┆          ┆ _exact        ┆            ┆ _k8           ┆          ┆ 21027861, …  │\n",
       "│     ┆          ┆          ┆               ┆            ┆               ┆          ┆ 8349613]     │\n",
       "└─────┴──────────┴──────────┴───────────────┴────────────┴───────────────┴──────────┴──────────────┘"
      ]
     },
     "execution_count": 51,
     "metadata": {},
     "output_type": "execute_result"
    }
   ],
   "source": [
    "results.filter(pl.col(\"type\") == \"preview_50_L2_k8\")"
   ]
  }
 ],
 "metadata": {
  "kernelspec": {
   "display_name": "nq_dl",
   "language": "python",
   "name": "python3"
  },
  "language_info": {
   "codemirror_mode": {
    "name": "ipython",
    "version": 3
   },
   "file_extension": ".py",
   "mimetype": "text/x-python",
   "name": "python",
   "nbconvert_exporter": "python",
   "pygments_lexer": "ipython3",
   "version": "3.11.11"
  }
 },
 "nbformat": 4,
 "nbformat_minor": 5
}

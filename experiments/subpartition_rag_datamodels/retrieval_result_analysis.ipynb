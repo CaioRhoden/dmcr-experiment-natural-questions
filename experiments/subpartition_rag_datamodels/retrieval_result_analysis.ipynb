{
 "cells": [
  {
   "cell_type": "markdown",
   "id": "7d95c6e7",
   "metadata": {},
   "source": [
    "# Retrieval Results Analysis\n",
    "\n",
    "The goal of this notebok is to investigate the quality of the retrieval when using RAG and the Datamodels re-ranking  \n",
    "To be able to analyse this we will see how each method ranks the golden documents for 50 test samples and how different the ranking were to similar and different performance situations  \n",
    "Finally, we will further oberserve the special scenarios where the baseline performed well but neither the methods acheived the expected answer"
   ]
  },
  {
   "cell_type": "markdown",
   "id": "f2ad19b1",
   "metadata": {},
   "source": [
    "## Setup"
   ]
  },
  {
   "cell_type": "code",
   "execution_count": 11,
   "id": "cfd55a4b",
   "metadata": {},
   "outputs": [],
   "source": [
    "import polars as pl\n",
    "import seaborn as sns\n",
    "import matplotlib.pyplot as plt\n",
    "import json\n",
    "import os"
   ]
  },
  {
   "cell_type": "code",
   "execution_count": 4,
   "id": "29d77c4d",
   "metadata": {},
   "outputs": [
    {
     "data": {
      "text/html": [
       "<div><style>\n",
       ".dataframe > thead > tr,\n",
       ".dataframe > tbody > tr {\n",
       "  text-align: right;\n",
       "  white-space: pre-wrap;\n",
       "}\n",
       "</style>\n",
       "<small>shape: (5, 2)</small><table border=\"1\" class=\"dataframe\"><thead><tr><th>text</th><th>title</th></tr><tr><td>str</td><td>str</td></tr></thead><tbody><tr><td>&quot;Aaron Aaron ( or ; &quot;Ahärôn&quot;) i…</td><td>&quot;Aaron&quot;</td></tr><tr><td>&quot;God at Sinai granted Aaron the…</td><td>&quot;Aaron&quot;</td></tr><tr><td>&quot;his rod turn into a snake. The…</td><td>&quot;Aaron&quot;</td></tr><tr><td>&quot;however, Aaron and Hur remaine…</td><td>&quot;Aaron&quot;</td></tr><tr><td>&quot;Aaron and his sons to the prie…</td><td>&quot;Aaron&quot;</td></tr></tbody></table></div>"
      ],
      "text/plain": [
       "shape: (5, 2)\n",
       "┌─────────────────────────────────┬───────┐\n",
       "│ text                            ┆ title │\n",
       "│ ---                             ┆ ---   │\n",
       "│ str                             ┆ str   │\n",
       "╞═════════════════════════════════╪═══════╡\n",
       "│ Aaron Aaron ( or ; \"Ahärôn\") i… ┆ Aaron │\n",
       "│ God at Sinai granted Aaron the… ┆ Aaron │\n",
       "│ his rod turn into a snake. The… ┆ Aaron │\n",
       "│ however, Aaron and Hur remaine… ┆ Aaron │\n",
       "│ Aaron and his sons to the prie… ┆ Aaron │\n",
       "└─────────────────────────────────┴───────┘"
      ]
     },
     "execution_count": 4,
     "metadata": {},
     "output_type": "execute_result"
    }
   ],
   "source": [
    "## Load wiki\n",
    "wiki = pl.read_ipc(\"../../data/wiki_dump2018_nq_open/processed/wiki.feather\")\n",
    "wiki.head()"
   ]
  },
  {
   "cell_type": "code",
   "execution_count": 3,
   "id": "57109a17",
   "metadata": {},
   "outputs": [
    {
     "data": {
      "text/html": [
       "<div><style>\n",
       ".dataframe > thead > tr,\n",
       ".dataframe > tbody > tr {\n",
       "  text-align: right;\n",
       "  white-space: pre-wrap;\n",
       "}\n",
       "</style>\n",
       "<small>shape: (5, 5)</small><table border=\"1\" class=\"dataframe\"><thead><tr><th>example_id</th><th>question</th><th>answers</th><th>text</th><th>idx_gold_in_corpus</th></tr><tr><td>i64</td><td>str</td><td>list[str]</td><td>str</td><td>i64</td></tr></thead><tbody><tr><td>-5266947057771511513</td><td>&quot;who was the first woman to win…</td><td>[&quot;Judith Cynthia Aline Keppel&quot;]</td><td>&quot;Judith Cynthia Aline Keppel (b…</td><td>21033303</td></tr><tr><td>-7256500086799415081</td><td>&quot;who carried florida by 537 vot…</td><td>[&quot;George W. Bush&quot;, &quot;Bush&quot;]</td><td>&quot;United States presidential ele…</td><td>20988218</td></tr><tr><td>7104554727863075462</td><td>&quot;who&#x27;s the original singer of h…</td><td>[&quot;Kris Kristofferson&quot;]</td><td>&quot;&#x27;&#x27; Help Me Make It Through The…</td><td>20972472</td></tr><tr><td>-5172636572480122331</td><td>&quot;when did the subway open in ne…</td><td>[&quot;October 27 , 1904&quot;, &quot;1904&quot;]</td><td>&quot;The New York City Subway is a …</td><td>20995376</td></tr><tr><td>-7121343730302515106</td><td>&quot;when did the passion of the ch…</td><td>[&quot;2004&quot;, &quot;February 25 , 2004&quot;]</td><td>&quot;The Passion of the Christ ( al…</td><td>21033680</td></tr></tbody></table></div>"
      ],
      "text/plain": [
       "shape: (5, 5)\n",
       "┌───────────────────┬───────────────────┬───────────────────┬───────────────────┬──────────────────┐\n",
       "│ example_id        ┆ question          ┆ answers           ┆ text              ┆ idx_gold_in_corp │\n",
       "│ ---               ┆ ---               ┆ ---               ┆ ---               ┆ us               │\n",
       "│ i64               ┆ str               ┆ list[str]         ┆ str               ┆ ---              │\n",
       "│                   ┆                   ┆                   ┆                   ┆ i64              │\n",
       "╞═══════════════════╪═══════════════════╪═══════════════════╪═══════════════════╪══════════════════╡\n",
       "│ -5266947057771511 ┆ who was the first ┆ [\"Judith Cynthia  ┆ Judith Cynthia    ┆ 21033303         │\n",
       "│ 513               ┆ woman to win…     ┆ Aline Keppel\"…    ┆ Aline Keppel (b…  ┆                  │\n",
       "│ -7256500086799415 ┆ who carried       ┆ [\"George W.       ┆ United States     ┆ 20988218         │\n",
       "│ 081               ┆ florida by 537    ┆ Bush\", \"Bush\"]    ┆ presidential ele… ┆                  │\n",
       "│                   ┆ vot…              ┆                   ┆                   ┆                  │\n",
       "│ 71045547278630754 ┆ who's the         ┆ [\"Kris            ┆ '' Help Me Make   ┆ 20972472         │\n",
       "│ 62                ┆ original singer   ┆ Kristofferson\"]   ┆ It Through The…   ┆                  │\n",
       "│                   ┆ of h…             ┆                   ┆                   ┆                  │\n",
       "│ -5172636572480122 ┆ when did the      ┆ [\"October 27 ,    ┆ The New York City ┆ 20995376         │\n",
       "│ 331               ┆ subway open in    ┆ 1904\", \"1904\"]    ┆ Subway is a …     ┆                  │\n",
       "│                   ┆ ne…               ┆                   ┆                   ┆                  │\n",
       "│ -7121343730302515 ┆ when did the      ┆ [\"2004\",          ┆ The Passion of    ┆ 21033680         │\n",
       "│ 106               ┆ passion of the    ┆ \"February 25 ,    ┆ the Christ ( al…  ┆                  │\n",
       "│                   ┆ ch…               ┆ 2004\"]            ┆                   ┆                  │\n",
       "└───────────────────┴───────────────────┴───────────────────┴───────────────────┴──────────────────┘"
      ]
     },
     "execution_count": 3,
     "metadata": {},
     "output_type": "execute_result"
    }
   ],
   "source": [
    "## Read test df\n",
    "test_df  = pl.read_ipc(\"previews/50_test.feather\")\n",
    "test_df.head()"
   ]
  },
  {
   "cell_type": "code",
   "execution_count": 5,
   "id": "b1f58982",
   "metadata": {},
   "outputs": [
    {
     "data": {
      "text/html": [
       "<div><style>\n",
       ".dataframe > thead > tr,\n",
       ".dataframe > tbody > tr {\n",
       "  text-align: right;\n",
       "  white-space: pre-wrap;\n",
       "}\n",
       "</style>\n",
       "<small>shape: (1, 2)</small><table border=\"1\" class=\"dataframe\"><thead><tr><th>text</th><th>title</th></tr><tr><td>str</td><td>str</td></tr></thead><tbody><tr><td>&quot;The Passion of the Christ ( al…</td><td>&quot;The Passion of the Christ&quot;</td></tr></tbody></table></div>"
      ],
      "text/plain": [
       "shape: (1, 2)\n",
       "┌─────────────────────────────────┬───────────────────────────┐\n",
       "│ text                            ┆ title                     │\n",
       "│ ---                             ┆ ---                       │\n",
       "│ str                             ┆ str                       │\n",
       "╞═════════════════════════════════╪═══════════════════════════╡\n",
       "│ The Passion of the Christ ( al… ┆ The Passion of the Christ │\n",
       "└─────────────────────────────────┴───────────────────────────┘"
      ]
     },
     "execution_count": 5,
     "metadata": {},
     "output_type": "execute_result"
    }
   ],
   "source": [
    "## Example of gold passage based on the last sample showed in the previous cell\n",
    "wiki[21033680]"
   ]
  },
  {
   "cell_type": "code",
   "execution_count": 6,
   "id": "b3faba0a",
   "metadata": {},
   "outputs": [],
   "source": [
    "#### Load generations results\n",
    "PREFIX_PATH = \"previews\"\n",
    "\n",
    "previews = {\n",
    "    \"0\": \"preview_50_L2\",\n",
    "    \"1\": \"preview_50_IP\",\n",
    "    \"2\": \"new_prompt_preview_50_cosine\",\n",
    "    \"4\": \"new_prompt_preview_50_L2\"\n",
    "}\n",
    "\n",
    "dfs = []\n",
    "\n",
    "for f in os.listdir(\"previews_results\"):\n",
    "\n",
    "    _preview_num = f.split(\"_\")[1]\n",
    "\n",
    "\n",
    "    if f.endswith(\"datamodels.feather\"):\n",
    "        retrieval = \"datamodels\"\n",
    "        type = previews[_preview_num]\n",
    "\n",
    "    elif f.endswith(\"baseline.feather\"):\n",
    "        retrieval = \"baseline\"\n",
    "        type = \"baseline\"\n",
    "\n",
    "    else:\n",
    "        retrieval = \"rag\"\n",
    "        type = previews[_preview_num]\n",
    "\n",
    "    _df = pl.read_ipc(f\"previews_results/{f}\")\n",
    "    _df = _df.with_columns(pl.lit(retrieval).alias(\"retrieval\"))\n",
    "    _df = _df.with_columns(pl.lit(type).alias(\"type\"))\n",
    "    dfs.append(_df)"
   ]
  },
  {
   "cell_type": "code",
   "execution_count": 15,
   "id": "f7666300",
   "metadata": {},
   "outputs": [],
   "source": [
    "rag_retrievals = {\n",
    "    \"idx\": [],\n",
    "    \"retrieval\": [],\n",
    "    \"type\": [],\n",
    "    \"docs\": []\n",
    "}\n",
    "\n",
    "for dir in os.listdir(\"previews_results\"):\n",
    "    if dir in previews.values():\n",
    "\n",
    "        docs = json.load(open(f\"previews_results/{dir}/retrieval/rag_retrieval_indexes.json\", \"r\"))\n",
    "        for _key in docs.keys():\n",
    "\n",
    "            rag_retrievals[\"idx\"].append(_key)\n",
    "            rag_retrievals[\"retrieval\"].append(\"rag\")\n",
    "            rag_retrievals[\"type\"].append(dir)\n",
    "            rag_retrievals[\"docs\"].append(docs[_key][:4])"
   ]
  },
  {
   "cell_type": "code",
   "execution_count": null,
   "id": "4d01f3db",
   "metadata": {},
   "outputs": [],
   "source": []
  }
 ],
 "metadata": {
  "kernelspec": {
   "display_name": "nq",
   "language": "python",
   "name": "python3"
  },
  "language_info": {
   "codemirror_mode": {
    "name": "ipython",
    "version": 3
   },
   "file_extension": ".py",
   "mimetype": "text/x-python",
   "name": "python",
   "nbconvert_exporter": "python",
   "pygments_lexer": "ipython3",
   "version": "3.11.11"
  }
 },
 "nbformat": 4,
 "nbformat_minor": 5
}

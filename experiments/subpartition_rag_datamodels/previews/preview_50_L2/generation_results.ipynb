{
 "cells": [
  {
   "cell_type": "markdown",
   "id": "33995338",
   "metadata": {},
   "source": [
    "# Geberation Results\n",
    "\n",
    "The goal of this notebook is to compare the text generations when using the traditional RAG and when usign the re-ranking with datamodels\n"
   ]
  },
  {
   "cell_type": "code",
   "execution_count": 23,
   "id": "04d0f572",
   "metadata": {},
   "outputs": [
    {
     "name": "stdout",
     "output_type": "stream",
     "text": [
      "Number of GPUs available: 1\n",
      "GPU 0: NVIDIA RTX A5000\n"
     ]
    }
   ],
   "source": [
    "import os\n",
    "import random\n",
    "import numpy as np\n",
    "import torch\n",
    "\n",
    "import json\n",
    "import polars as pl\n",
    "import seaborn as sns\n",
    "import matplotlib.pyplot as plt\n",
    "import numpy as np\n",
    "from dmcr.evaluators.Rouge_L_evaluator import Rouge_L_evaluator\n",
    "\n",
    "os.environ[\"CUDA_VISIBLE_DEVICES\"] = \"1\"\n",
    "seed = 42\n",
    "\n",
    "torch.backends.cudnn.enabled = False\n",
    "# NumPy\n",
    "np.random.seed(seed)\n",
    "random.seed(seed)\n",
    "# PyTorch\n",
    "torch.manual_seed(seed)\n",
    "if torch.cuda.is_available():\n",
    "    torch.cuda.manual_seed(seed)\n",
    "    torch.cuda.manual_seed_all(seed)\n",
    "    torch.backends.cudnn.deterministic = True\n",
    "    torch.backends.cudnn.benchmark = False\n",
    "\n",
    "\n",
    "\n",
    "if torch.cuda.is_available():\n",
    "    print(f\"Number of GPUs available: {torch.cuda.device_count()}\")\n",
    "    for i in range(torch.cuda.device_count()):\n",
    "        print(f\"GPU {i}: {torch.cuda.get_device_name(i)}\")\n",
    "\n",
    "device = torch.device(\"cuda:0\" if torch.cuda.is_available() else \"cpu\")"
   ]
  },
  {
   "cell_type": "markdown",
   "id": "8a198788",
   "metadata": {},
   "source": [
    "## Load Data"
   ]
  },
  {
   "cell_type": "code",
   "execution_count": 24,
   "id": "09c36eef",
   "metadata": {},
   "outputs": [],
   "source": [
    "GENERATIONS_PATH = \"generations\"\n",
    "rag_generations = json.load(open(f\"{GENERATIONS_PATH}/rag_generations.json\"))\n",
    "datamodels_generations = json.load(open(f\"{GENERATIONS_PATH}/datamodels_generations.json\"))"
   ]
  },
  {
   "cell_type": "code",
   "execution_count": 25,
   "id": "4ccb888b",
   "metadata": {},
   "outputs": [],
   "source": [
    "questions = pl.read_ipc(\"../50_test.feather\")"
   ]
  },
  {
   "cell_type": "code",
   "execution_count": 31,
   "id": "a3c026f5",
   "metadata": {},
   "outputs": [
    {
     "name": "stderr",
     "output_type": "stream",
     "text": [
      "/tmp/ipykernel_3351872/2531353506.py:1: FutureWarning: You are using `torch.load` with `weights_only=False` (the current default value), which uses the default pickle module implicitly. It is possible to construct malicious pickle data which will execute arbitrary code during unpickling (See https://github.com/pytorch/pytorch/blob/main/SECURITY.md#untrusted-models for more details). In a future release, the default value for `weights_only` will be flipped to `True`. This limits the functions that could be executed during unpickling. Arbitrary objects will no longer be allowed to be loaded via this mode unless they are explicitly allowlisted by the user via `torch.serialization.add_safe_globals`. We recommend you start setting `weights_only=True` for any use case where you don't have full control of the loaded file. Please open an issue on GitHub for any issues related to this experimental feature.\n",
      "  weights = torch.load(\"datamodels/models/preview_50_L2/weights.pt\")\n"
     ]
    }
   ],
   "source": [
    "weights = torch.load(\"datamodels/models/preview_50_L2/weights.pt\")\n",
    "evaluation = pl.read_ipc(\"datamodels/evaluations/evaluation_preview_50_L2_mse.feather\")\n",
    "evaluation_R2 = pl.read_ipc(\"datamodels/evaluations/evaluation_preview_50_L2_R2Score.feather\")"
   ]
  },
  {
   "cell_type": "markdown",
   "id": "3c04e35b",
   "metadata": {},
   "source": [
    "## Evaluations Datamodels"
   ]
  },
  {
   "cell_type": "code",
   "execution_count": 33,
   "id": "4b67a80a",
   "metadata": {},
   "outputs": [
    {
     "name": "stdout",
     "output_type": "stream",
     "text": [
      "Mean MSe: shape: (1, 1)\n",
      "┌────────────┐\n",
      "│ metric_mse │\n",
      "│ ---        │\n",
      "│ f64        │\n",
      "╞════════════╡\n",
      "│ 0.004715   │\n",
      "└────────────┘\n",
      "Median MSE: shape: (1, 1)\n",
      "┌────────────┐\n",
      "│ metric_mse │\n",
      "│ ---        │\n",
      "│ f64        │\n",
      "╞════════════╡\n",
      "│ 0.000059   │\n",
      "└────────────┘\n"
     ]
    }
   ],
   "source": [
    "print(f\"Mean MSe: {evaluation.select('metric_mse').mean()}\")\n",
    "print(f\"Median MSE: {evaluation.select('metric_mse').median()}\")"
   ]
  },
  {
   "cell_type": "code",
   "execution_count": 34,
   "id": "75bdb6ed",
   "metadata": {},
   "outputs": [
    {
     "data": {
      "text/plain": [
       "<Axes: xlabel='metric_mse', ylabel='Count'>"
      ]
     },
     "execution_count": 34,
     "metadata": {},
     "output_type": "execute_result"
    },
    {
     "data": {
      "image/png": "[encoded data removed]",
      "text/plain": [
       "<Figure size 640x480 with 1 Axes>"
      ]
     },
     "metadata": {},
     "output_type": "display_data"
    }
   ],
   "source": [
    "sns.histplot(\n",
    "    data=evaluation,\n",
    "    x=\"metric_mse\",\n",
    "    kde=True,\n",
    "    color=\"orange\"\n",
    ")"
   ]
  },
  {
   "cell_type": "code",
   "execution_count": 36,
   "id": "07800123",
   "metadata": {},
   "outputs": [
    {
     "name": "stdout",
     "output_type": "stream",
     "text": [
      "Mean R2: shape: (1, 1)\n",
      "┌────────────────┐\n",
      "│ metric_R2Score │\n",
      "│ ---            │\n",
      "│ f64            │\n",
      "╞════════════════╡\n",
      "│ -inf           │\n",
      "└────────────────┘\n",
      "Median R2: shape: (1, 1)\n",
      "┌────────────────┐\n",
      "│ metric_R2Score │\n",
      "│ ---            │\n",
      "│ f64            │\n",
      "╞════════════════╡\n",
      "│ -inf           │\n",
      "└────────────────┘\n"
     ]
    }
   ],
   "source": [
    "print(f\"Mean R2: {evaluation_R2.select('metric_R2Score').mean()}\")\n",
    "print(f\"Median R2: {evaluation_R2.select('metric_R2Score').median()}\")"
   ]
  },
  {
   "cell_type": "code",
   "execution_count": 37,
   "id": "dbab19bc",
   "metadata": {},
   "outputs": [
    {
     "data": {
      "text/html": [
       "<div><style>\n",
       ".dataframe > thead > tr,\n",
       ".dataframe > tbody > tr {\n",
       "  text-align: right;\n",
       "  white-space: pre-wrap;\n",
       "}\n",
       "</style>\n",
       "<small>shape: (50, 2)</small><table border=\"1\" class=\"dataframe\"><thead><tr><th>metric_R2Score</th><th>test_idx</th></tr><tr><td>f64</td><td>i64</td></tr></thead><tbody><tr><td>-inf</td><td>0</td></tr><tr><td>-1.151525</td><td>1</td></tr><tr><td>-inf</td><td>2</td></tr><tr><td>-inf</td><td>3</td></tr><tr><td>-0.219454</td><td>4</td></tr><tr><td>&hellip;</td><td>&hellip;</td></tr><tr><td>-1.292655</td><td>45</td></tr><tr><td>-inf</td><td>46</td></tr><tr><td>-inf</td><td>47</td></tr><tr><td>-inf</td><td>48</td></tr><tr><td>-1.203936</td><td>49</td></tr></tbody></table></div>"
      ],
      "text/plain": [
       "shape: (50, 2)\n",
       "┌────────────────┬──────────┐\n",
       "│ metric_R2Score ┆ test_idx │\n",
       "│ ---            ┆ ---      │\n",
       "│ f64            ┆ i64      │\n",
       "╞════════════════╪══════════╡\n",
       "│ -inf           ┆ 0        │\n",
       "│ -1.151525      ┆ 1        │\n",
       "│ -inf           ┆ 2        │\n",
       "│ -inf           ┆ 3        │\n",
       "│ -0.219454      ┆ 4        │\n",
       "│ …              ┆ …        │\n",
       "│ -1.292655      ┆ 45       │\n",
       "│ -inf           ┆ 46       │\n",
       "│ -inf           ┆ 47       │\n",
       "│ -inf           ┆ 48       │\n",
       "│ -1.203936      ┆ 49       │\n",
       "└────────────────┴──────────┘"
      ]
     },
     "execution_count": 37,
     "metadata": {},
     "output_type": "execute_result"
    }
   ],
   "source": [
    "evaluation_R2"
   ]
  },
  {
   "cell_type": "code",
   "execution_count": 38,
   "id": "33673751",
   "metadata": {},
   "outputs": [
    {
     "name": "stdout",
     "output_type": "stream",
     "text": [
      "Model 0 under evaluation\n"
     ]
    }
   ],
   "source": [
    "from dmcr.datamodels.models import LinearRegressor\n",
    "\n",
    "DATAMODELS_PATH = \"datamodels\"\n",
    "model_id = \"preview_50_L2\"\n",
    "num_models = 50\n",
    "metric = \"R2Score\"\n",
    "\n",
    "device = torch.device(\"cuda\" if torch.cuda.is_available() else \"cpu\")\n",
    "\n",
    "\n",
    "## Load model parameters\n",
    "weigths = torch.load(f\"{DATAMODELS_PATH}/models/{model_id}/weights.pt\", weights_only=True)\n",
    "bias = torch.load(f\"{DATAMODELS_PATH}/models/{model_id}/bias.pt\", weights_only=True)\n",
    "\n",
    "## Create and verify list of files from collection\n",
    "colleciton_path = f\"{DATAMODELS_PATH}/collections/test/\"\n",
    "collections_arr = [os.path.join(colleciton_path, f) for f in os.listdir(colleciton_path) if f.endswith(\".feather\")]\n",
    "if len(collections_arr) == 0:\n",
    "    raise Exception(\"No collections found in test folder\")\n",
    "\n",
    "df = pl.concat([pl.read_ipc(file) for file in collections_arr], how=\"vertical\")\n",
    "\n",
    "\n",
    "\n",
    "evaluations = {\n",
    "    f\"metric_{metric}\": [],\n",
    "    \"test_idx\": [],\n",
    "}\n",
    "\n",
    "\n",
    "for idx in range(1):\n",
    "        \n",
    "        print(f\"Model {idx} under evaluation\")\n",
    "\n",
    "        ## Preoare dataset\n",
    "        \n",
    "        _temp = (\n",
    "            df.filter(pl.col(\"test_idx\") == idx)\n",
    "            .select(pl.col(\"input\"), pl.col(\"evaluation\"))\n",
    "        )\n",
    "\n",
    "        _x = _temp[\"input\"].to_numpy()\n",
    "        _y = _temp[\"evaluation\"].to_numpy()\n",
    "\n",
    "        dataset = torch.utils.data.TensorDataset(torch.tensor(_x, device=device), torch.tensor(_y, device=device))\n",
    "        test_loader = torch.utils.data.DataLoader(dataset, batch_size=len(_x))\n",
    "\n",
    "        ## Load models\n",
    "        model = LinearRegressor(len(dataset[0][0]), 1)\n",
    "        model.load_state_dict({ \"linear.weight\": weigths[idx].unsqueeze(0), \"linear.bias\": bias[idx].unsqueeze(0) })\n",
    "        model.to(device)\n",
    "\n",
    "        ## Evaluate in test\n",
    "        inputs, target = next(iter(test_loader))\n",
    "\n",
    "        total_metric = model.evaluate(inputs.to(device).to(dtype=torch.float32), target.to(device).to(dtype=torch.float32), metric=metric)\n",
    "\n",
    "        evaluations[f\"metric_{metric}\"].append(total_metric)\n",
    "        evaluations[\"test_idx\"].append(idx)\n",
    "\n",
    "\n",
    "## Save evaluations\n",
    "if not os.path.exists(f\"{DATAMODELS_PATH}/evaluations\"):\n",
    "    os.mkdir(f\"{DATAMODELS_PATH}/evaluations\")\n",
    "\n",
    "test_eval = pl.DataFrame(evaluations)"
   ]
  },
  {
   "cell_type": "code",
   "execution_count": 44,
   "id": "57cd4495",
   "metadata": {},
   "outputs": [
    {
     "data": {
      "text/html": [
       "<div><style>\n",
       ".dataframe > thead > tr,\n",
       ".dataframe > tbody > tr {\n",
       "  text-align: right;\n",
       "  white-space: pre-wrap;\n",
       "}\n",
       "</style>\n",
       "<small>shape: (1, 4)</small><table border=\"1\" class=\"dataframe\"><thead><tr><th>collection_idx</th><th>test_idx</th><th>input</th><th>evaluation</th></tr><tr><td>i64</td><td>i64</td><td>array[i64, 100]</td><td>f64</td></tr></thead><tbody><tr><td>64</td><td>4</td><td>[0, 0, … 0]</td><td>0.285714</td></tr></tbody></table></div>"
      ],
      "text/plain": [
       "shape: (1, 4)\n",
       "┌────────────────┬──────────┬─────────────────┬────────────┐\n",
       "│ collection_idx ┆ test_idx ┆ input           ┆ evaluation │\n",
       "│ ---            ┆ ---      ┆ ---             ┆ ---        │\n",
       "│ i64            ┆ i64      ┆ array[i64, 100] ┆ f64        │\n",
       "╞════════════════╪══════════╪═════════════════╪════════════╡\n",
       "│ 64             ┆ 4        ┆ [0, 0, … 0]     ┆ 0.285714   │\n",
       "└────────────────┴──────────┴─────────────────┴────────────┘"
      ]
     },
     "execution_count": 44,
     "metadata": {},
     "output_type": "execute_result"
    }
   ],
   "source": [
    "df.filter(pl.col(\"test_idx\") == 4).filter(pl.col(\"evaluation\") > 0)"
   ]
  },
  {
   "cell_type": "code",
   "execution_count": 45,
   "id": "5435cfce",
   "metadata": {},
   "outputs": [],
   "source": [
    "colleciton_path = f\"{DATAMODELS_PATH}/collections/train/\"\n",
    "collections_arr = [os.path.join(colleciton_path, f) for f in os.listdir(colleciton_path) if f.endswith(\".feather\")]\n",
    "if len(collections_arr) == 0:\n",
    "    raise Exception(\"No collections found in test folder\")\n",
    "\n",
    "df = pl.concat([pl.read_ipc(file) for file in collections_arr], how=\"vertical\")\n"
   ]
  },
  {
   "cell_type": "code",
   "execution_count": 49,
   "id": "b494f86d",
   "metadata": {},
   "outputs": [
    {
     "data": {
      "text/html": [
       "<div><style>\n",
       ".dataframe > thead > tr,\n",
       ".dataframe > tbody > tr {\n",
       "  text-align: right;\n",
       "  white-space: pre-wrap;\n",
       "}\n",
       "</style>\n",
       "<small>shape: (13_301, 4)</small><table border=\"1\" class=\"dataframe\"><thead><tr><th>collection_idx</th><th>test_idx</th><th>input</th><th>evaluation</th></tr><tr><td>i64</td><td>i64</td><td>array[i64, 100]</td><td>f64</td></tr></thead><tbody><tr><td>1000</td><td>20</td><td>[0, 0, … 0]</td><td>0.142857</td></tr><tr><td>1000</td><td>23</td><td>[0, 0, … 0]</td><td>0.307692</td></tr><tr><td>1000</td><td>25</td><td>[0, 0, … 0]</td><td>0.181818</td></tr><tr><td>1000</td><td>26</td><td>[0, 0, … 0]</td><td>0.25</td></tr><tr><td>1000</td><td>45</td><td>[0, 0, … 0]</td><td>0.5</td></tr><tr><td>&hellip;</td><td>&hellip;</td><td>&hellip;</td><td>&hellip;</td></tr><tr><td>999</td><td>18</td><td>[0, 0, … 0]</td><td>0.142857</td></tr><tr><td>999</td><td>23</td><td>[0, 0, … 0]</td><td>0.166667</td></tr><tr><td>999</td><td>25</td><td>[0, 0, … 0]</td><td>0.166667</td></tr><tr><td>999</td><td>26</td><td>[0, 0, … 0]</td><td>0.25</td></tr><tr><td>999</td><td>30</td><td>[0, 0, … 0]</td><td>0.153846</td></tr></tbody></table></div>"
      ],
      "text/plain": [
       "shape: (13_301, 4)\n",
       "┌────────────────┬──────────┬─────────────────┬────────────┐\n",
       "│ collection_idx ┆ test_idx ┆ input           ┆ evaluation │\n",
       "│ ---            ┆ ---      ┆ ---             ┆ ---        │\n",
       "│ i64            ┆ i64      ┆ array[i64, 100] ┆ f64        │\n",
       "╞════════════════╪══════════╪═════════════════╪════════════╡\n",
       "│ 1000           ┆ 20       ┆ [0, 0, … 0]     ┆ 0.142857   │\n",
       "│ 1000           ┆ 23       ┆ [0, 0, … 0]     ┆ 0.307692   │\n",
       "│ 1000           ┆ 25       ┆ [0, 0, … 0]     ┆ 0.181818   │\n",
       "│ 1000           ┆ 26       ┆ [0, 0, … 0]     ┆ 0.25       │\n",
       "│ 1000           ┆ 45       ┆ [0, 0, … 0]     ┆ 0.5        │\n",
       "│ …              ┆ …        ┆ …               ┆ …          │\n",
       "│ 999            ┆ 18       ┆ [0, 0, … 0]     ┆ 0.142857   │\n",
       "│ 999            ┆ 23       ┆ [0, 0, … 0]     ┆ 0.166667   │\n",
       "│ 999            ┆ 25       ┆ [0, 0, … 0]     ┆ 0.166667   │\n",
       "│ 999            ┆ 26       ┆ [0, 0, … 0]     ┆ 0.25       │\n",
       "│ 999            ┆ 30       ┆ [0, 0, … 0]     ┆ 0.153846   │\n",
       "└────────────────┴──────────┴─────────────────┴────────────┘"
      ]
     },
     "execution_count": 49,
     "metadata": {},
     "output_type": "execute_result"
    }
   ],
   "source": [
    "df.filter(pl.col(\"evaluation\") > 0)"
   ]
  },
  {
   "cell_type": "markdown",
   "id": "66b1681a",
   "metadata": {},
   "source": [
    "## Results for Generations Comparison"
   ]
  },
  {
   "cell_type": "code",
   "execution_count": 34,
   "id": "fd152cc6",
   "metadata": {},
   "outputs": [],
   "source": [
    "results = {\n",
    "    \"idx\": [],\n",
    "    \"mean_metric_rag\": [],\n",
    "    \"mean_metric_datamodels\": [],\n",
    "}\n",
    "evaluator = Rouge_L_evaluator()\n",
    "\n",
    "\n",
    "for i in range(len(rag_generations)):\n",
    "    rag_i_results = []\n",
    "    datamodels_i_results = []\n",
    "    results[\"idx\"].append(i)\n",
    "    for j in range(len(rag_generations[str(i)])):\n",
    "\n",
    "        max_rag = 0\n",
    "        max_datamodels = 0\n",
    "        \n",
    "        for res in  questions[i][\"answers\"].to_numpy().flatten()[0]:\n",
    "\n",
    "            metric_rag = evaluator.evaluate(np.array([res]), np.array([str(rag_generations[str(i)][j])]))\n",
    "            metric_datamodels = evaluator.evaluate(np.array([res]), np.array([str(datamodels_generations[str(i)][j])]))\n",
    "            \n",
    "            max_rag = max(max_rag, metric_rag[0])\n",
    "            max_datamodels = max(max_datamodels, metric_datamodels[0])\n",
    "\n",
    "        rag_i_results.append(max_rag)\n",
    "        datamodels_i_results.append(max_datamodels)\n",
    "\n",
    "    results[\"mean_metric_rag\"].append(np.mean(rag_i_results))\n",
    "    results[\"mean_metric_datamodels\"].append(np.mean(datamodels_i_results))\n",
    "    df_results = pl.DataFrame(results)\n",
    "    df_results.write_ipc(\"results.feather\")\n",
    "\n",
    "df_results = pl.DataFrame(results)"
   ]
  },
  {
   "cell_type": "code",
   "execution_count": 8,
   "id": "7c5b1a50",
   "metadata": {},
   "outputs": [
    {
     "data": {
      "text/plain": [
       "'According to the Death Penalty Information Center, there are'"
      ]
     },
     "execution_count": 8,
     "metadata": {},
     "output_type": "execute_result"
    }
   ],
   "source": [
    "rag_generations[str(i)][j]"
   ]
  },
  {
   "cell_type": "code",
   "execution_count": 9,
   "id": "3cf4a4d3",
   "metadata": {},
   "outputs": [
    {
     "data": {
      "text/plain": [
       "array(['2,718'], dtype='<U5')"
      ]
     },
     "execution_count": 9,
     "metadata": {},
     "output_type": "execute_result"
    }
   ],
   "source": [
    "np.array([res])"
   ]
  },
  {
   "cell_type": "code",
   "execution_count": 39,
   "id": "672b298b",
   "metadata": {},
   "outputs": [],
   "source": [
    "results = pl.read_ipc(\"results.feather\")\n",
    "rag_metric = results[\"mean_metric_rag\"].to_numpy().flatten()\n",
    "datamodels_metric = results[\"mean_metric_datamodels\"].to_numpy().flatten()"
   ]
  },
  {
   "cell_type": "code",
   "execution_count": 43,
   "id": "d53a6360",
   "metadata": {},
   "outputs": [
    {
     "name": "stdout",
     "output_type": "stream",
     "text": [
      "0.05067113997113996 0.05640779220779221\n"
     ]
    }
   ],
   "source": [
    "print(np.mean(rag_metric), np.mean(datamodels_metric))"
   ]
  }
 ],
 "metadata": {
  "kernelspec": {
   "display_name": "nq",
   "language": "python",
   "name": "python3"
  },
  "language_info": {
   "codemirror_mode": {
    "name": "ipython",
    "version": 3
   },
   "file_extension": ".py",
   "mimetype": "text/x-python",
   "name": "python",
   "nbconvert_exporter": "python",
   "pygments_lexer": "ipython3",
   "version": "3.11.11"
  }
 },
 "nbformat": 4,
 "nbformat_minor": 5
}

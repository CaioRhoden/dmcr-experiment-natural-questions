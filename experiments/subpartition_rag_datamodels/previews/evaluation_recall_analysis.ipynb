{
 "cells": [
  {
   "cell_type": "markdown",
   "id": "03aafb60",
   "metadata": {},
   "source": [
    "# Evaluation Recall Analysis\n",
    "\n",
    "One thing that the current preview experiments demonstrated (50_IP, 50_L2) it's that most of the collections evlauated in the top 50 are retrieving 0  \n",
    "The goal with this notebook it's investigate possible patterns for the recurrency of this behavior  \n",
    "In order to mitigate that we tried an approach where the default instruction prompt tried to incetivate the answer generation  \n",
    "Here we will anlyse the following questions:\n",
    "- The indexation retrieval impact in the massive lack of answers?\n",
    "- The mean distance of the retrieval correlates with the lack of answer?\n",
    "- The differentiation in the prompt was effective to increase the recall?"
   ]
  },
  {
   "cell_type": "markdown",
   "id": "dd63ce95",
   "metadata": {},
   "source": [
    "# Imports"
   ]
  },
  {
   "cell_type": "code",
   "execution_count": 1,
   "id": "f9f41101",
   "metadata": {},
   "outputs": [
    {
     "name": "stderr",
     "output_type": "stream",
     "text": [
      "/home/caio.rhoden/miniconda3/envs/nq/lib/python3.11/site-packages/tqdm/auto.py:21: TqdmWarning: IProgress not found. Please update jupyter and ipywidgets. See https://ipywidgets.readthedocs.io/en/stable/user_install.html\n",
      "  from .autonotebook import tqdm as notebook_tqdm\n"
     ]
    },
    {
     "name": "stdout",
     "output_type": "stream",
     "text": [
      "Number of GPUs available: 1\n",
      "GPU 0: NVIDIA RTX A5000\n"
     ]
    }
   ],
   "source": [
    "import os\n",
    "import random\n",
    "import numpy as np\n",
    "import torch\n",
    "\n",
    "import json\n",
    "import polars as pl\n",
    "import seaborn as sns\n",
    "import matplotlib.pyplot as plt\n",
    "import numpy as np\n",
    "from dmcr.evaluators.Rouge_L_evaluator import Rouge_L_evaluator\n",
    "\n",
    "os.environ[\"CUDA_VISIBLE_DEVICES\"] = \"3\"\n",
    "seed = 42\n",
    "\n",
    "torch.backends.cudnn.enabled = False\n",
    "# NumPy\n",
    "np.random.seed(seed)\n",
    "random.seed(seed)\n",
    "# PyTorch\n",
    "torch.manual_seed(seed)\n",
    "if torch.cuda.is_available():\n",
    "    torch.cuda.manual_seed(seed)\n",
    "    torch.cuda.manual_seed_all(seed)\n",
    "    torch.backends.cudnn.deterministic = True\n",
    "    torch.backends.cudnn.benchmark = False\n",
    "\n",
    "\n",
    "\n",
    "if torch.cuda.is_available():\n",
    "    print(f\"Number of GPUs available: {torch.cuda.device_count()}\")\n",
    "    for i in range(torch.cuda.device_count()):\n",
    "        print(f\"GPU {i}: {torch.cuda.get_device_name(i)}\")\n",
    "\n",
    "device = torch.device(\"cuda:0\" if torch.cuda.is_available() else \"cpu\")"
   ]
  },
  {
   "cell_type": "code",
   "execution_count": null,
   "id": "0fb56c56",
   "metadata": {},
   "outputs": [],
   "source": [
    "L2_PATH = \"preview_50_L2\"\n",
    "IP_PATH = \"preview_50_IP\"\n",
    "COSINE_PATH = \"new_prompt_preview_50_cosine\"\n",
    "K8_PATH = \"preview_50_L2_k8\"\n"
   ]
  },
  {
   "cell_type": "markdown",
   "id": "d0aa617c",
   "metadata": {},
   "source": [
    "## The indexation retrieval impact in the massive lack of answers?\n",
    "\n",
    "In order to this we will calculate the number of non-zero collectionss samples  \n",
    "The maximun of samples of 100k the setup of comparison it's the 4 documents in the context using Llama-3.2-8B-Instruct  \n"
   ]
  },
  {
   "cell_type": "code",
   "execution_count": 9,
   "id": "e8e3e676",
   "metadata": {},
   "outputs": [
    {
     "ename": "FileNotFoundError",
     "evalue": "No such file or directory (os error 2): preview_50_L2_k8/datamodels/collections/train/preview_50_L2_k8_train_collection.feather",
     "output_type": "error",
     "traceback": [
      "\u001b[31m---------------------------------------------------------------------------\u001b[39m",
      "\u001b[31mFileNotFoundError\u001b[39m                         Traceback (most recent call last)",
      "\u001b[36mCell\u001b[39m\u001b[36m \u001b[39m\u001b[32mIn[9]\u001b[39m\u001b[32m, line 5\u001b[39m\n\u001b[32m      3\u001b[39m test_collections = []\n\u001b[32m      4\u001b[39m \u001b[38;5;28;01mfor\u001b[39;00m collection_path \u001b[38;5;129;01min\u001b[39;00m [L2_PATH, IP_PATH, K8_PATH]:\n\u001b[32m----> \u001b[39m\u001b[32m5\u001b[39m     df_train = \u001b[43mpl\u001b[49m\u001b[43m.\u001b[49m\u001b[43mread_ipc\u001b[49m\u001b[43m(\u001b[49m\u001b[33;43mf\u001b[39;49m\u001b[33;43m\"\u001b[39;49m\u001b[38;5;132;43;01m{\u001b[39;49;00m\u001b[43mcollection_path\u001b[49m\u001b[38;5;132;43;01m}\u001b[39;49;00m\u001b[33;43m/datamodels/collections/train/\u001b[39;49m\u001b[38;5;132;43;01m{\u001b[39;49;00m\u001b[43mcollection_path\u001b[49m\u001b[38;5;132;43;01m}\u001b[39;49;00m\u001b[33;43m_train_collection.feather\u001b[39;49m\u001b[33;43m\"\u001b[39;49m\u001b[43m)\u001b[49m.with_columns(pl.lit(\u001b[33mf\u001b[39m\u001b[33m\"\u001b[39m\u001b[38;5;132;01m{\u001b[39;00mcollection_path\u001b[38;5;132;01m}\u001b[39;00m\u001b[33m\"\u001b[39m).alias(\u001b[33m\"\u001b[39m\u001b[33mcollection_path\u001b[39m\u001b[33m\"\u001b[39m))\n\u001b[32m      6\u001b[39m     df_test = pl.read_ipc(\u001b[33mf\u001b[39m\u001b[33m\"\u001b[39m\u001b[38;5;132;01m{\u001b[39;00mcollection_path\u001b[38;5;132;01m}\u001b[39;00m\u001b[33m/datamodels/collections/test/\u001b[39m\u001b[38;5;132;01m{\u001b[39;00mcollection_path\u001b[38;5;132;01m}\u001b[39;00m\u001b[33m_test_collection.feather\u001b[39m\u001b[33m\"\u001b[39m).with_columns(pl.lit(\u001b[33mf\u001b[39m\u001b[33m\"\u001b[39m\u001b[38;5;132;01m{\u001b[39;00mcollection_path\u001b[38;5;132;01m}\u001b[39;00m\u001b[33m\"\u001b[39m).alias(\u001b[33m\"\u001b[39m\u001b[33mcollection_path\u001b[39m\u001b[33m\"\u001b[39m))\n\u001b[32m      7\u001b[39m     train_collections.append(df_train)\n",
      "\u001b[36mFile \u001b[39m\u001b[32m~/miniconda3/envs/nq/lib/python3.11/site-packages/polars/_utils/deprecation.py:92\u001b[39m, in \u001b[36mdeprecate_renamed_parameter.<locals>.decorate.<locals>.wrapper\u001b[39m\u001b[34m(*args, **kwargs)\u001b[39m\n\u001b[32m     87\u001b[39m \u001b[38;5;129m@wraps\u001b[39m(function)\n\u001b[32m     88\u001b[39m \u001b[38;5;28;01mdef\u001b[39;00m\u001b[38;5;250m \u001b[39m\u001b[34mwrapper\u001b[39m(*args: P.args, **kwargs: P.kwargs) -> T:\n\u001b[32m     89\u001b[39m     _rename_keyword_argument(\n\u001b[32m     90\u001b[39m         old_name, new_name, kwargs, function.\u001b[34m__qualname__\u001b[39m, version\n\u001b[32m     91\u001b[39m     )\n\u001b[32m---> \u001b[39m\u001b[32m92\u001b[39m     \u001b[38;5;28;01mreturn\u001b[39;00m \u001b[43mfunction\u001b[49m\u001b[43m(\u001b[49m\u001b[43m*\u001b[49m\u001b[43margs\u001b[49m\u001b[43m,\u001b[49m\u001b[43m \u001b[49m\u001b[43m*\u001b[49m\u001b[43m*\u001b[49m\u001b[43mkwargs\u001b[49m\u001b[43m)\u001b[49m\n",
      "\u001b[36mFile \u001b[39m\u001b[32m~/miniconda3/envs/nq/lib/python3.11/site-packages/polars/_utils/deprecation.py:92\u001b[39m, in \u001b[36mdeprecate_renamed_parameter.<locals>.decorate.<locals>.wrapper\u001b[39m\u001b[34m(*args, **kwargs)\u001b[39m\n\u001b[32m     87\u001b[39m \u001b[38;5;129m@wraps\u001b[39m(function)\n\u001b[32m     88\u001b[39m \u001b[38;5;28;01mdef\u001b[39;00m\u001b[38;5;250m \u001b[39m\u001b[34mwrapper\u001b[39m(*args: P.args, **kwargs: P.kwargs) -> T:\n\u001b[32m     89\u001b[39m     _rename_keyword_argument(\n\u001b[32m     90\u001b[39m         old_name, new_name, kwargs, function.\u001b[34m__qualname__\u001b[39m, version\n\u001b[32m     91\u001b[39m     )\n\u001b[32m---> \u001b[39m\u001b[32m92\u001b[39m     \u001b[38;5;28;01mreturn\u001b[39;00m \u001b[43mfunction\u001b[49m\u001b[43m(\u001b[49m\u001b[43m*\u001b[49m\u001b[43margs\u001b[49m\u001b[43m,\u001b[49m\u001b[43m \u001b[49m\u001b[43m*\u001b[49m\u001b[43m*\u001b[49m\u001b[43mkwargs\u001b[49m\u001b[43m)\u001b[49m\n",
      "\u001b[36mFile \u001b[39m\u001b[32m~/miniconda3/envs/nq/lib/python3.11/site-packages/polars/io/ipc/functions.py:163\u001b[39m, in \u001b[36mread_ipc\u001b[39m\u001b[34m(source, columns, n_rows, use_pyarrow, memory_map, storage_options, row_index_name, row_index_offset, rechunk)\u001b[39m\n\u001b[32m    160\u001b[39m         df = df.slice(\u001b[32m0\u001b[39m, n_rows)\n\u001b[32m    161\u001b[39m     \u001b[38;5;28;01mreturn\u001b[39;00m df\n\u001b[32m--> \u001b[39m\u001b[32m163\u001b[39m \u001b[38;5;28;01mreturn\u001b[39;00m \u001b[43m_read_ipc_impl\u001b[49m\u001b[43m(\u001b[49m\n\u001b[32m    164\u001b[39m \u001b[43m    \u001b[49m\u001b[43mdata\u001b[49m\u001b[43m,\u001b[49m\n\u001b[32m    165\u001b[39m \u001b[43m    \u001b[49m\u001b[43mcolumns\u001b[49m\u001b[43m=\u001b[49m\u001b[43mcolumns\u001b[49m\u001b[43m,\u001b[49m\n\u001b[32m    166\u001b[39m \u001b[43m    \u001b[49m\u001b[43mn_rows\u001b[49m\u001b[43m=\u001b[49m\u001b[43mn_rows\u001b[49m\u001b[43m,\u001b[49m\n\u001b[32m    167\u001b[39m \u001b[43m    \u001b[49m\u001b[43mrow_index_name\u001b[49m\u001b[43m=\u001b[49m\u001b[43mrow_index_name\u001b[49m\u001b[43m,\u001b[49m\n\u001b[32m    168\u001b[39m \u001b[43m    \u001b[49m\u001b[43mrow_index_offset\u001b[49m\u001b[43m=\u001b[49m\u001b[43mrow_index_offset\u001b[49m\u001b[43m,\u001b[49m\n\u001b[32m    169\u001b[39m \u001b[43m    \u001b[49m\u001b[43mrechunk\u001b[49m\u001b[43m=\u001b[49m\u001b[43mrechunk\u001b[49m\u001b[43m,\u001b[49m\n\u001b[32m    170\u001b[39m \u001b[43m    \u001b[49m\u001b[43mmemory_map\u001b[49m\u001b[43m=\u001b[49m\u001b[43mmemory_map\u001b[49m\u001b[43m,\u001b[49m\n\u001b[32m    171\u001b[39m \u001b[43m\u001b[49m\u001b[43m)\u001b[49m\n",
      "\u001b[36mFile \u001b[39m\u001b[32m~/miniconda3/envs/nq/lib/python3.11/site-packages/polars/io/ipc/functions.py:210\u001b[39m, in \u001b[36m_read_ipc_impl\u001b[39m\u001b[34m(source, columns, n_rows, row_index_name, row_index_offset, rechunk, memory_map)\u001b[39m\n\u001b[32m    207\u001b[39m     \u001b[38;5;28;01mreturn\u001b[39;00m df\n\u001b[32m    209\u001b[39m projection, columns = parse_columns_arg(columns)\n\u001b[32m--> \u001b[39m\u001b[32m210\u001b[39m pydf = \u001b[43mPyDataFrame\u001b[49m\u001b[43m.\u001b[49m\u001b[43mread_ipc\u001b[49m\u001b[43m(\u001b[49m\n\u001b[32m    211\u001b[39m \u001b[43m    \u001b[49m\u001b[43msource\u001b[49m\u001b[43m,\u001b[49m\n\u001b[32m    212\u001b[39m \u001b[43m    \u001b[49m\u001b[43mcolumns\u001b[49m\u001b[43m,\u001b[49m\n\u001b[32m    213\u001b[39m \u001b[43m    \u001b[49m\u001b[43mprojection\u001b[49m\u001b[43m,\u001b[49m\n\u001b[32m    214\u001b[39m \u001b[43m    \u001b[49m\u001b[43mn_rows\u001b[49m\u001b[43m,\u001b[49m\n\u001b[32m    215\u001b[39m \u001b[43m    \u001b[49m\u001b[43mparse_row_index_args\u001b[49m\u001b[43m(\u001b[49m\u001b[43mrow_index_name\u001b[49m\u001b[43m,\u001b[49m\u001b[43m \u001b[49m\u001b[43mrow_index_offset\u001b[49m\u001b[43m)\u001b[49m\u001b[43m,\u001b[49m\n\u001b[32m    216\u001b[39m \u001b[43m    \u001b[49m\u001b[43mmemory_map\u001b[49m\u001b[43m=\u001b[49m\u001b[43mmemory_map\u001b[49m\u001b[43m,\u001b[49m\n\u001b[32m    217\u001b[39m \u001b[43m\u001b[49m\u001b[43m)\u001b[49m\n\u001b[32m    218\u001b[39m \u001b[38;5;28;01mreturn\u001b[39;00m wrap_df(pydf)\n",
      "\u001b[31mFileNotFoundError\u001b[39m: No such file or directory (os error 2): preview_50_L2_k8/datamodels/collections/train/preview_50_L2_k8_train_collection.feather"
     ]
    }
   ],
   "source": [
    "## Load collections by index\n",
    "train_collections = []\n",
    "test_collections = []\n",
    "for collection_path in [L2_PATH, IP_PATH, K8_PATH]:\n",
    "    df_train = pl.read_ipc(f\"{collection_path}/datamodels/collections/train/{collection_path}_train_collection.feather\").with_columns(pl.lit(f\"{collection_path}\").alias(\"collection_path\"))\n",
    "    df_test = pl.read_ipc(f\"{collection_path}/datamodels/collections/test/{collection_path}_test_collection.feather\").with_columns(pl.lit(f\"{collection_path}\").alias(\"collection_path\"))\n",
    "    train_collections.append(df_train)\n",
    "    test_collections.append(df_test)\n",
    "\n",
    "train_collections = pl.concat(train_collections)\n",
    "test_collections = pl.concat(test_collections)"
   ]
  },
  {
   "cell_type": "code",
   "execution_count": null,
   "id": "4544d3ce",
   "metadata": {},
   "outputs": [
    {
     "data": {
      "text/html": [
       "<div><style>\n",
       ".dataframe > thead > tr,\n",
       ".dataframe > tbody > tr {\n",
       "  text-align: right;\n",
       "  white-space: pre-wrap;\n",
       "}\n",
       "</style>\n",
       "<small>shape: (200_000, 5)</small><table border=\"1\" class=\"dataframe\"><thead><tr><th>collection_idx</th><th>test_idx</th><th>input</th><th>evaluation</th><th>collection_path</th></tr><tr><td>i64</td><td>i64</td><td>array[i64, 100]</td><td>f64</td><td>str</td></tr></thead><tbody><tr><td>1000</td><td>0</td><td>[0, 0, … 0]</td><td>0.0</td><td>&quot;preview_50_L2&quot;</td></tr><tr><td>1000</td><td>1</td><td>[0, 0, … 0]</td><td>0.0</td><td>&quot;preview_50_L2&quot;</td></tr><tr><td>1000</td><td>2</td><td>[0, 0, … 0]</td><td>0.0</td><td>&quot;preview_50_L2&quot;</td></tr><tr><td>1000</td><td>3</td><td>[0, 0, … 0]</td><td>0.0</td><td>&quot;preview_50_L2&quot;</td></tr><tr><td>1000</td><td>4</td><td>[0, 0, … 0]</td><td>0.0</td><td>&quot;preview_50_L2&quot;</td></tr><tr><td>&hellip;</td><td>&hellip;</td><td>&hellip;</td><td>&hellip;</td><td>&hellip;</td></tr><tr><td>999</td><td>45</td><td>[0, 0, … 0]</td><td>0.0</td><td>&quot;preview_50_IP&quot;</td></tr><tr><td>999</td><td>46</td><td>[0, 0, … 0]</td><td>0.0</td><td>&quot;preview_50_IP&quot;</td></tr><tr><td>999</td><td>47</td><td>[0, 0, … 0]</td><td>0.285714</td><td>&quot;preview_50_IP&quot;</td></tr><tr><td>999</td><td>48</td><td>[0, 0, … 0]</td><td>0.0</td><td>&quot;preview_50_IP&quot;</td></tr><tr><td>999</td><td>49</td><td>[0, 0, … 0]</td><td>0.333333</td><td>&quot;preview_50_IP&quot;</td></tr></tbody></table></div>"
      ],
      "text/plain": [
       "shape: (200_000, 5)\n",
       "┌────────────────┬──────────┬─────────────────┬────────────┬─────────────────┐\n",
       "│ collection_idx ┆ test_idx ┆ input           ┆ evaluation ┆ collection_path │\n",
       "│ ---            ┆ ---      ┆ ---             ┆ ---        ┆ ---             │\n",
       "│ i64            ┆ i64      ┆ array[i64, 100] ┆ f64        ┆ str             │\n",
       "╞════════════════╪══════════╪═════════════════╪════════════╪═════════════════╡\n",
       "│ 1000           ┆ 0        ┆ [0, 0, … 0]     ┆ 0.0        ┆ preview_50_L2   │\n",
       "│ 1000           ┆ 1        ┆ [0, 0, … 0]     ┆ 0.0        ┆ preview_50_L2   │\n",
       "│ 1000           ┆ 2        ┆ [0, 0, … 0]     ┆ 0.0        ┆ preview_50_L2   │\n",
       "│ 1000           ┆ 3        ┆ [0, 0, … 0]     ┆ 0.0        ┆ preview_50_L2   │\n",
       "│ 1000           ┆ 4        ┆ [0, 0, … 0]     ┆ 0.0        ┆ preview_50_L2   │\n",
       "│ …              ┆ …        ┆ …               ┆ …          ┆ …               │\n",
       "│ 999            ┆ 45       ┆ [0, 0, … 0]     ┆ 0.0        ┆ preview_50_IP   │\n",
       "│ 999            ┆ 46       ┆ [0, 0, … 0]     ┆ 0.0        ┆ preview_50_IP   │\n",
       "│ 999            ┆ 47       ┆ [0, 0, … 0]     ┆ 0.285714   ┆ preview_50_IP   │\n",
       "│ 999            ┆ 48       ┆ [0, 0, … 0]     ┆ 0.0        ┆ preview_50_IP   │\n",
       "│ 999            ┆ 49       ┆ [0, 0, … 0]     ┆ 0.333333   ┆ preview_50_IP   │\n",
       "└────────────────┴──────────┴─────────────────┴────────────┴─────────────────┘"
      ]
     },
     "execution_count": 8,
     "metadata": {},
     "output_type": "execute_result"
    }
   ],
   "source": [
    "_temp"
   ]
  }
 ],
 "metadata": {
  "kernelspec": {
   "display_name": "nq",
   "language": "python",
   "name": "python3"
  },
  "language_info": {
   "codemirror_mode": {
    "name": "ipython",
    "version": 3
   },
   "file_extension": ".py",
   "mimetype": "text/x-python",
   "name": "python",
   "nbconvert_exporter": "python",
   "pygments_lexer": "ipython3",
   "version": "3.11.11"
  }
 },
 "nbformat": 4,
 "nbformat_minor": 5
}

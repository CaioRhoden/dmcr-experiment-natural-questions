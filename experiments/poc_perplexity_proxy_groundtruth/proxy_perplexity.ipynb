{
 "cells": [
  {
   "cell_type": "markdown",
   "id": "40fece82",
   "metadata": {},
   "source": [
    "# Proxy Perplexity\n",
    "\n",
    "The goal of this notebook is to unravel the feasibility of the usage of the perplexity metric as a proxy for the groundtruth metric dataset for 1 of 50 samples with genertions in the models Llama3.2-3B-Instruct using 5 different random generations.\n",
    "\n",
    "Here we just want to calculate a one shot scenario to have the knowledge for a further implementation\n",
    "\n",
    "The chosen sample it was the idx = 3\n",
    "\n",
    "The pre_collections are presented in the \".zip\" file and need to be extracted, this experiment got them from the other experiment \"datamodels_training_window_size\n",
    "\"\n"
   ]
  },
  {
   "cell_type": "code",
   "execution_count": 1,
   "id": "a901bd1f",
   "metadata": {},
   "outputs": [
    {
     "name": "stderr",
     "output_type": "stream",
     "text": [
      "/home/caio.rhoden/miniconda3/envs/nq_dl/lib/python3.11/site-packages/tqdm/auto.py:21: TqdmWarning: IProgress not found. Please update jupyter and ipywidgets. See https://ipywidgets.readthedocs.io/en/stable/user_install.html\n",
      "  from .autonotebook import tqdm as notebook_tqdm\n"
     ]
    }
   ],
   "source": [
    "import polars as pl\n",
    "import seaborn as sns\n",
    "import json\n",
    "import os\n",
    "from utils.metrics.calculate_perplexity import calculate_perplexity, calculate_batch_perplexity\n",
    "from utils.set_random_seed import set_random_seed\n",
    "from utils.generate_context import get_context, get_batch_context\n",
    "\n",
    "os.environ[\"CUDA_VISIBLE_DEVICES\"] = \"0\""
   ]
  },
  {
   "cell_type": "code",
   "execution_count": 2,
   "id": "27727c3e",
   "metadata": {},
   "outputs": [],
   "source": [
    "set_random_seed(42)"
   ]
  },
  {
   "cell_type": "markdown",
   "id": "0ef43404",
   "metadata": {},
   "source": [
    "### Importing Data"
   ]
  },
  {
   "cell_type": "code",
   "execution_count": 3,
   "id": "39a84279",
   "metadata": {},
   "outputs": [],
   "source": [
    "#### Import collections\n",
    "collections_list = []\n",
    "for dir in os.listdir(\"collections\"):\n",
    "    for file in os.listdir(f\"collections/{dir}\"):\n",
    "        collections_list.append(pl.read_ipc(f\"collections/{dir}/{file}\").with_columns(pl.lit(dir).alias(\"seed\")))\n",
    "collections = pl.concat(collections_list)\n",
    "\n",
    "    "
   ]
  },
  {
   "cell_type": "code",
   "execution_count": 4,
   "id": "967c6e34",
   "metadata": {},
   "outputs": [
    {
     "data": {
      "text/html": [
       "<div><style>\n",
       ".dataframe > thead > tr,\n",
       ".dataframe > tbody > tr {\n",
       "  text-align: right;\n",
       "  white-space: pre-wrap;\n",
       "}\n",
       "</style>\n",
       "<small>shape: (5, 5)</small><table border=\"1\" class=\"dataframe\"><thead><tr><th>collection_idx</th><th>test_idx</th><th>input</th><th>evaluation</th><th>seed</th></tr><tr><td>i64</td><td>i64</td><td>array[i64, 100]</td><td>f64</td><td>str</td></tr></thead><tbody><tr><td>1000</td><td>0</td><td>[0, 1, … 0]</td><td>0.0</td><td>&quot;7270&quot;</td></tr><tr><td>1000</td><td>1</td><td>[0, 1, … 0]</td><td>1.0</td><td>&quot;7270&quot;</td></tr><tr><td>1000</td><td>2</td><td>[0, 1, … 0]</td><td>1.0</td><td>&quot;7270&quot;</td></tr><tr><td>1000</td><td>3</td><td>[0, 1, … 0]</td><td>1.0</td><td>&quot;7270&quot;</td></tr><tr><td>1000</td><td>4</td><td>[0, 1, … 0]</td><td>1.0</td><td>&quot;7270&quot;</td></tr></tbody></table></div>"
      ],
      "text/plain": [
       "shape: (5, 5)\n",
       "┌────────────────┬──────────┬─────────────────┬────────────┬──────┐\n",
       "│ collection_idx ┆ test_idx ┆ input           ┆ evaluation ┆ seed │\n",
       "│ ---            ┆ ---      ┆ ---             ┆ ---        ┆ ---  │\n",
       "│ i64            ┆ i64      ┆ array[i64, 100] ┆ f64        ┆ str  │\n",
       "╞════════════════╪══════════╪═════════════════╪════════════╪══════╡\n",
       "│ 1000           ┆ 0        ┆ [0, 1, … 0]     ┆ 0.0        ┆ 7270 │\n",
       "│ 1000           ┆ 1        ┆ [0, 1, … 0]     ┆ 1.0        ┆ 7270 │\n",
       "│ 1000           ┆ 2        ┆ [0, 1, … 0]     ┆ 1.0        ┆ 7270 │\n",
       "│ 1000           ┆ 3        ┆ [0, 1, … 0]     ┆ 1.0        ┆ 7270 │\n",
       "│ 1000           ┆ 4        ┆ [0, 1, … 0]     ┆ 1.0        ┆ 7270 │\n",
       "└────────────────┴──────────┴─────────────────┴────────────┴──────┘"
      ]
     },
     "execution_count": 4,
     "metadata": {},
     "output_type": "execute_result"
    }
   ],
   "source": [
    "collections.head(5)"
   ]
  },
  {
   "cell_type": "code",
   "execution_count": 5,
   "id": "08d7f66b",
   "metadata": {},
   "outputs": [],
   "source": [
    "#### Import pre-collections\n",
    "pre_collections_list = []\n",
    "for dir in os.listdir(\"pre_collections\"):\n",
    "    for file in os.listdir(f\"pre_collections/{dir}\"):\n",
    "       pre_collections_list.append(pl.read_ipc(f\"pre_collections/{dir}/{file}\").with_columns(pl.lit(dir).alias(\"seed\")))\n",
    "pre_collections = pl.concat(pre_collections_list)"
   ]
  },
  {
   "cell_type": "code",
   "execution_count": 6,
   "id": "00635e0c",
   "metadata": {},
   "outputs": [
    {
     "data": {
      "text/html": [
       "<div><style>\n",
       ".dataframe > thead > tr,\n",
       ".dataframe > tbody > tr {\n",
       "  text-align: right;\n",
       "  white-space: pre-wrap;\n",
       "}\n",
       "</style>\n",
       "<small>shape: (5, 6)</small><table border=\"1\" class=\"dataframe\"><thead><tr><th>collection_idx</th><th>test_idx</th><th>input</th><th>predicted_output</th><th>true_output</th><th>seed</th></tr><tr><td>i64</td><td>i64</td><td>array[i64, 100]</td><td>str</td><td>list[str]</td><td>str</td></tr></thead><tbody><tr><td>400</td><td>0</td><td>[0, 0, … 0]</td><td>&quot;Judith Keppel&quot;</td><td>[&quot;Judith Cynthia Aline Keppel&quot;]</td><td>&quot;7270&quot;</td></tr><tr><td>400</td><td>1</td><td>[0, 0, … 0]</td><td>&quot;George W. Bush&quot;</td><td>[&quot;George W. Bush&quot;, &quot;Bush&quot;]</td><td>&quot;7270&quot;</td></tr><tr><td>400</td><td>2</td><td>[0, 0, … 0]</td><td>&quot;Sammi Smith.&quot;</td><td>[&quot;Kris Kristofferson&quot;]</td><td>&quot;7270&quot;</td></tr><tr><td>400</td><td>3</td><td>[0, 0, … 0]</td><td>&quot;October 27, 1904&quot;</td><td>[&quot;October 27 , 1904&quot;, &quot;1904&quot;]</td><td>&quot;7270&quot;</td></tr><tr><td>400</td><td>4</td><td>[0, 0, … 0]</td><td>&quot;2004&quot;</td><td>[&quot;2004&quot;, &quot;February 25 , 2004&quot;]</td><td>&quot;7270&quot;</td></tr></tbody></table></div>"
      ],
      "text/plain": [
       "shape: (5, 6)\n",
       "┌────────────────┬──────────┬─────────────────┬──────────────────┬──────────────────────────┬──────┐\n",
       "│ collection_idx ┆ test_idx ┆ input           ┆ predicted_output ┆ true_output              ┆ seed │\n",
       "│ ---            ┆ ---      ┆ ---             ┆ ---              ┆ ---                      ┆ ---  │\n",
       "│ i64            ┆ i64      ┆ array[i64, 100] ┆ str              ┆ list[str]                ┆ str  │\n",
       "╞════════════════╪══════════╪═════════════════╪══════════════════╪══════════════════════════╪══════╡\n",
       "│ 400            ┆ 0        ┆ [0, 0, … 0]     ┆ Judith Keppel    ┆ [\"Judith Cynthia Aline   ┆ 7270 │\n",
       "│                ┆          ┆                 ┆                  ┆ Keppel\"…                 ┆      │\n",
       "│ 400            ┆ 1        ┆ [0, 0, … 0]     ┆ George W. Bush   ┆ [\"George W. Bush\",       ┆ 7270 │\n",
       "│                ┆          ┆                 ┆                  ┆ \"Bush\"]                  ┆      │\n",
       "│ 400            ┆ 2        ┆ [0, 0, … 0]     ┆ Sammi Smith.     ┆ [\"Kris Kristofferson\"]   ┆ 7270 │\n",
       "│ 400            ┆ 3        ┆ [0, 0, … 0]     ┆ October 27, 1904 ┆ [\"October 27 , 1904\",    ┆ 7270 │\n",
       "│                ┆          ┆                 ┆                  ┆ \"1904\"]                  ┆      │\n",
       "│ 400            ┆ 4        ┆ [0, 0, … 0]     ┆ 2004             ┆ [\"2004\", \"February 25 ,  ┆ 7270 │\n",
       "│                ┆          ┆                 ┆                  ┆ 2004\"]                   ┆      │\n",
       "└────────────────┴──────────┴─────────────────┴──────────────────┴──────────────────────────┴──────┘"
      ]
     },
     "execution_count": 6,
     "metadata": {},
     "output_type": "execute_result"
    }
   ],
   "source": [
    "pre_collections.head(5)"
   ]
  },
  {
   "cell_type": "code",
   "execution_count": 7,
   "id": "c9f352cc",
   "metadata": {},
   "outputs": [
    {
     "data": {
      "text/html": [
       "<div><style>\n",
       ".dataframe > thead > tr,\n",
       ".dataframe > tbody > tr {\n",
       "  text-align: right;\n",
       "  white-space: pre-wrap;\n",
       "}\n",
       "</style>\n",
       "<small>shape: (3, 3)</small><table border=\"1\" class=\"dataframe\"><thead><tr><th>idx</th><th>text</th><th>title</th></tr><tr><td>u32</td><td>str</td><td>str</td></tr></thead><tbody><tr><td>0</td><td>&quot;Aaron Aaron ( or ; &quot;Ahärôn&quot;) i…</td><td>&quot;Aaron&quot;</td></tr><tr><td>1</td><td>&quot;God at Sinai granted Aaron the…</td><td>&quot;Aaron&quot;</td></tr><tr><td>2</td><td>&quot;his rod turn into a snake. The…</td><td>&quot;Aaron&quot;</td></tr></tbody></table></div>"
      ],
      "text/plain": [
       "shape: (3, 3)\n",
       "┌─────┬─────────────────────────────────┬───────┐\n",
       "│ idx ┆ text                            ┆ title │\n",
       "│ --- ┆ ---                             ┆ ---   │\n",
       "│ u32 ┆ str                             ┆ str   │\n",
       "╞═════╪═════════════════════════════════╪═══════╡\n",
       "│ 0   ┆ Aaron Aaron ( or ; \"Ahärôn\") i… ┆ Aaron │\n",
       "│ 1   ┆ God at Sinai granted Aaron the… ┆ Aaron │\n",
       "│ 2   ┆ his rod turn into a snake. The… ┆ Aaron │\n",
       "└─────┴─────────────────────────────────┴───────┘"
      ]
     },
     "execution_count": 7,
     "metadata": {},
     "output_type": "execute_result"
    }
   ],
   "source": [
    "## wiki import\n",
    "WIKI_PATH = \"../../data/wiki_dump2018_nq_open/processed/wiki.feather\"\n",
    "wiki = pl.read_ipc(WIKI_PATH).with_row_index(\"idx\")\n",
    "wiki.head(3)"
   ]
  },
  {
   "cell_type": "code",
   "execution_count": 8,
   "id": "e9ed5083",
   "metadata": {},
   "outputs": [
    {
     "name": "stdout",
     "output_type": "stream",
     "text": [
      "dict_keys(['7270'])\n"
     ]
    }
   ],
   "source": [
    "retrievals_idx = {}\n",
    "for dir in os.listdir(\"retrieval\"):\n",
    "    for file in os.listdir(f\"retrieval/{dir}\"):\n",
    "        retrievals_idx[dir] = json.load(open(f\"retrieval/{dir}/{file}\"))\n",
    "print(retrievals_idx.keys())"
   ]
  },
  {
   "cell_type": "code",
   "execution_count": 9,
   "id": "18065de1",
   "metadata": {},
   "outputs": [
    {
     "data": {
      "text/html": [
       "<div><style>\n",
       ".dataframe > thead > tr,\n",
       ".dataframe > tbody > tr {\n",
       "  text-align: right;\n",
       "  white-space: pre-wrap;\n",
       "}\n",
       "</style>\n",
       "<small>shape: (3, 3)</small><table border=\"1\" class=\"dataframe\"><thead><tr><th>idx</th><th>text</th><th>title</th></tr><tr><td>u32</td><td>str</td><td>str</td></tr></thead><tbody><tr><td>0</td><td>&quot;Aaron Aaron ( or ; &quot;Ahärôn&quot;) i…</td><td>&quot;Aaron&quot;</td></tr><tr><td>1</td><td>&quot;God at Sinai granted Aaron the…</td><td>&quot;Aaron&quot;</td></tr><tr><td>2</td><td>&quot;his rod turn into a snake. The…</td><td>&quot;Aaron&quot;</td></tr></tbody></table></div>"
      ],
      "text/plain": [
       "shape: (3, 3)\n",
       "┌─────┬─────────────────────────────────┬───────┐\n",
       "│ idx ┆ text                            ┆ title │\n",
       "│ --- ┆ ---                             ┆ ---   │\n",
       "│ u32 ┆ str                             ┆ str   │\n",
       "╞═════╪═════════════════════════════════╪═══════╡\n",
       "│ 0   ┆ Aaron Aaron ( or ; \"Ahärôn\") i… ┆ Aaron │\n",
       "│ 1   ┆ God at Sinai granted Aaron the… ┆ Aaron │\n",
       "│ 2   ┆ his rod turn into a snake. The… ┆ Aaron │\n",
       "└─────┴─────────────────────────────────┴───────┘"
      ]
     },
     "execution_count": 9,
     "metadata": {},
     "output_type": "execute_result"
    }
   ],
   "source": [
    "## wiki import\n",
    "WIKI_PATH = \"../../data/wiki_dump2018_nq_open/processed/wiki.feather\"\n",
    "wiki = pl.read_ipc(WIKI_PATH).with_row_index(\"idx\")\n",
    "wiki.head(3)"
   ]
  },
  {
   "cell_type": "code",
   "execution_count": 10,
   "id": "8ed9e8c5",
   "metadata": {},
   "outputs": [
    {
     "data": {
      "text/html": [
       "<div><style>\n",
       ".dataframe > thead > tr,\n",
       ".dataframe > tbody > tr {\n",
       "  text-align: right;\n",
       "  white-space: pre-wrap;\n",
       "}\n",
       "</style>\n",
       "<small>shape: (3, 6)</small><table border=\"1\" class=\"dataframe\"><thead><tr><th>idx</th><th>example_id</th><th>question</th><th>answers</th><th>text</th><th>idx_gold_in_corpus</th></tr><tr><td>u32</td><td>i64</td><td>str</td><td>list[str]</td><td>str</td><td>i64</td></tr></thead><tbody><tr><td>0</td><td>-3290814144789249484</td><td>&quot;who got the first nobel prize …</td><td>[&quot;Wilhelm Conrad Röntgen&quot;]</td><td>&quot;The first Nobel Prize in Physi…</td><td>20994698</td></tr><tr><td>1</td><td>8851020722386421469</td><td>&quot;when is the next deadpool movi…</td><td>[&quot;May 18 , 2018&quot;]</td><td>&quot;Deadpool 2 is scheduled to be …</td><td>21032933</td></tr><tr><td>2</td><td>955374967862684316</td><td>&quot;the south west wind blows acro…</td><td>[&quot;till September&quot;]</td><td>&quot;With the Intertropical Converg…</td><td>21032934</td></tr></tbody></table></div>"
      ],
      "text/plain": [
       "shape: (3, 6)\n",
       "┌─────┬───────────────────┬───────────────────┬─────────────┬───────────────────┬──────────────────┐\n",
       "│ idx ┆ example_id        ┆ question          ┆ answers     ┆ text              ┆ idx_gold_in_corp │\n",
       "│ --- ┆ ---               ┆ ---               ┆ ---         ┆ ---               ┆ us               │\n",
       "│ u32 ┆ i64               ┆ str               ┆ list[str]   ┆ str               ┆ ---              │\n",
       "│     ┆                   ┆                   ┆             ┆                   ┆ i64              │\n",
       "╞═════╪═══════════════════╪═══════════════════╪═════════════╪═══════════════════╪══════════════════╡\n",
       "│ 0   ┆ -3290814144789249 ┆ who got the first ┆ [\"Wilhelm   ┆ The first Nobel   ┆ 20994698         │\n",
       "│     ┆ 484               ┆ nobel prize …     ┆ Conrad      ┆ Prize in Physi…   ┆                  │\n",
       "│     ┆                   ┆                   ┆ Röntgen\"]   ┆                   ┆                  │\n",
       "│ 1   ┆ 88510207223864214 ┆ when is the next  ┆ [\"May 18 ,  ┆ Deadpool 2 is     ┆ 21032933         │\n",
       "│     ┆ 69                ┆ deadpool movi…    ┆ 2018\"]      ┆ scheduled to be … ┆                  │\n",
       "│ 2   ┆ 95537496786268431 ┆ the south west    ┆ [\"till      ┆ With the          ┆ 21032934         │\n",
       "│     ┆ 6                 ┆ wind blows acro…  ┆ September\"] ┆ Intertropical     ┆                  │\n",
       "│     ┆                   ┆                   ┆             ┆ Converg…          ┆                  │\n",
       "└─────┴───────────────────┴───────────────────┴─────────────┴───────────────────┴──────────────────┘"
      ]
     },
     "execution_count": 10,
     "metadata": {},
     "output_type": "execute_result"
    }
   ],
   "source": [
    "## wiki import\n",
    "QUESTIONS_PATH = \"../../data/nq_open_gold/processed/test.feather\"\n",
    "questions = pl.read_ipc(QUESTIONS_PATH).with_row_index(\"idx\")\n",
    "questions.head(3)"
   ]
  },
  {
   "cell_type": "code",
   "execution_count": 11,
   "id": "5e1f3b83",
   "metadata": {},
   "outputs": [
    {
     "data": {
      "text/plain": [
       "array([[82, 15, 48, ..., 24, 81, 51],\n",
       "       [62, 73, 41, ..., 75,  2, 70],\n",
       "       [34, 14, 28, ...,  8, 44, 94],\n",
       "       ...,\n",
       "       [91, 50, 38, ..., 10,  1, 55],\n",
       "       [85, 37, 88, ..., 93, 47, 60],\n",
       "       [70, 45, 45, ...,  5, 51, 34]])"
      ]
     },
     "execution_count": 11,
     "metadata": {},
     "output_type": "execute_result"
    }
   ],
   "source": [
    "## Dataset collections import\n",
    "import h5py\n",
    "train_collections_datasets = []\n",
    "test_collections_datasets = []\n",
    "for dir in os.listdir(\"collections_dataset\"):\n",
    "    for file in os.listdir(f\"collections_dataset/{dir}\"):\n",
    "        if file.endswith(\".h5\") and file.startswith(\"train_collection\"):\n",
    "            with h5py.File(f\"collections_dataset/{dir}/{file}\", \"r\") as f:\n",
    "                train_collections_datasets.append(f[\"train_collection\"][()])\n",
    "        elif file.endswith(\".h5\") and file.startswith(\"test_collection\"):\n",
    "            with h5py.File(f\"collections_dataset/{dir}/{file}\", \"r\") as f:\n",
    "                test_collections_datasets.append(f[\"test_collection\"][()])\n",
    "\n",
    "train_collections_datasets[0]"
   ]
  },
  {
   "cell_type": "markdown",
   "id": "46fb2b32",
   "metadata": {},
   "source": [
    "## Estimation of Differential Perplexity - Singe Sample"
   ]
  },
  {
   "cell_type": "code",
   "execution_count": 31,
   "id": "4693c177",
   "metadata": {},
   "outputs": [
    {
     "data": {
      "text/html": [
       "<div><style>\n",
       ".dataframe > thead > tr,\n",
       ".dataframe > tbody > tr {\n",
       "  text-align: right;\n",
       "  white-space: pre-wrap;\n",
       "}\n",
       "</style>\n",
       "<small>shape: (55, 5)</small><table border=\"1\" class=\"dataframe\"><thead><tr><th>collection_idx</th><th>test_idx</th><th>input</th><th>evaluation</th><th>seed</th></tr><tr><td>i64</td><td>i64</td><td>array[i64, 100]</td><td>f64</td><td>str</td></tr></thead><tbody><tr><td>1054</td><td>3</td><td>[0, 0, … 1]</td><td>0.666667</td><td>&quot;7270&quot;</td></tr><tr><td>1100</td><td>3</td><td>[0, 1, … 0]</td><td>0.4</td><td>&quot;7270&quot;</td></tr><tr><td>1238</td><td>3</td><td>[0, 0, … 0]</td><td>0.666667</td><td>&quot;7270&quot;</td></tr><tr><td>1251</td><td>3</td><td>[0, 0, … 0]</td><td>0.333333</td><td>&quot;7270&quot;</td></tr><tr><td>1281</td><td>3</td><td>[0, 0, … 0]</td><td>0.333333</td><td>&quot;7270&quot;</td></tr><tr><td>&hellip;</td><td>&hellip;</td><td>&hellip;</td><td>&hellip;</td><td>&hellip;</td></tr><tr><td>756</td><td>3</td><td>[0, 1, … 0]</td><td>0.166667</td><td>&quot;7270&quot;</td></tr><tr><td>810</td><td>3</td><td>[0, 0, … 0]</td><td>0.222222</td><td>&quot;7270&quot;</td></tr><tr><td>811</td><td>3</td><td>[0, 0, … 0]</td><td>0.666667</td><td>&quot;7270&quot;</td></tr><tr><td>922</td><td>3</td><td>[0, 0, … 0]</td><td>0.666667</td><td>&quot;7270&quot;</td></tr><tr><td>961</td><td>3</td><td>[0, 0, … 0]</td><td>0.333333</td><td>&quot;7270&quot;</td></tr></tbody></table></div>"
      ],
      "text/plain": [
       "shape: (55, 5)\n",
       "┌────────────────┬──────────┬─────────────────┬────────────┬──────┐\n",
       "│ collection_idx ┆ test_idx ┆ input           ┆ evaluation ┆ seed │\n",
       "│ ---            ┆ ---      ┆ ---             ┆ ---        ┆ ---  │\n",
       "│ i64            ┆ i64      ┆ array[i64, 100] ┆ f64        ┆ str  │\n",
       "╞════════════════╪══════════╪═════════════════╪════════════╪══════╡\n",
       "│ 1054           ┆ 3        ┆ [0, 0, … 1]     ┆ 0.666667   ┆ 7270 │\n",
       "│ 1100           ┆ 3        ┆ [0, 1, … 0]     ┆ 0.4        ┆ 7270 │\n",
       "│ 1238           ┆ 3        ┆ [0, 0, … 0]     ┆ 0.666667   ┆ 7270 │\n",
       "│ 1251           ┆ 3        ┆ [0, 0, … 0]     ┆ 0.333333   ┆ 7270 │\n",
       "│ 1281           ┆ 3        ┆ [0, 0, … 0]     ┆ 0.333333   ┆ 7270 │\n",
       "│ …              ┆ …        ┆ …               ┆ …          ┆ …    │\n",
       "│ 756            ┆ 3        ┆ [0, 1, … 0]     ┆ 0.166667   ┆ 7270 │\n",
       "│ 810            ┆ 3        ┆ [0, 0, … 0]     ┆ 0.222222   ┆ 7270 │\n",
       "│ 811            ┆ 3        ┆ [0, 0, … 0]     ┆ 0.666667   ┆ 7270 │\n",
       "│ 922            ┆ 3        ┆ [0, 0, … 0]     ┆ 0.666667   ┆ 7270 │\n",
       "│ 961            ┆ 3        ┆ [0, 0, … 0]     ┆ 0.333333   ┆ 7270 │\n",
       "└────────────────┴──────────┴─────────────────┴────────────┴──────┘"
      ]
     },
     "execution_count": 31,
     "metadata": {},
     "output_type": "execute_result"
    }
   ],
   "source": [
    "collections.filter(pl.col(\"test_idx\") == 3).filter((pl.col(\"evaluation\") > 0) & (pl.col(\"evaluation\") < 1))"
   ]
  },
  {
   "cell_type": "code",
   "execution_count": 13,
   "id": "b5afafb4",
   "metadata": {},
   "outputs": [
    {
     "name": "stderr",
     "output_type": "stream",
     "text": [
      "Loading checkpoint shards: 100%|██████████| 2/2 [00:01<00:00,  1.33it/s]\n"
     ]
    }
   ],
   "source": [
    "from transformers import AutoTokenizer, AutoModelForCausalLM\n",
    "from accelerate import Accelerator\n",
    "import torch\n",
    "\n",
    "\n",
    "\n",
    "model_path = \"../../models/llms/Llama-3.2-3B-Instruct\"\n",
    "tokenizer = AutoTokenizer.from_pretrained(model_path)\n",
    "tokenizer.pad_token = tokenizer.eos_token  # Set pad token to eos token for Llama models\n",
    "model = AutoModelForCausalLM.from_pretrained(model_path,  device_map={\"\": Accelerator().process_index}, torch_dtype=torch.bfloat16,)\n"
   ]
  },
  {
   "cell_type": "code",
   "execution_count": 14,
   "id": "ce262ee0",
   "metadata": {},
   "outputs": [
    {
     "data": {
      "text/plain": [
       "'what does hp mean in war and order'"
      ]
     },
     "execution_count": 14,
     "metadata": {},
     "output_type": "execute_result"
    }
   ],
   "source": [
    "questions[3].select(\"question\").item()"
   ]
  },
  {
   "cell_type": "code",
   "execution_count": 15,
   "id": "49e7b07f",
   "metadata": {},
   "outputs": [
    {
     "data": {
      "text/plain": [
       "218.1916046142578"
      ]
     },
     "execution_count": 15,
     "metadata": {},
     "output_type": "execute_result"
    }
   ],
   "source": [
    "### Example single perplexity calculation\n",
    "base_perplexity = calculate_perplexity(\n",
    "    questions[3].select(\"question\").item(),\n",
    "    model,\n",
    "    tokenizer,\n",
    "    device=Accelerator().device\n",
    ")\n",
    "base_perplexity"
   ]
  },
  {
   "cell_type": "code",
   "execution_count": 16,
   "id": "28857ecb",
   "metadata": {},
   "outputs": [
    {
     "name": "stderr",
     "output_type": "stream",
     "text": [
      "Calculating perplexities: 100%|██████████| 2/2 [00:00<00:00, 36.52it/s]\n"
     ]
    },
    {
     "data": {
      "text/plain": [
       "tensor([957.2520, 326.5370], device='cuda:0')"
      ]
     },
     "execution_count": 16,
     "metadata": {},
     "output_type": "execute_result"
    }
   ],
   "source": [
    "\n",
    "## Example batch perplexity calculation\n",
    "calculate_batch_perplexity(\n",
    "    [questions[3].select(\"question\").item(), questions[3].select(\"question\").item()],\n",
    "    model,\n",
    "    tokenizer,\n",
    "    contexts=[\"Abacate\", \"Create a question:\"],\n",
    "    device=Accelerator().device,\n",
    "    stride=48\n",
    ")"
   ]
  },
  {
   "cell_type": "code",
   "execution_count": 17,
   "id": "8843e018",
   "metadata": {},
   "outputs": [
    {
     "data": {
      "text/plain": [
       "'Document[1](Title: Sterling Street (IRT Nostrand Avenue Line))the IRT agreed to build a subway line along Nostrand Avenue in Brooklyn. The construction of the subway along Nostrand Avenue spurred real estate development in the surrounding areas. The Nostrand Avenue Line opened on August 23, 1920, and the Sterling Street station opened along with it. The platforms at Sterling Street were lengthened during the 1950s to 510 feet so that the platforms could accommodate 10-car trains. The underground station has two tracks and two side platforms. The platforms have original 1920s Dual Contracts era tiling. The name tablets have \"STERLING ST.\" in white letters on a brown background\\n\\nDocument[2](Title: BMT Sea Beach Line)with poles and operated service on the line from May 1, 1915 until the line opened for full subway service on June 22, 1915, with trains running between Coney Island and Chambers Street in Lower Manhattan. Service started with two- and three-car trains operating via the Fourth Avenue local track and the Manhattan Bridge south tracks. The express tracks were finished several weeks later. When the BMT Fourth Avenue Line was extended south from the Sea Beach Line on January 15, 1916, the Sea Beach trains were shifted to the express tracks on Fourth Avenue, with Fourth Avenue trains providing\\n\\nDocument[3](Title: Uptown Hudson Tubes)rails; this took an additional year to complete. The stations on the Manhattan side were also completed during this time. Test runs of trains without passengers started through the tunnels in late 1907: the Hudson Companies tested its rolling stock on the Second Avenue Elevated, then delivered the trains to the Uptown Hudson Tubes for further testing. A trial run, carrying a party of officials, dignitaries, and news reporters, ran on February 15, 1908. The first \"official\" passenger train, which was also open only to officials and dignitaries, left 19th Street at 3:40 p.m. on February 25, 1908, and arrived\\n\\nDocument[4](Title: Buffalo Metro Rail)the initial Metro Rail line began in 1979 and opened in stages: the surface portion opened on October 9, 1984 while the subway opened as far as Amherst Street Station on May 20, 1985, following an opening ceremony on May 18. The line was further extended to University Station, serving the University at Buffalo, on November 10, 1986 due to construction issues at LaSalle Station. At the time of the start of construction, the line was intended to be the first line for an extensive heavy rail system that would spread throughout the city and suburbs. However, during the construction\\n\\nDocument[5](Title: 138th Street station (New York Central Railroad))1888 and 1890. Throughout most of the station\\'s existence, it has been in relatively close proximity to mass transit. In 1887, the Suburban Rapid Transit Company built an elevated station along the Third Avenue Elevated Line more than several blocks to the east. By 1918, their successors, the Interborough Rapid Transit Company expanded the IRT Jerome Avenue Line south from 149th Street to the Lexington Avenue Tunnel into the IRT Lexington Avenue Line in Harlem, and built a subway station beneath the vicinity of the railroad station. The subway station still exists. During the Great Depression, New York Central had\\n\\nDocument[6](Title: East 180th Street (IRT White Plains Road Line))subway and renamed it the IRT Dyre Avenue Line. The line north of Dyre Avenue and south of East 180th Street was abandoned and demolished, leaving the Dyre Avenue Line with no rail connections, so subway service debuted in 1940 as a full-time shuttle. In 1957, a flyover connection between the IRT White Plains Road and Dyre Avenue Lines opened, allowing trains from the latter to travel to Manhattan and Brooklyn. All services that formerly used the NYW&B tracks and platforms moved to the White Plains Road Line platforms and tracks. It was placed on the National Register of Historic\\n\\nDocument[7](Title: Rochester Subway)to serve as the route of the subway. The subway was built below, and Broad Street above. Only were in the tunnel, the rest of the route in open cut. The term \"subway\" did not refer to the tunnel, but to the route being grade-separated and operated as rapid transit. Interurban lines were also run through the subway and off city streets, easing growing congestion. The segment over the Genesee River utilized the former . Construction was completed and operations began in 1927, under contract with New York State Railways. Ten former Utica and Mohawk Valley Railway 2000-series cars were\\n\\nDocument[8](Title: IRT Flushing Line)in the viscinity of Flushing Creek. Once the structure was deemed to be safe for operation, the line was extended to Willets Point Boulevard on May 7, 1927. This extension was served by shuttle trains until through service was inaugurated on May 14. On that date, the opening of the station was formally celebrated; it coincided with the opening of the Roosevelt Avenue Bridge for cars and buses. On March 22, 1926 the line was extended one stop westward from Grand Central to Fifth Avenue. The line was finally extended to Times Square on March 14, 1927. The eastern extension\\n\\nDocument[9](Title: History of the New York City Subway)Boulevard Line during rush hours, with E trains running express west of 71st–Continental Avenues, and GG trains taking over the local during rush hours. The initial headway for express service was between three and five minutes. 23rd Street–Ely Avenue station opened as an in-fill station on August 28, 1939. Upon its extension into Jamaica, the line drew Manhattan-bound passengers away from the nearby BMT Jamaica Line subway and the Long Island Rail Road. On July 1, 1937, a third trunk line, the Crosstown Line, opened from Nassau Avenue to Bergen Street. Two years later, on December 15, 1940, local service\\n\\nDocument[10](Title: Broadway Junction (New York City Subway))opened in 1885; the area had been known as Manhattan Beach Crossing since before then, due to the crossing of the LIRR\\'s Manhattan Beach Division. A station on the Fulton Street Elevated railroad at Sackman Street opened on July 4, 1889, when the line was extended to Atlantic Avenue. A two-track, one-half-block elevated connection was built on the east side of Vesta Avenue (now Van Sinderen Avenue) between the Fulton Street and Broadway Lines. This connection, equipped with a third rail to supply electric power, was opened on August 9, 1900, and new service patterns were implemented: during times other\\n\\nDocument[11](Title: History of the New York City Subway)Island Railroad or West End Line, opened for passenger service on October 9, 1863, between Fifth Avenue at 36th Street at the border of Brooklyn City and Bath Beach in the Town of Gravesend, New York. A short piece of surface route of this railroad, the BMT West End Line (today\\'s ) on the west side of the Coney Island Complex north of the Coney Island Creek, is the oldest existing piece of rapid transit right-of-way in New York City and in the U.S., having opened on June 8, 1864. On January 30, 1899, the Brooklyn Union Elevated Railroad was\\n\\nDocument[12](Title: Hudson Yards (development))New York. The MTA received proceeds from the development\\'s 2006 bond offering to pay for an extension of the New York City Subway\\'s to 34th Street–Hudson Yards station. With funding assured, the MTA proceeded quickly to construct the extension. The first construction contracts were awarded in October 2007, and the subway extension opened on September 13, 2015. In late 2006, the city and the MTA backed out of a plan for the city to purchase the development site, and created a proposal to seek bids from private developers. This was followed by the a formal request for proposals in 2008\\n\\nDocument[13](Title: History of Boston)History at Boston operated 1858–1906. It was acquired by the American Museum of Natural History in New York City in 1906. As the population increased rapidly, Boston-area streetcar lines facilitated the creation of a profusion of streetcar suburbs. Middle-class businessmen, office workers and professionals lived in the suburbs and commuted into the city by subway. Downtown congestion worsened, prompting the opening of the first subway in North America on September 1, 1897, the Tremont Street Subway. Between 1897 and 1912, subterranean rail links were built to Cambridge and East Boston, and elevated and underground lines expanded into other neighborhoods from\\n\\nDocument[14](Title: Q (New York City Subway service))service, as pioneered on the New York City Subway that opened in 1904. The Brighton Beach line was also converted to electrified third rail. Brighton Beach local and express service was extended to a new West End terminal at Stillwell and Surf Avenues, the location of the Coney Island terminal for the BMT Southern Division, in May 1919. On August 1, 1920, subway service on the BMT Brighton Line, now owned by the Brooklyn-Manhattan Transit Corporation (BMT), officially began with the openings of a two-track underground subway between Prospect Park and DeKalb Avenue and the Montague Street Tunnel between Brooklyn\\n\\nDocument[15](Title: United New Jersey Railroad and Canal Company)began October 1862; the Clinton Street Station on the new line at Trenton opened April 20, 1863, replacing the old State Street Station. The first train ran through the new tunnel on October 5, 1863, and the new line (along what is now the Northeast Corridor) opened November 23, cutting New York City–Trenton time to 2.5 hours. The second track on the new line opened September 1864, but the old line remained for southbound freight. The Princeton Branch opened May 29, 1865, on which date passenger trains stopped running over the old line. The old line was removed between Trenton\\n\\nDocument[16](Title: Broadway Junction (New York City Subway))opened in 1885; the area had been known as Manhattan Beach Crossing since before then, due to the crossing of the LIRR\\'s Manhattan Beach Division. A station on the Fulton Street Elevated railroad at Sackman Street opened on July 4, 1889, when the line was extended to Atlantic Avenue. A two-track, one-half-block elevated connection was built on the east side of Vesta Avenue (now Van Sinderen Avenue) between the Fulton Street and Broadway Lines. This connection, equipped with a third rail to supply electric power, was opened on August 9, 1900, and new service patterns were implemented: during times other\\n\\n'"
      ]
     },
     "execution_count": 17,
     "metadata": {},
     "output_type": "execute_result"
    }
   ],
   "source": [
    "get_context(\n",
    "    train_collections_datasets[0],\n",
    "    retrievals_idx[\"7270\"],\n",
    "    wiki,\n",
    "    3,\n",
    "    0,\n",
    ")\n",
    "\n"
   ]
  },
  {
   "cell_type": "code",
   "execution_count": 19,
   "id": "21753d5c",
   "metadata": {},
   "outputs": [],
   "source": [
    "contexts = get_batch_context(    \n",
    "    train_collections_datasets[0],\n",
    "    retrievals_idx[\"7270\"],\n",
    "    wiki,\n",
    "    3,\n",
    "    [i for i in range(0,2000)],\n",
    ")"
   ]
  },
  {
   "cell_type": "code",
   "execution_count": 22,
   "id": "cf6a7141",
   "metadata": {},
   "outputs": [
    {
     "name": "stderr",
     "output_type": "stream",
     "text": [
      "Calculating perplexities: 100%|██████████| 2000/2000 [14:49<00:00,  2.25it/s]\n"
     ]
    }
   ],
   "source": [
    "perplexity_3  = calculate_batch_perplexity(\n",
    "    [questions[3].select(\"question\").item() for _ in range(2000)],\n",
    "    model,\n",
    "    tokenizer,\n",
    "    contexts,\n",
    "    device=Accelerator().device\n",
    ")"
   ]
  },
  {
   "cell_type": "code",
   "execution_count": 43,
   "id": "898e6a88",
   "metadata": {},
   "outputs": [
    {
     "data": {
      "text/plain": [
       "SignificanceResult(statistic=-0.1029672423927717, pvalue=1.1488643316498845e-08)"
      ]
     },
     "execution_count": 43,
     "metadata": {},
     "output_type": "execute_result"
    }
   ],
   "source": [
    "## Correlation\n",
    "from scipy.stats import kendalltau\n",
    "rouge = collections.filter(pl.col(\"test_idx\") == 3).sort(\"collection_idx\").select(\"evaluation\").to_numpy().flatten().tolist()\n",
    "per = perplexity_3.tolist()\n",
    "\n",
    "kendalltau(rouge, per)"
   ]
  }
 ],
 "metadata": {
  "kernelspec": {
   "display_name": "nq_dl",
   "language": "python",
   "name": "python3"
  },
  "language_info": {
   "codemirror_mode": {
    "name": "ipython",
    "version": 3
   },
   "file_extension": ".py",
   "mimetype": "text/x-python",
   "name": "python",
   "nbconvert_exporter": "python",
   "pygments_lexer": "ipython3",
   "version": "3.11.11"
  }
 },
 "nbformat": 4,
 "nbformat_minor": 5
}

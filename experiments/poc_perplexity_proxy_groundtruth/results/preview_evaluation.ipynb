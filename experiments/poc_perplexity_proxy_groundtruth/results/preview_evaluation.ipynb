{
 "cells": [
  {
   "cell_type": "markdown",
   "id": "eddb848c",
   "metadata": {},
   "source": [
    "# Preview Evaluation - Perplexity\n",
    "\n",
    "Thia is a notebook to make a preview comparison of the generations when using Perplexity as a metric for the Datamodels collections.  \n",
    "Important to notice, this notebook is considering onle ONE generation of 50 samples."
   ]
  },
  {
   "cell_type": "code",
   "execution_count": 1,
   "id": "64df10d3",
   "metadata": {},
   "outputs": [
    {
     "name": "stderr",
     "output_type": "stream",
     "text": [
      "/home/caio.rhoden/miniconda3/envs/nq_dl/lib/python3.11/site-packages/tqdm/auto.py:21: TqdmWarning: IProgress not found. Please update jupyter and ipywidgets. See https://ipywidgets.readthedocs.io/en/stable/user_install.html\n",
      "  from .autonotebook import tqdm as notebook_tqdm\n"
     ]
    }
   ],
   "source": [
    "import polars as pl\n",
    "import seaborn as sns\n",
    "import matplotlib.pyplot as plt\n",
    "from utils.metrics.calculate_metric import calculate_agg_metric\n",
    "import os\n",
    "import numpy as np\n",
    "import json"
   ]
  },
  {
   "cell_type": "markdown",
   "id": "c0c31a25",
   "metadata": {},
   "source": [
    "## Calculate Metrics and save them"
   ]
  },
  {
   "cell_type": "code",
   "execution_count": 2,
   "id": "5adeaad2",
   "metadata": {},
   "outputs": [],
   "source": [
    "seeds = [7270, 860, 5191, 5734]"
   ]
  },
  {
   "cell_type": "code",
   "execution_count": 3,
   "id": "9564eb4f",
   "metadata": {},
   "outputs": [
    {
     "name": "stdout",
     "output_type": "stream",
     "text": [
      "perplexity_with_instruction.json\n",
      "datamodels_generations.json\n",
      "rag_generations.json\n",
      "baseline_7270_baseline_generations.json\n",
      "perplexity_baseline.json\n",
      "perplexity_with_instruction.json\n",
      "datamodels_generations.json\n",
      "baseline_860_baseline_generations.json\n",
      "rag_generations.json\n",
      "perplexity_baseline.json\n",
      "baseline_5191_baseline_generations.json\n",
      "perplexity_with_instruction.json\n",
      "datamodels_generations.json\n",
      "rag_generations.json\n",
      "baseline_5734_baseline_generations.json\n",
      "perplexity_with_instruction.json\n",
      "datamodels_generations.json\n",
      "rag_generations.json\n"
     ]
    }
   ],
   "source": [
    "for s in seeds:\n",
    "    questions_path = f\"../../datamodels_training_window_size/experiments_{s}/questions.feather\"\n",
    "    for file in os.listdir(f\"../experiments_{s}/generations\"):\n",
    "        print(file)\n",
    "        calculate_agg_metric(\n",
    "            metrics=[\"rouge_l\"],\n",
    "            generation_path=f\"../experiments_{s}/generations/{file}\",\n",
    "            reference_path=questions_path,\n",
    "            saving_path=f\"result_{s}_{file.split('.')[0]}.feather\"\n",
    "        )\n",
    "\n",
    "\n"
   ]
  },
  {
   "cell_type": "markdown",
   "id": "1ae8da9c",
   "metadata": {},
   "source": [
    "## Load Data"
   ]
  },
  {
   "cell_type": "code",
   "execution_count": 9,
   "id": "7879623c",
   "metadata": {},
   "outputs": [
    {
     "data": {
      "text/html": [
       "<div><style>\n",
       ".dataframe > thead > tr,\n",
       ".dataframe > tbody > tr {\n",
       "  text-align: right;\n",
       "  white-space: pre-wrap;\n",
       "}\n",
       "</style>\n",
       "<small>shape: (18, 4)</small><table border=\"1\" class=\"dataframe\"><thead><tr><th>seed</th><th>run_type</th><th>metric</th><th>mean</th></tr><tr><td>str</td><td>str</td><td>str</td><td>f64</td></tr></thead><tbody><tr><td>&quot;5191&quot;</td><td>&quot;baseline&quot;</td><td>&quot;rouge_l&quot;</td><td>0.117714</td></tr><tr><td>&quot;5191&quot;</td><td>&quot;datamodels&quot;</td><td>&quot;rouge_l&quot;</td><td>0.58269</td></tr><tr><td>&quot;5191&quot;</td><td>&quot;perplexity_with&quot;</td><td>&quot;rouge_l&quot;</td><td>0.01641</td></tr><tr><td>&quot;5191&quot;</td><td>&quot;rag&quot;</td><td>&quot;rouge_l&quot;</td><td>0.173952</td></tr><tr><td>&quot;5734&quot;</td><td>&quot;baseline&quot;</td><td>&quot;rouge_l&quot;</td><td>0.149668</td></tr><tr><td>&hellip;</td><td>&hellip;</td><td>&hellip;</td><td>&hellip;</td></tr><tr><td>&quot;860&quot;</td><td>&quot;baseline&quot;</td><td>&quot;rouge_l&quot;</td><td>0.165779</td></tr><tr><td>&quot;860&quot;</td><td>&quot;datamodels&quot;</td><td>&quot;rouge_l&quot;</td><td>0.735651</td></tr><tr><td>&quot;860&quot;</td><td>&quot;perplexity_baseline&quot;</td><td>&quot;rouge_l&quot;</td><td>0.003077</td></tr><tr><td>&quot;860&quot;</td><td>&quot;perplexity_with&quot;</td><td>&quot;rouge_l&quot;</td><td>0.010909</td></tr><tr><td>&quot;860&quot;</td><td>&quot;rag&quot;</td><td>&quot;rouge_l&quot;</td><td>0.202825</td></tr></tbody></table></div>"
      ],
      "text/plain": [
       "shape: (18, 4)\n",
       "┌──────┬─────────────────────┬─────────┬──────────┐\n",
       "│ seed ┆ run_type            ┆ metric  ┆ mean     │\n",
       "│ ---  ┆ ---                 ┆ ---     ┆ ---      │\n",
       "│ str  ┆ str                 ┆ str     ┆ f64      │\n",
       "╞══════╪═════════════════════╪═════════╪══════════╡\n",
       "│ 5191 ┆ baseline            ┆ rouge_l ┆ 0.117714 │\n",
       "│ 5191 ┆ datamodels          ┆ rouge_l ┆ 0.58269  │\n",
       "│ 5191 ┆ perplexity_with     ┆ rouge_l ┆ 0.01641  │\n",
       "│ 5191 ┆ rag                 ┆ rouge_l ┆ 0.173952 │\n",
       "│ 5734 ┆ baseline            ┆ rouge_l ┆ 0.149668 │\n",
       "│ …    ┆ …                   ┆ …       ┆ …        │\n",
       "│ 860  ┆ baseline            ┆ rouge_l ┆ 0.165779 │\n",
       "│ 860  ┆ datamodels          ┆ rouge_l ┆ 0.735651 │\n",
       "│ 860  ┆ perplexity_baseline ┆ rouge_l ┆ 0.003077 │\n",
       "│ 860  ┆ perplexity_with     ┆ rouge_l ┆ 0.010909 │\n",
       "│ 860  ┆ rag                 ┆ rouge_l ┆ 0.202825 │\n",
       "└──────┴─────────────────────┴─────────┴──────────┘"
      ]
     },
     "execution_count": 9,
     "metadata": {},
     "output_type": "execute_result"
    }
   ],
   "source": [
    "### Perplexity results\n",
    "\n",
    "_perplexitiy_results = []\n",
    "for f in os.listdir(\".\"):\n",
    "    if f.endswith(\"feather\"):\n",
    "        processsed_namefile = f.split(\".\")[0].split(\"result_\")[1]\n",
    "        seed = processsed_namefile.split(\"_\")[0]\n",
    "        run_type = processsed_namefile.split(\"_\")[1]\n",
    "        if run_type == \"perplexity\":\n",
    "            run_type += f\"_{processsed_namefile.split('_')[2]}\"\n",
    "        _perplexitiy_results.append(pl.read_ipc(f).with_columns(pl.lit(seed).alias(\"seed\"), pl.lit(run_type).alias(\"run_type\")))\n",
    "perplexity_results = pl.concat(_perplexitiy_results)\n",
    "perplexity_results.group_by(\"seed\", \"run_type\", \"metric\").agg(pl.col(\"mean\").mean()).sort(\"seed\", \"run_type\")"
   ]
  },
  {
   "cell_type": "code",
   "execution_count": 10,
   "id": "b4e46dfb",
   "metadata": {},
   "outputs": [
    {
     "data": {
      "text/plain": [
       "<Axes: xlabel='seed', ylabel='mean'>"
      ]
     },
     "execution_count": 10,
     "metadata": {},
     "output_type": "execute_result"
    },
    {
     "data": {
      "image/png": "[encoded data removed]",
      "text/plain": [
       "<Figure size 640x480 with 1 Axes>"
      ]
     },
     "metadata": {},
     "output_type": "display_data"
    }
   ],
   "source": [
    "sns.barplot(x=\"seed\", y=\"mean\", hue=\"run_type\", data=perplexity_results.filter(pl.col(\"metric\") == \"rouge_l\"))"
   ]
  },
  {
   "cell_type": "code",
   "execution_count": 11,
   "id": "59be6e6d",
   "metadata": {},
   "outputs": [],
   "source": [
    "import json\n",
    "indexes = {}\n",
    "for s in seeds:\n",
    "    rag_retrieval = json.load(open(f\"../experiments_{s}/retrieval/rag_retrieval_indexes.json\"))\n",
    "    per_datamodels_retrieval = json.load(open(f\"../experiments_{s}//retrieval/perplexity_with_instruction_indexes.json\"))\n",
    "    rou_datamodels_retrieval = json.load(open(f\"../experiments_{s}//retrieval/size_2000_indexes.json\"))\n",
    "    dicts = [rag_retrieval, per_datamodels_retrieval, rou_datamodels_retrieval]\n",
    "    processed_dicts = []\n",
    "    for d in dicts:\n",
    "        # Get values in order and convert to numpy arrayzz\n",
    "        array_50x100 = np.array([d[str(key)] for key in range(50)])\n",
    "        # Take first 16 elements\n",
    "        array_50x16 = array_50x100[:, 34:50]\n",
    "        # Convert back to list if needed (otherwise keep as numpy array)\n",
    "        processed_dicts.append(array_50x16.tolist())\n",
    "    indexes[str(s)] = processed_dicts"
   ]
  },
  {
   "cell_type": "code",
   "execution_count": 13,
   "id": "0c29f522",
   "metadata": {},
   "outputs": [
    {
     "name": "stdout",
     "output_type": "stream",
     "text": [
      "Seed: 7270\n",
      "Intersection between RAG and Perplexity: 153\n",
      "Intersection between RAG and Datamodels: 131\n",
      "Intersection between Perplexity and Datamodels: 118\n",
      "Intersection between RAG, Perplexity and Datamodels: 20\n",
      "Seed: 860\n",
      "Intersection between RAG and Perplexity: 118\n",
      "Intersection between RAG and Datamodels: 136\n",
      "Intersection between Perplexity and Datamodels: 141\n",
      "Intersection between RAG, Perplexity and Datamodels: 24\n",
      "Seed: 5191\n",
      "Intersection between RAG and Perplexity: 133\n",
      "Intersection between RAG and Datamodels: 138\n",
      "Intersection between Perplexity and Datamodels: 121\n",
      "Intersection between RAG, Perplexity and Datamodels: 27\n",
      "Seed: 5734\n",
      "Intersection between RAG and Perplexity: 137\n",
      "Intersection between RAG and Datamodels: 127\n",
      "Intersection between Perplexity and Datamodels: 139\n",
      "Intersection between RAG, Perplexity and Datamodels: 20\n"
     ]
    }
   ],
   "source": [
    "\n",
    "\n",
    "def count_matches_no_numpy(list_a, list_b):\n",
    "    matches = 0\n",
    "    for key in range(50):\n",
    "        for i in range(16):\n",
    "            if list_a[key][i] in list_b[key]:\n",
    "                matches += 1\n",
    "    return matches\n",
    "\n",
    "def count_matches_no_numpy_3(list_a, list_b, list_c):\n",
    "    matches = 0\n",
    "    for key in range(50):\n",
    "        for i in range(16):\n",
    "            if list_a[key][i] in list_b[key] and list_a[key][i] in list_c[key]:\n",
    "                matches += 1\n",
    "    return matches\n",
    "\n",
    "\n",
    "for s in seeds:\n",
    "    print(f\"Seed: {s}\")\n",
    "    print(f\"Intersection between RAG and Perplexity: {count_matches_no_numpy(indexes[str(s)][0], indexes[str(s)][1])}\")\n",
    "    print(f\"Intersection between RAG and Datamodels: {count_matches_no_numpy(indexes[str(s)][0], indexes[str(s)][2])}\")\n",
    "    print(f\"Intersection between Perplexity and Datamodels: {count_matches_no_numpy(indexes[str(s)][1], indexes[str(s)][2])}\")\n",
    "    print(f\"Intersection between RAG, Perplexity and Datamodels: {count_matches_no_numpy_3(indexes[str(s)][0], indexes[str(s)][1], indexes[str(s)][2])}\")"
   ]
  }
 ],
 "metadata": {
  "kernelspec": {
   "display_name": "nq_dl",
   "language": "python",
   "name": "python3"
  },
  "language_info": {
   "codemirror_mode": {
    "name": "ipython",
    "version": 3
   },
   "file_extension": ".py",
   "mimetype": "text/x-python",
   "name": "python",
   "nbconvert_exporter": "python",
   "pygments_lexer": "ipython3",
   "version": "3.11.11"
  }
 },
 "nbformat": 4,
 "nbformat_minor": 5
}

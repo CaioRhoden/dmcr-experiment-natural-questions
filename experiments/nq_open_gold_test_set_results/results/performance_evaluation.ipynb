{
 "cells": [
  {
   "cell_type": "markdown",
   "id": "eddb848c",
   "metadata": {},
   "source": [
    "# Preview Evaluation - Perplexity\n",
    "\n",
    "Thia is a notebook to make a preview comparison of the generations when using LLM JUDGE"
   ]
  },
  {
   "cell_type": "code",
   "execution_count": 1,
   "id": "64df10d3",
   "metadata": {},
   "outputs": [
    {
     "name": "stderr",
     "output_type": "stream",
     "text": [
      "/home/users/caio.rhoden/miniconda3/envs/nq/lib/python3.11/site-packages/tqdm/auto.py:21: TqdmWarning: IProgress not found. Please update jupyter and ipywidgets. See https://ipywidgets.readthedocs.io/en/stable/user_install.html\n",
      "  from .autonotebook import tqdm as notebook_tqdm\n"
     ]
    },
    {
     "name": "stdout",
     "output_type": "stream",
     "text": [
      "INFO 10-10 16:53:18 [__init__.py:220] No platform detected, vLLM is running on UnspecifiedPlatform\n",
      "WARNING 10-10 16:53:19 [_custom_ops.py:20] Failed to import from vllm._C with ImportError('libcuda.so.1: cannot open shared object file: No such file or directory')\n"
     ]
    }
   ],
   "source": [
    "import polars as pl\n",
    "import seaborn as sns\n",
    "import matplotlib.pyplot as plt\n",
    "from utils.metrics.calculate_metric import calculate_agg_metric\n",
    "import os\n",
    "import numpy as np\n",
    "import json\n",
    "from pathlib import Path\n",
    "PATH = Path(os.getcwd()).parent.parent.parent"
   ]
  },
  {
   "cell_type": "code",
   "execution_count": 2,
   "id": "54e2aa90",
   "metadata": {},
   "outputs": [],
   "source": [
    "models = [\n",
    "    \"Qwen3-4B-Instruct-2507\",\n",
    "    \"Llama-3.2-3B-Instruct\"\n",
    "]"
   ]
  },
  {
   "cell_type": "markdown",
   "id": "c0c31a25",
   "metadata": {},
   "source": [
    "## Calculate Metrics and save them"
   ]
  },
  {
   "cell_type": "code",
   "execution_count": 3,
   "id": "9564eb4f",
   "metadata": {},
   "outputs": [
    {
     "name": "stdout",
     "output_type": "stream",
     "text": [
      "\n",
      "Processing model: Qwen3-4B-Instruct-2507 (4 files)\n",
      "⚠ Skipped Qwen3-4B-Instruct-2507/zero_shot_Qwen3-4B-Instruct-2507_baseline_zero_shot_generations.json (already exists)\n",
      "⚠ Skipped Qwen3-4B-Instruct-2507/rag_0_2889_rag_generations.json (already exists)\n",
      "⚠ Skipped Qwen3-4B-Instruct-2507/rougel_model.json (already exists)\n",
      "⚠ Skipped Qwen3-4B-Instruct-2507/judge_model.json (already exists)\n",
      "\n",
      "Processing model: Llama-3.2-3B-Instruct (3 files)\n",
      "⚠ Skipped Llama-3.2-3B-Instruct/zero_shot_Llama-3.2-3B-Instruct_baseline_zero_shot_generations.json (already exists)\n",
      "⚠ Skipped Llama-3.2-3B-Instruct/rag_0_2889_rag_generations.json (already exists)\n",
      "⚠ Skipped Llama-3.2-3B-Instruct/rougel_model.json (already exists)\n"
     ]
    }
   ],
   "source": [
    "from concurrent.futures import ThreadPoolExecutor\n",
    "import os\n",
    "\n",
    "questions_path = f\"{PATH}/data/nq_open_gold/processed/test.feather\"\n",
    "\n",
    "def process_file(m, file):\n",
    "    output_file = f\"result_{m}_{file.split('.')[0]}.feather\"\n",
    "    if output_file not in os.listdir(\".\"):\n",
    "        print(f\"Processing {m}/{file}\")\n",
    "        calculate_agg_metric(\n",
    "            metrics=[\"rouge_l\"],\n",
    "            generation_path=f\"../{m}/generations/{file}\",\n",
    "            reference_path=questions_path,\n",
    "            saving_path=output_file\n",
    "        )\n",
    "        return f\"✓ {m}/{file}\"\n",
    "    return f\"⚠ Skipped {m}/{file} (already exists)\"\n",
    "\n",
    "# Process each model sequentially, but files within each model in parallel\n",
    "for m in models:\n",
    "    generation_files = os.listdir(f\"../{m}/generations\")\n",
    "    print(f\"\\nProcessing model: {m} ({len(generation_files)} files)\")\n",
    "    \n",
    "    with ThreadPoolExecutor(max_workers=4) as executor:\n",
    "        results = list(executor.map(lambda f: process_file(m, f), generation_files))\n",
    "        for result in results:\n",
    "            print(result)"
   ]
  },
  {
   "cell_type": "markdown",
   "id": "1ae8da9c",
   "metadata": {},
   "source": [
    "## Load Data"
   ]
  },
  {
   "cell_type": "code",
   "execution_count": 4,
   "id": "9fe60c6a",
   "metadata": {},
   "outputs": [
    {
     "name": "stderr",
     "output_type": "stream",
     "text": [
      "Could not memory_map compressed IPC file, defaulting to normal read. Toggle off 'memory_map' to silence this warning.\n",
      "Could not memory_map compressed IPC file, defaulting to normal read. Toggle off 'memory_map' to silence this warning.\n",
      "Could not memory_map compressed IPC file, defaulting to normal read. Toggle off 'memory_map' to silence this warning.\n",
      "Could not memory_map compressed IPC file, defaulting to normal read. Toggle off 'memory_map' to silence this warning.\n",
      "Could not memory_map compressed IPC file, defaulting to normal read. Toggle off 'memory_map' to silence this warning.\n",
      "Could not memory_map compressed IPC file, defaulting to normal read. Toggle off 'memory_map' to silence this warning.\n",
      "Could not memory_map compressed IPC file, defaulting to normal read. Toggle off 'memory_map' to silence this warning.\n"
     ]
    },
    {
     "data": {
      "text/html": [
       "<div><style>\n",
       ".dataframe > thead > tr,\n",
       ".dataframe > tbody > tr {\n",
       "  text-align: right;\n",
       "  white-space: pre-wrap;\n",
       "}\n",
       "</style>\n",
       "<small>shape: (7, 3)</small><table border=\"1\" class=\"dataframe\"><thead><tr><th>run_type</th><th>metric</th><th>mean</th></tr><tr><td>str</td><td>str</td><td>f64</td></tr></thead><tbody><tr><td>&quot;Llama-3.2-3B-Instruct_rag_0_28…</td><td>&quot;rouge_l&quot;</td><td>0.16188</td></tr><tr><td>&quot;Llama-3.2-3B-Instruct_rougel_m…</td><td>&quot;rouge_l&quot;</td><td>0.222273</td></tr><tr><td>&quot;Llama-3.2-3B-Instruct_zero_sho…</td><td>&quot;rouge_l&quot;</td><td>0.295839</td></tr><tr><td>&quot;Qwen3-4B-Instruct-2507_judge_m…</td><td>&quot;rouge_l&quot;</td><td>0.158645</td></tr><tr><td>&quot;Qwen3-4B-Instruct-2507_rag_0_2…</td><td>&quot;rouge_l&quot;</td><td>0.111325</td></tr><tr><td>&quot;Qwen3-4B-Instruct-2507_rougel_…</td><td>&quot;rouge_l&quot;</td><td>0.159904</td></tr><tr><td>&quot;Qwen3-4B-Instruct-2507_zero_sh…</td><td>&quot;rouge_l&quot;</td><td>0.187763</td></tr></tbody></table></div>"
      ],
      "text/plain": [
       "shape: (7, 3)\n",
       "┌─────────────────────────────────┬─────────┬──────────┐\n",
       "│ run_type                        ┆ metric  ┆ mean     │\n",
       "│ ---                             ┆ ---     ┆ ---      │\n",
       "│ str                             ┆ str     ┆ f64      │\n",
       "╞═════════════════════════════════╪═════════╪══════════╡\n",
       "│ Llama-3.2-3B-Instruct_rag_0_28… ┆ rouge_l ┆ 0.16188  │\n",
       "│ Llama-3.2-3B-Instruct_rougel_m… ┆ rouge_l ┆ 0.222273 │\n",
       "│ Llama-3.2-3B-Instruct_zero_sho… ┆ rouge_l ┆ 0.295839 │\n",
       "│ Qwen3-4B-Instruct-2507_judge_m… ┆ rouge_l ┆ 0.158645 │\n",
       "│ Qwen3-4B-Instruct-2507_rag_0_2… ┆ rouge_l ┆ 0.111325 │\n",
       "│ Qwen3-4B-Instruct-2507_rougel_… ┆ rouge_l ┆ 0.159904 │\n",
       "│ Qwen3-4B-Instruct-2507_zero_sh… ┆ rouge_l ┆ 0.187763 │\n",
       "└─────────────────────────────────┴─────────┴──────────┘"
      ]
     },
     "execution_count": 4,
     "metadata": {},
     "output_type": "execute_result"
    }
   ],
   "source": [
    "results = []\n",
    "for f in os.listdir(\".\"):\n",
    "    if f.endswith(\"feather\"):\n",
    "        processsed_namefile = f.split(\".f\")[0].split(\"result_\")[1]\n",
    "        run_type = processsed_namefile\n",
    "        results.append(pl.read_ipc(f).with_columns(pl.lit(run_type).alias(\"run_type\")))\n",
    "perplexity_results = pl.concat(results)\n",
    "perplexity_results.group_by(\"run_type\", \"metric\").agg(pl.col(\"mean\").mean()).sort(\"run_type\")"
   ]
  },
  {
   "cell_type": "code",
   "execution_count": null,
   "id": "b903e5bb",
   "metadata": {},
   "outputs": [],
   "source": []
  },
  {
   "cell_type": "code",
   "execution_count": null,
   "id": "59be6e6d",
   "metadata": {},
   "outputs": [],
   "source": [
    "import json\n",
    "indexes = {}\n",
    "for m in models:\n",
    "    indexes[m] = []\n",
    "    rag_retrieval = json.load(open(f\"../retrieval/rag_retrieval_indexes.json\"))\n",
    "    rouge = json.load(open(\"../retrieval/rougel_model_indexes.json\"))\n",
    "    judge = json.load(open(\"../retrieval/judge_model_indexes.json\"))\n",
    "    dicts = [rag_retrieval, rouge, judge]\n",
    "    processed_dicts = []\n",
    "    for d in dicts:\n",
    "        # Get values in order and convert to numpy arrayzz\n",
    "        array_50x100 = np.array([d[str(key)] for key in range(50)])\n",
    "        # Take first 16 elements\n",
    "        array_50x16 = array_50x100[:, 34:50]\n",
    "        # Convert back to list if needed (otherwise keep as numpy array)\n",
    "        processed_dicts.append(array_50x16.tolist())\n",
    "    indexes[m] = processed_dicts"
   ]
  },
  {
   "cell_type": "code",
   "execution_count": 20,
   "id": "6ca57c4a",
   "metadata": {},
   "outputs": [
    {
     "data": {
      "text/plain": [
       "3"
      ]
     },
     "execution_count": 20,
     "metadata": {},
     "output_type": "execute_result"
    }
   ],
   "source": [
    "len(indexes[\"655\"])"
   ]
  },
  {
   "cell_type": "code",
   "execution_count": 21,
   "id": "0c29f522",
   "metadata": {},
   "outputs": [
    {
     "name": "stdout",
     "output_type": "stream",
     "text": [
      "Seed: 655\n",
      "Intersection between RAG and Datamodels: 98\n",
      "Intersection between RAG and LLM Judge: 86\n",
      "Intersection between Datamodels and LLM Judge: 112\n",
      "Intersection between RAG, Datamodels and LLM Judge: 16\n"
     ]
    }
   ],
   "source": [
    "\n",
    "s = \"655\"\n",
    "def count_matches_no_numpy(list_a, list_b):\n",
    "    matches = 0\n",
    "    for key in range(50):\n",
    "        for i in range(16):\n",
    "            if list_a[key][i] in list_b[key]:\n",
    "                matches += 1\n",
    "    return matches\n",
    "\n",
    "def count_matches_no_numpy_3(list_a, list_b, list_c):\n",
    "    matches = 0\n",
    "    for key in range(50):\n",
    "        for i in range(16):\n",
    "            if list_a[key][i] in list_b[key] and list_a[key][i] in list_c[key]:\n",
    "                matches += 1\n",
    "    return matches\n",
    "\n",
    "\n",
    "\n",
    "print(f\"Seed: {s}\")\n",
    "print(f\"Intersection between RAG and Datamodels: {count_matches_no_numpy(indexes[str(s)][0], indexes[str(s)][1])}\")\n",
    "print(f\"Intersection between RAG and LLM Judge: {count_matches_no_numpy(indexes[str(s)][0], indexes[str(s)][2])}\")\n",
    "print(f\"Intersection between Datamodels and LLM Judge: {count_matches_no_numpy(indexes[str(s)][1], indexes[str(s)][2])}\")\n",
    "print(f\"Intersection between RAG, Datamodels and LLM Judge: {count_matches_no_numpy_3(indexes[str(s)][0], indexes[str(s)][1], indexes[str(s)][2])}\")"
   ]
  },
  {
   "cell_type": "markdown",
   "id": "6424ec0d",
   "metadata": {},
   "source": [
    "## Analysing Retrievals"
   ]
  },
  {
   "cell_type": "code",
   "execution_count": 22,
   "id": "83cb0b6a",
   "metadata": {},
   "outputs": [],
   "source": [
    "## Get retrievals\n",
    "retrievals = {}\n",
    "for file in os.listdir(\"../retrieval/\"):\n",
    "    if file.endswith(\"indexes.json\") or file == \"random_indeces_insertion.json\":\n",
    "        name = file.split(\"_indexes\")[0]\n",
    "        retrievals[name] = json.load(open(f\"../retrieval/{file}\"))\n"
   ]
  },
  {
   "cell_type": "code",
   "execution_count": 24,
   "id": "4a3b5244",
   "metadata": {},
   "outputs": [
    {
     "data": {
      "text/plain": [
       "dict_keys(['rougel_model', 'rouge_model', 'rag_retrieval', 'random_indeces_insertion.json', 'judge_model'])"
      ]
     },
     "execution_count": 24,
     "metadata": {},
     "output_type": "execute_result"
    }
   ],
   "source": [
    "retrievals.keys()"
   ]
  },
  {
   "cell_type": "code",
   "execution_count": 31,
   "id": "b45698e7",
   "metadata": {},
   "outputs": [
    {
     "name": "stdout",
     "output_type": "stream",
     "text": [
      "Intersection between random and rougel_model: 1191\n",
      "Intersection between random and judge_model: 1200\n"
     ]
    }
   ],
   "source": [
    "from regex import R\n",
    "\n",
    "\n",
    "random_indeces = [retrievals[\"random_indeces_insertion.json\"][str(i)][-20:-1] for i in range(500)]\n",
    "for r in [\"rougel_model\", \"judge_model\"]:\n",
    "    count = 0\n",
    "    for i in range(500):\n",
    "        model_indeces = retrievals[f\"{r}\"][str(i)][34:50]\n",
    "        for j in range(16):\n",
    "            if model_indeces[j] in random_indeces[i]:\n",
    "                count += 1\n",
    "    print(f\"Intersection between random and {r}: {count}\")"
   ]
  },
  {
   "cell_type": "code",
   "execution_count": 32,
   "id": "ca961279",
   "metadata": {},
   "outputs": [
    {
     "name": "stdout",
     "output_type": "stream",
     "text": [
      "Intersection between random and rouge_model: 586\n",
      "Intersection between random and judge_model: 573\n"
     ]
    }
   ],
   "source": [
    "random_indeces = [retrievals[\"random_indeces_insertion.json\"][str(i)][-20:-1] for i in range(500)]\n",
    "for r in [\"rouge_model\", \"judge_model\"]:\n",
    "    count = 0\n",
    "    for i in range(500):\n",
    "        model_indeces = retrievals[f\"{r}\"][str(i)][42:50]\n",
    "        for j in range(8):\n",
    "            if model_indeces[j] in random_indeces[i]:\n",
    "                count += 1\n",
    "    print(f\"Intersection between random and {r}: {count}\")"
   ]
  },
  {
   "cell_type": "code",
   "execution_count": 33,
   "id": "975c2b65",
   "metadata": {},
   "outputs": [
    {
     "data": {
      "text/plain": [
       "<Axes: ylabel='Count'>"
      ]
     },
     "execution_count": 33,
     "metadata": {},
     "output_type": "execute_result"
    },
    {
     "data": {
      "image/png": "[encoded data removed]",
      "text/plain": [
       "<Figure size 640x480 with 1 Axes>"
      ]
     },
     "metadata": {},
     "output_type": "display_data"
    }
   ],
   "source": [
    "rouge = results[1].sort(\"mean\", descending=True)\n",
    "sns.histplot(rouge[\"mean\"])"
   ]
  },
  {
   "cell_type": "code",
   "execution_count": 34,
   "id": "02c779e6",
   "metadata": {},
   "outputs": [
    {
     "data": {
      "text/plain": [
       "(35, 33)"
      ]
     },
     "execution_count": 34,
     "metadata": {},
     "output_type": "execute_result"
    }
   ],
   "source": [
    "top_gens = rouge.filter(pl.col(\"mean\") == 1).select(\"idx\").to_series().to_list()\n",
    "bottom_gens = rouge.filter(pl.col(\"mean\") == 0)[:33].select(\"idx\").to_series().to_list()\n",
    "len(top_gens), len(bottom_gens)"
   ]
  },
  {
   "cell_type": "code",
   "execution_count": 38,
   "id": "a77259d6",
   "metadata": {},
   "outputs": [
    {
     "name": "stdout",
     "output_type": "stream",
     "text": [
      "Intersection between random and judge_model: 95\n"
     ]
    }
   ],
   "source": [
    "random_indeces = [retrievals[\"random_indeces_insertion.json\"][str(i)][-20:-1] for i in range(500)]\n",
    "count = 0\n",
    "for i in top_gens:\n",
    "    model_indeces = retrievals[f\"rougel_model\"][str(i)][34:50]\n",
    "    for j in range(16):\n",
    "        if model_indeces[j] in random_indeces[i]:\n",
    "            count += 1\n",
    "print(f\"Intersection between random and {r}: {count}\")"
   ]
  },
  {
   "cell_type": "code",
   "execution_count": 37,
   "id": "1064c50e",
   "metadata": {},
   "outputs": [
    {
     "name": "stdout",
     "output_type": "stream",
     "text": [
      "Intersection between random and judge_model: 77\n"
     ]
    }
   ],
   "source": [
    "random_indeces = [retrievals[\"random_indeces_insertion.json\"][str(i)][-20:-1] for i in range(500)]\n",
    "count = 0\n",
    "for i in bottom_gens:\n",
    "    model_indeces = retrievals[f\"rougel_model\"][str(i)][34:50]\n",
    "    for j in range(16):\n",
    "        if model_indeces[j] in random_indeces[i]:\n",
    "            count += 1\n",
    "print(f\"Intersection between random and {r}: {count}\")"
   ]
  },
  {
   "cell_type": "code",
   "execution_count": null,
   "id": "fc52c207",
   "metadata": {},
   "outputs": [],
   "source": []
  }
 ],
 "metadata": {
  "kernelspec": {
   "display_name": "nq",
   "language": "python",
   "name": "python3"
  },
  "language_info": {
   "codemirror_mode": {
    "name": "ipython",
    "version": 3
   },
   "file_extension": ".py",
   "mimetype": "text/x-python",
   "name": "python",
   "nbconvert_exporter": "python",
   "pygments_lexer": "ipython3",
   "version": "3.11.13"
  }
 },
 "nbformat": 4,
 "nbformat_minor": 5
}

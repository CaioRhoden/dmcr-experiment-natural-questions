{
 "cells": [
  {
   "cell_type": "markdown",
   "id": "f1c57c1b",
   "metadata": {},
   "source": [
    "# Prompt Validation Exp - Result Analysis\n",
    "\n",
    "In order to build a proper datamodel it's essential to first understand what are the types of context that we're aiming to explore.  \n",
    "To do so five different types of context will be analyzed here:\n",
    "- Gold Standard\n",
    "- No Context\n",
    "- Random Context from the Same Page\n",
    "- Selected Context from the Same Page\n",
    "\n",
    "These contexts were evaluated in 5 different questions that will be showcased here."
   ]
  },
  {
   "cell_type": "code",
   "execution_count": 24,
   "id": "281b9aa3",
   "metadata": {},
   "outputs": [],
   "source": [
    "import seaborn as sns\n",
    "import polars as pl\n",
    "import json\n",
    "import os\n",
    "from itertools import product"
   ]
  },
  {
   "cell_type": "markdown",
   "id": "abe449bd",
   "metadata": {},
   "source": [
    "## Showcasing Questions\n",
    "\n",
    "These are the questions used during this experiment, they will be presented here with the expected output"
   ]
  },
  {
   "cell_type": "code",
   "execution_count": 6,
   "id": "b9d88569",
   "metadata": {},
   "outputs": [
    {
     "name": "stdout",
     "output_type": "stream",
     "text": [
      "/work/caio.rhoden/dmcr-experiment-natural-questions/prompt_validation_experiment\n"
     ]
    }
   ],
   "source": [
    "print(os.getcwd())"
   ]
  },
  {
   "cell_type": "code",
   "execution_count": 8,
   "id": "cdd374b9",
   "metadata": {},
   "outputs": [],
   "source": [
    "GOLDEN_PATH = \"../data/nq_open_gold/processed/train.feather\"\n",
    "train  = pl.read_ipc(GOLDEN_PATH)\n",
    "\n",
    "selected_ids = [\n",
    "    4393532674001821363\t,\n",
    "    -4144729966148354479,\n",
    "    1317425899790858647,\n",
    "    824576888464737344,\n",
    "    -1245842872065838644\n",
    "]\n",
    "\n",
    "\n",
    "questions = train.filter(pl.col(\"example_id\").is_in(selected_ids))"
   ]
  },
  {
   "cell_type": "code",
   "execution_count": 9,
   "id": "ac147570",
   "metadata": {},
   "outputs": [
    {
     "data": {
      "text/plain": [
       "array([['why was there so much interest in cuba both before and after the civil war',\n",
       "        array(['sugar markets'], dtype=object)],\n",
       "       ['who developed the first periodic table with 8 columns',\n",
       "        array(['Dmitri Mendeleev'], dtype=object)],\n",
       "       ['when did the who perform at the super bowl',\n",
       "        array(['Feb 7 , 2010'], dtype=object)],\n",
       "       ['the organization of the formal elements in an art work',\n",
       "        array(['composition'], dtype=object)],\n",
       "       ['where did the french king live before versailles',\n",
       "        array(['the Tuileries Palace'], dtype=object)]], dtype=object)"
      ]
     },
     "execution_count": 9,
     "metadata": {},
     "output_type": "execute_result"
    }
   ],
   "source": [
    "questions.select(\"question\", \"answers\").to_numpy()"
   ]
  },
  {
   "cell_type": "markdown",
   "id": "472d09b4",
   "metadata": {},
   "source": [
    "## Compiling Results\n"
   ]
  },
  {
   "cell_type": "code",
   "execution_count": 10,
   "id": "e048e43c",
   "metadata": {},
   "outputs": [],
   "source": [
    "def get_results(path):\n",
    "\n",
    "    selected_ids = [\n",
    "        4393532674001821363\t,\n",
    "        -4144729966148354479,\n",
    "        1317425899790858647,\n",
    "        824576888464737344,\n",
    "        -1245842872065838644\n",
    "    ]\n",
    "\n",
    "    results = []\n",
    "    for filename in os.listdir(path):\n",
    "        if os.path.isfile(os.path.join(path, filename)):\n",
    "            if any(str(id) in filename for id in selected_ids):\n",
    "                with open(os.path.join(path, filename), \"r\") as f:\n",
    "                    results.append(json.load(f))\n",
    "    \n",
    "    return results\n",
    "    \n"
   ]
  },
  {
   "cell_type": "code",
   "execution_count": 11,
   "id": "24920916",
   "metadata": {},
   "outputs": [],
   "source": [
    "results_path = \"results\"\n",
    "possible_prompts =  [\n",
    "    \"gold_context_baseline\",\n",
    "    \"no_context_baseline\",\n",
    "    \"same_page_baseline\",\n",
    "    \"same_page_reduced_baseline\"\n",
    "]\n",
    "\n",
    "\n",
    "results = {prompt: get_results(os.path.join(results_path, prompt)) for prompt in possible_prompts}"
   ]
  },
  {
   "cell_type": "code",
   "execution_count": 16,
   "id": "e522bffe",
   "metadata": {},
   "outputs": [
    {
     "data": {
      "text/plain": [
       "['gold_context_baseline',\n",
       " 'no_context_baseline',\n",
       " 'same_page_baseline',\n",
       " 'same_page_reduced_baseline']"
      ]
     },
     "execution_count": 16,
     "metadata": {},
     "output_type": "execute_result"
    }
   ],
   "source": [
    "list(results.keys())"
   ]
  },
  {
   "cell_type": "code",
   "execution_count": 13,
   "id": "759bc2bc",
   "metadata": {},
   "outputs": [
    {
     "data": {
      "text/plain": [
       "[{'true_answers': ['the tuileries palace'],\n",
       "  'pred_answer': 'the tuileries palace',\n",
       "  'score': 1.0,\n",
       "  'time': '0.036608'},\n",
       " {'true_answers': ['feb 7 , 2010'],\n",
       "  'pred_answer': 'feb 7,',\n",
       "  'score': 0.8,\n",
       "  'time': '0.039375'},\n",
       " {'true_answers': ['sugar markets'],\n",
       "  'pred_answer': '\"due to the control',\n",
       "  'score': 0.0,\n",
       "  'time': '0.036693'},\n",
       " {'true_answers': ['composition'],\n",
       "  'pred_answer': 'organization of the elements of',\n",
       "  'score': 0.0,\n",
       "  'time': '0.036646'},\n",
       " {'true_answers': ['dmitri mendeleev'],\n",
       "  'pred_answer': 'the answer is: dmit',\n",
       "  'score': 0.0,\n",
       "  'time': '0.038123'}]"
      ]
     },
     "execution_count": 13,
     "metadata": {},
     "output_type": "execute_result"
    }
   ],
   "source": [
    "results[\"gold_context_baseline\"]"
   ]
  },
  {
   "cell_type": "markdown",
   "id": "6c8a1931",
   "metadata": {},
   "source": [
    "##  Plot Rults"
   ]
  },
  {
   "cell_type": "code",
   "execution_count": 27,
   "id": "1cb20f4f",
   "metadata": {},
   "outputs": [
    {
     "data": {
      "text/html": [
       "<div><style>\n",
       ".dataframe > thead > tr,\n",
       ".dataframe > tbody > tr {\n",
       "  text-align: right;\n",
       "  white-space: pre-wrap;\n",
       "}\n",
       "</style>\n",
       "<small>shape: (5, 3)</small><table border=\"1\" class=\"dataframe\"><thead><tr><th>context_type</th><th>score</th><th>question_idx</th></tr><tr><td>str</td><td>f64</td><td>i64</td></tr></thead><tbody><tr><td>&quot;gold_context_baseline&quot;</td><td>1.0</td><td>0</td></tr><tr><td>&quot;gold_context_baseline&quot;</td><td>0.8</td><td>1</td></tr><tr><td>&quot;gold_context_baseline&quot;</td><td>0.0</td><td>2</td></tr><tr><td>&quot;gold_context_baseline&quot;</td><td>0.0</td><td>3</td></tr><tr><td>&quot;gold_context_baseline&quot;</td><td>0.0</td><td>4</td></tr></tbody></table></div>"
      ],
      "text/plain": [
       "shape: (5, 3)\n",
       "┌───────────────────────┬───────┬──────────────┐\n",
       "│ context_type          ┆ score ┆ question_idx │\n",
       "│ ---                   ┆ ---   ┆ ---          │\n",
       "│ str                   ┆ f64   ┆ i64          │\n",
       "╞═══════════════════════╪═══════╪══════════════╡\n",
       "│ gold_context_baseline ┆ 1.0   ┆ 0            │\n",
       "│ gold_context_baseline ┆ 0.8   ┆ 1            │\n",
       "│ gold_context_baseline ┆ 0.0   ┆ 2            │\n",
       "│ gold_context_baseline ┆ 0.0   ┆ 3            │\n",
       "│ gold_context_baseline ┆ 0.0   ┆ 4            │\n",
       "└───────────────────────┴───────┴──────────────┘"
      ]
     },
     "execution_count": 27,
     "metadata": {},
     "output_type": "execute_result"
    }
   ],
   "source": [
    "scores = {\n",
    "    \"context_type\": [],\n",
    "    \"score\": [],\n",
    "    \"question_idx\": []\n",
    "}\n",
    "\n",
    "keys = list(results.keys())\n",
    "question_idx = [i for i in range(5)]\n",
    "\n",
    "for item in product(keys, question_idx):\n",
    "    scores[\"context_type\"].append(item[0])\n",
    "    scores[\"question_idx\"].append(item[1])\n",
    "    scores[\"score\"].append(results[item[0]][item[1]][\"score\"])\n",
    "\n",
    "df_scores = pl.DataFrame(scores)\n",
    "df_scores.head()"
   ]
  },
  {
   "cell_type": "code",
   "execution_count": 28,
   "id": "324050fa",
   "metadata": {},
   "outputs": [
    {
     "data": {
      "text/plain": [
       "<Axes: xlabel='question_idx', ylabel='score'>"
      ]
     },
     "execution_count": 28,
     "metadata": {},
     "output_type": "execute_result"
    },
    {
     "data": {
      "image/png": "[encoded data removed]",
      "text/plain": [
       "<Figure size 640x480 with 1 Axes>"
      ]
     },
     "metadata": {},
     "output_type": "display_data"
    }
   ],
   "source": [
    "sns.barplot(\n",
    "    data=df_scores,\n",
    "    x=\"question_idx\",\n",
    "    y=\"score\",\n",
    "    hue=\"context_type\",\n",
    "    palette=\"pastel\"\n",
    ")"
   ]
  }
 ],
 "metadata": {
  "kernelspec": {
   "display_name": "nq",
   "language": "python",
   "name": "python3"
  },
  "language_info": {
   "codemirror_mode": {
    "name": "ipython",
    "version": 3
   },
   "file_extension": ".py",
   "mimetype": "text/x-python",
   "name": "python",
   "nbconvert_exporter": "python",
   "pygments_lexer": "ipython3",
   "version": "3.11.11"
  }
 },
 "nbformat": 4,
 "nbformat_minor": 5
}

{
 "cells": [
  {
   "cell_type": "markdown",
   "id": "f1c57c1b",
   "metadata": {},
   "source": [
    "# Prompt Validation Exp - Result Analysis\n",
    "\n",
    "In order to build a proper datamodel it's essential to first understand what are the types of context that we're aiming to explore.  \n",
    "To do so five different types of context will be analyzed here:\n",
    "- Gold Standard\n",
    "- No Context\n",
    "- Random Context from the Same Page\n",
    "- Selected Context from the Same Page\n",
    "\n",
    "These contexts were evaluated in 5 different questions that will be showcased here."
   ]
  },
  {
   "cell_type": "code",
   "execution_count": 1,
   "id": "281b9aa3",
   "metadata": {},
   "outputs": [],
   "source": [
    "import seaborn as sns\n",
    "import polars as pl\n",
    "import json\n",
    "import os"
   ]
  },
  {
   "cell_type": "markdown",
   "id": "abe449bd",
   "metadata": {},
   "source": [
    "## Showcasing Questions\n",
    "\n",
    "These are the questions used during this experiment, they will be presented here with the expected output"
   ]
  },
  {
   "cell_type": "code",
   "execution_count": 3,
   "id": "b9d88569",
   "metadata": {},
   "outputs": [
    {
     "name": "stdout",
     "output_type": "stream",
     "text": [
      "/home/caio.rhoden\n"
     ]
    }
   ],
   "source": [
    "print(os.getcwd())"
   ]
  },
  {
   "cell_type": "code",
   "execution_count": 8,
   "id": "cdd374b9",
   "metadata": {},
   "outputs": [],
   "source": [
    "GOLDEN_PATH = \"work/dmcr-experiment-natural-questions/data/nq_open_gold/processed/train.feather\"\n",
    "train  = pl.read_ipc(GOLDEN_PATH)\n",
    "\n",
    "selected_ids = [\n",
    "    4393532674001821363\t,\n",
    "    -4144729966148354479,\n",
    "    1317425899790858647,\n",
    "    824576888464737344,\n",
    "    -1245842872065838644\n",
    "]\n",
    "\n",
    "\n",
    "questions = train.filter(pl.col(\"example_id\").is_in(selected_ids))"
   ]
  },
  {
   "cell_type": "code",
   "execution_count": 11,
   "id": "ac147570",
   "metadata": {},
   "outputs": [
    {
     "data": {
      "text/plain": [
       "array([['why was there so much interest in cuba both before and after the civil war',\n",
       "        array(['sugar markets'], dtype=object)],\n",
       "       ['who developed the first periodic table with 8 columns',\n",
       "        array(['Dmitri Mendeleev'], dtype=object)],\n",
       "       ['when did the who perform at the super bowl',\n",
       "        array(['Feb 7 , 2010'], dtype=object)],\n",
       "       ['the organization of the formal elements in an art work',\n",
       "        array(['composition'], dtype=object)],\n",
       "       ['where did the french king live before versailles',\n",
       "        array(['the Tuileries Palace'], dtype=object)]], dtype=object)"
      ]
     },
     "execution_count": 11,
     "metadata": {},
     "output_type": "execute_result"
    }
   ],
   "source": [
    "questions.select(\"question\", \"answers\").to_numpy()"
   ]
  },
  {
   "cell_type": "markdown",
   "id": "472d09b4",
   "metadata": {},
   "source": [
    "## Compiling Results\n"
   ]
  },
  {
   "cell_type": "code",
   "execution_count": 16,
   "id": "e048e43c",
   "metadata": {},
   "outputs": [],
   "source": [
    "def get_results(path):\n",
    "\n",
    "    selected_ids = [\n",
    "        4393532674001821363\t,\n",
    "        -4144729966148354479,\n",
    "        1317425899790858647,\n",
    "        824576888464737344,\n",
    "        -1245842872065838644\n",
    "    ]\n",
    "\n",
    "    results = []\n",
    "    for filename in os.listdir(path):\n",
    "        if os.path.isfile(os.path.join(path, filename)):\n",
    "            if any(str(id) in filename for id in selected_ids):\n",
    "                with open(os.path.join(path, filename), \"r\") as f:\n",
    "                    results.append(json.load(f))\n",
    "    \n",
    "    return results\n",
    "    \n"
   ]
  },
  {
   "cell_type": "code",
   "execution_count": 17,
   "id": "24920916",
   "metadata": {},
   "outputs": [],
   "source": [
    "results_path = \"work/dmcr-experiment-natural-questions/prompt_validation_experiment/results\"\n",
    "possible_prompts =  [\n",
    "    \"gold_context_baseline\",\n",
    "    \"no_context_baseline\",\n",
    "    \"same_page_baseline\",\n",
    "    \"same_page_reduced_baseline\"\n",
    "]\n",
    "\n",
    "\n",
    "results = {prompt: get_results(os.path.join(results_path, prompt)) for prompt in possible_prompts}"
   ]
  },
  {
   "cell_type": "code",
   "execution_count": 18,
   "id": "e522bffe",
   "metadata": {},
   "outputs": [
    {
     "data": {
      "text/plain": [
       "{'gold_context_baseline': [{'true_answers': ['sugar markets'],\n",
       "   'pred_answer': '\"due to the control',\n",
       "   'score': 0.0,\n",
       "   'time': '0.036693'},\n",
       "  {'true_answers': ['the tuileries palace'],\n",
       "   'pred_answer': 'the tuileries palace',\n",
       "   'score': 1.0,\n",
       "   'time': '0.036608'},\n",
       "  {'true_answers': ['dmitri mendeleev'],\n",
       "   'pred_answer': 'the answer is: dmit',\n",
       "   'score': 0.0,\n",
       "   'time': '0.038123'},\n",
       "  {'true_answers': ['feb 7 , 2010'],\n",
       "   'pred_answer': 'feb 7,',\n",
       "   'score': 0.8,\n",
       "   'time': '0.039375'},\n",
       "  {'true_answers': ['composition'],\n",
       "   'pred_answer': 'organization of the elements of',\n",
       "   'score': 0.0,\n",
       "   'time': '0.036646'}],\n",
       " 'no_context_baseline': [{'true_answers': ['dmitri mendeleev'],\n",
       "   'pred_answer': 'dmitri mendeleev',\n",
       "   'score': 1.0,\n",
       "   'time': '0.039899'},\n",
       "  {'true_answers': ['composition'],\n",
       "   'pred_answer': 'composition',\n",
       "   'score': 1.0,\n",
       "   'time': '0.036886'},\n",
       "  {'true_answers': ['feb 7 , 2010'],\n",
       "   'pred_answer': 'the who performed at super',\n",
       "   'score': 0.0,\n",
       "   'time': '0.037608'},\n",
       "  {'true_answers': ['the tuileries palace'],\n",
       "   'pred_answer': 'château de font',\n",
       "   'score': 0.0,\n",
       "   'time': '0.037193'},\n",
       "  {'true_answers': ['sugar markets'],\n",
       "   'pred_answer': 'historical interest in cuba',\n",
       "   'score': 0.0,\n",
       "   'time': '0.040334'}],\n",
       " 'same_page_baseline': [{'true_answers': ['dmitri mendeleev'],\n",
       "   'pred_answer': 'mendeleev',\n",
       "   'score': 0.6666666666666666,\n",
       "   'time': '0.037244'},\n",
       "  {'true_answers': ['composition'],\n",
       "   'pred_answer': 'composition.',\n",
       "   'score': 1.0,\n",
       "   'time': '0.037673'},\n",
       "  {'true_answers': ['sugar markets'],\n",
       "   'pred_answer': 'the us had significant economic',\n",
       "   'score': 0.0,\n",
       "   'time': '0.037863'},\n",
       "  {'true_answers': ['the tuileries palace'],\n",
       "   'pred_answer': 'the tuileries palace',\n",
       "   'score': 1.0,\n",
       "   'time': '0.039757'},\n",
       "  {'true_answers': ['feb 7 , 2010'],\n",
       "   'pred_answer': 'justin timberlake (201',\n",
       "   'score': 0.0,\n",
       "   'time': '0.083464'}],\n",
       " 'same_page_reduced_baseline': [{'true_answers': ['the tuileries palace'],\n",
       "   'pred_answer': 'the text does not explicitly state that the french king lived before versailles,',\n",
       "   'score': 0.125,\n",
       "   'time': '0.100691'},\n",
       "  {'true_answers': ['sugar markets'],\n",
       "   'pred_answer': 'there is no information about cuba in the provided documents, and the question about',\n",
       "   'score': 0.0,\n",
       "   'time': '0.107743'},\n",
       "  {'true_answers': ['dmitri mendeleev'],\n",
       "   'pred_answer': \"i don't have enough information to answer the question about the developer of the\",\n",
       "   'score': 0.0,\n",
       "   'time': '0.106531'},\n",
       "  {'true_answers': ['composition'],\n",
       "   'pred_answer': 'the organization of the formal elements in an art work refers to the arrangement of',\n",
       "   'score': 0.0,\n",
       "   'time': '0.116248'},\n",
       "  {'true_answers': ['feb 7 , 2010'],\n",
       "   'pred_answer': 'there is no information provided about who performed at the super bowl, as the',\n",
       "   'score': 0.0,\n",
       "   'time': '0.108475'}]}"
      ]
     },
     "execution_count": 18,
     "metadata": {},
     "output_type": "execute_result"
    }
   ],
   "source": [
    "results"
   ]
  }
 ],
 "metadata": {
  "kernelspec": {
   "display_name": "Python 3 (ipykernel)",
   "language": "python",
   "name": "python3"
  },
  "language_info": {
   "codemirror_mode": {
    "name": "ipython",
    "version": 3
   },
   "file_extension": ".py",
   "mimetype": "text/x-python",
   "name": "python",
   "nbconvert_exporter": "python",
   "pygments_lexer": "ipython3",
   "version": "3.11.11"
  }
 },
 "nbformat": 4,
 "nbformat_minor": 5
}

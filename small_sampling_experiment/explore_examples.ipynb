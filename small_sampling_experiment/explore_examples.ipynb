{
 "cells": [
  {
   "cell_type": "code",
   "execution_count": 1,
   "metadata": {},
   "outputs": [],
   "source": [
    "import polars as pl"
   ]
  },
  {
   "cell_type": "code",
   "execution_count": 13,
   "metadata": {},
   "outputs": [
    {
     "data": {
      "text/html": [
       "<div><style>\n",
       ".dataframe > thead > tr,\n",
       ".dataframe > tbody > tr {\n",
       "  text-align: right;\n",
       "  white-space: pre-wrap;\n",
       "}\n",
       "</style>\n",
       "<small>shape: (5, 5)</small><table border=\"1\" class=\"dataframe\"><thead><tr><th>example_id</th><th>question</th><th>answers</th><th>text</th><th>idx_gold_in_corpus</th></tr><tr><td>i64</td><td>str</td><td>list[str]</td><td>str</td><td>i64</td></tr></thead><tbody><tr><td>-6802534628745605728</td><td>&quot;total number of death row inma…</td><td>[&quot;2,718&quot;]</td><td>&quot;As of June 14 , 2018 , there w…</td><td>20970735</td></tr><tr><td>-8178292525996414464</td><td>&quot;big little lies season 2 how m…</td><td>[&quot;seven&quot;]</td><td>&quot;Despite originally being bille…</td><td>20970736</td></tr><tr><td>1727798345024846317</td><td>&quot;who sang waiting for a girl li…</td><td>[&quot;Foreigner&quot;]</td><td>&quot;&#x27;&#x27; Waiting for a Girl Like You…</td><td>20970737</td></tr><tr><td>-1862942322519208465</td><td>&quot;where do you cross the arctic …</td><td>[&quot;Saltfjellet&quot;]</td><td>&quot;The Arctic circle crosses main…</td><td>20970738</td></tr><tr><td>-6742567993987506913</td><td>&quot;who is the main character in g…</td><td>[&quot;Sam - I - am&quot;]</td><td>&quot;A character named &#x27;&#x27; Sam - I -…</td><td>20970739</td></tr></tbody></table></div>"
      ],
      "text/plain": [
       "shape: (5, 5)\n",
       "┌───────────────────┬───────────────────┬──────────────────┬───────────────────┬───────────────────┐\n",
       "│ example_id        ┆ question          ┆ answers          ┆ text              ┆ idx_gold_in_corpu │\n",
       "│ ---               ┆ ---               ┆ ---              ┆ ---               ┆ s                 │\n",
       "│ i64               ┆ str               ┆ list[str]        ┆ str               ┆ ---               │\n",
       "│                   ┆                   ┆                  ┆                   ┆ i64               │\n",
       "╞═══════════════════╪═══════════════════╪══════════════════╪═══════════════════╪═══════════════════╡\n",
       "│ -6802534628745605 ┆ total number of   ┆ [\"2,718\"]        ┆ As of June 14 ,   ┆ 20970735          │\n",
       "│ 728               ┆ death row inma…   ┆                  ┆ 2018 , there w…   ┆                   │\n",
       "│ -8178292525996414 ┆ big little lies   ┆ [\"seven\"]        ┆ Despite           ┆ 20970736          │\n",
       "│ 464               ┆ season 2 how m…   ┆                  ┆ originally being  ┆                   │\n",
       "│                   ┆                   ┆                  ┆ bille…            ┆                   │\n",
       "│ 17277983450248463 ┆ who sang waiting  ┆ [\"Foreigner\"]    ┆ '' Waiting for a  ┆ 20970737          │\n",
       "│ 17                ┆ for a girl li…    ┆                  ┆ Girl Like You…    ┆                   │\n",
       "│ -1862942322519208 ┆ where do you      ┆ [\"Saltfjellet\"]  ┆ The Arctic circle ┆ 20970738          │\n",
       "│ 465               ┆ cross the arctic  ┆                  ┆ crosses main…     ┆                   │\n",
       "│                   ┆ …                 ┆                  ┆                   ┆                   │\n",
       "│ -6742567993987506 ┆ who is the main   ┆ [\"Sam - I - am\"] ┆ A character named ┆ 20970739          │\n",
       "│ 913               ┆ character in g…   ┆                  ┆ '' Sam - I -…     ┆                   │\n",
       "└───────────────────┴───────────────────┴──────────────────┴───────────────────┴───────────────────┘"
      ]
     },
     "execution_count": 13,
     "metadata": {},
     "output_type": "execute_result"
    }
   ],
   "source": [
    "GOLDEN_PATH = \"../data/nq_open_gold/processed/train.feather\"\n",
    "WIKI_PATH = \"../data/wiki_dump2018_nq_open/processed/wiki.feather\"\n",
    "train  = pl.read_ipc(GOLDEN_PATH)\n",
    "wiki = pl.read_ipc(WIKI_PATH).with_row_index(\"idx\")\n",
    "train.head()"
   ]
  },
  {
   "cell_type": "code",
   "execution_count": 14,
   "metadata": {},
   "outputs": [
    {
     "data": {
      "text/html": [
       "<div><style>\n",
       ".dataframe > thead > tr,\n",
       ".dataframe > tbody > tr {\n",
       "  text-align: right;\n",
       "  white-space: pre-wrap;\n",
       "}\n",
       "</style>\n",
       "<small>shape: (5, 5)</small><table border=\"1\" class=\"dataframe\"><thead><tr><th>example_id</th><th>question</th><th>answers</th><th>text</th><th>idx_gold_in_corpus</th></tr><tr><td>i64</td><td>str</td><td>list[str]</td><td>str</td><td>i64</td></tr></thead><tbody><tr><td>-6802534628745605728</td><td>&quot;total number of death row inma…</td><td>[&quot;2,718&quot;]</td><td>&quot;As of June 14 , 2018 , there w…</td><td>20970735</td></tr><tr><td>-8178292525996414464</td><td>&quot;big little lies season 2 how m…</td><td>[&quot;seven&quot;]</td><td>&quot;Despite originally being bille…</td><td>20970736</td></tr><tr><td>1727798345024846317</td><td>&quot;who sang waiting for a girl li…</td><td>[&quot;Foreigner&quot;]</td><td>&quot;&#x27;&#x27; Waiting for a Girl Like You…</td><td>20970737</td></tr><tr><td>-1862942322519208465</td><td>&quot;where do you cross the arctic …</td><td>[&quot;Saltfjellet&quot;]</td><td>&quot;The Arctic circle crosses main…</td><td>20970738</td></tr><tr><td>-6742567993987506913</td><td>&quot;who is the main character in g…</td><td>[&quot;Sam - I - am&quot;]</td><td>&quot;A character named &#x27;&#x27; Sam - I -…</td><td>20970739</td></tr></tbody></table></div>"
      ],
      "text/plain": [
       "shape: (5, 5)\n",
       "┌───────────────────┬───────────────────┬──────────────────┬───────────────────┬───────────────────┐\n",
       "│ example_id        ┆ question          ┆ answers          ┆ text              ┆ idx_gold_in_corpu │\n",
       "│ ---               ┆ ---               ┆ ---              ┆ ---               ┆ s                 │\n",
       "│ i64               ┆ str               ┆ list[str]        ┆ str               ┆ ---               │\n",
       "│                   ┆                   ┆                  ┆                   ┆ i64               │\n",
       "╞═══════════════════╪═══════════════════╪══════════════════╪═══════════════════╪═══════════════════╡\n",
       "│ -6802534628745605 ┆ total number of   ┆ [\"2,718\"]        ┆ As of June 14 ,   ┆ 20970735          │\n",
       "│ 728               ┆ death row inma…   ┆                  ┆ 2018 , there w…   ┆                   │\n",
       "│ -8178292525996414 ┆ big little lies   ┆ [\"seven\"]        ┆ Despite           ┆ 20970736          │\n",
       "│ 464               ┆ season 2 how m…   ┆                  ┆ originally being  ┆                   │\n",
       "│                   ┆                   ┆                  ┆ bille…            ┆                   │\n",
       "│ 17277983450248463 ┆ who sang waiting  ┆ [\"Foreigner\"]    ┆ '' Waiting for a  ┆ 20970737          │\n",
       "│ 17                ┆ for a girl li…    ┆                  ┆ Girl Like You…    ┆                   │\n",
       "│ -1862942322519208 ┆ where do you      ┆ [\"Saltfjellet\"]  ┆ The Arctic circle ┆ 20970738          │\n",
       "│ 465               ┆ cross the arctic  ┆                  ┆ crosses main…     ┆                   │\n",
       "│                   ┆ …                 ┆                  ┆                   ┆                   │\n",
       "│ -6742567993987506 ┆ who is the main   ┆ [\"Sam - I - am\"] ┆ A character named ┆ 20970739          │\n",
       "│ 913               ┆ character in g…   ┆                  ┆ '' Sam - I -…     ┆                   │\n",
       "└───────────────────┴───────────────────┴──────────────────┴───────────────────┴───────────────────┘"
      ]
     },
     "execution_count": 14,
     "metadata": {},
     "output_type": "execute_result"
    }
   ],
   "source": [
    "train.head()"
   ]
  },
  {
   "cell_type": "code",
   "execution_count": 15,
   "metadata": {},
   "outputs": [
    {
     "data": {
      "text/html": [
       "<div><style>\n",
       ".dataframe > thead > tr,\n",
       ".dataframe > tbody > tr {\n",
       "  text-align: right;\n",
       "  white-space: pre-wrap;\n",
       "}\n",
       "</style>\n",
       "<small>shape: (5, 3)</small><table border=\"1\" class=\"dataframe\"><thead><tr><th>idx</th><th>text</th><th>title</th></tr><tr><td>u32</td><td>str</td><td>str</td></tr></thead><tbody><tr><td>0</td><td>&quot;Aaron Aaron ( or ; &quot;Ahärôn&quot;) i…</td><td>&quot;Aaron&quot;</td></tr><tr><td>1</td><td>&quot;God at Sinai granted Aaron the…</td><td>&quot;Aaron&quot;</td></tr><tr><td>2</td><td>&quot;his rod turn into a snake. The…</td><td>&quot;Aaron&quot;</td></tr><tr><td>3</td><td>&quot;however, Aaron and Hur remaine…</td><td>&quot;Aaron&quot;</td></tr><tr><td>4</td><td>&quot;Aaron and his sons to the prie…</td><td>&quot;Aaron&quot;</td></tr></tbody></table></div>"
      ],
      "text/plain": [
       "shape: (5, 3)\n",
       "┌─────┬─────────────────────────────────┬───────┐\n",
       "│ idx ┆ text                            ┆ title │\n",
       "│ --- ┆ ---                             ┆ ---   │\n",
       "│ u32 ┆ str                             ┆ str   │\n",
       "╞═════╪═════════════════════════════════╪═══════╡\n",
       "│ 0   ┆ Aaron Aaron ( or ; \"Ahärôn\") i… ┆ Aaron │\n",
       "│ 1   ┆ God at Sinai granted Aaron the… ┆ Aaron │\n",
       "│ 2   ┆ his rod turn into a snake. The… ┆ Aaron │\n",
       "│ 3   ┆ however, Aaron and Hur remaine… ┆ Aaron │\n",
       "│ 4   ┆ Aaron and his sons to the prie… ┆ Aaron │\n",
       "└─────┴─────────────────────────────────┴───────┘"
      ]
     },
     "execution_count": 15,
     "metadata": {},
     "output_type": "execute_result"
    }
   ],
   "source": [
    "wiki.head()"
   ]
  },
  {
   "cell_type": "code",
   "execution_count": 12,
   "metadata": {},
   "outputs": [
    {
     "data": {
      "text/html": [
       "<div><style>\n",
       ".dataframe > thead > tr,\n",
       ".dataframe > tbody > tr {\n",
       "  text-align: right;\n",
       "  white-space: pre-wrap;\n",
       "}\n",
       "</style>\n",
       "<small>shape: (6, 5)</small><table border=\"1\" class=\"dataframe\"><thead><tr><th>example_id</th><th>question</th><th>answers</th><th>text</th><th>idx_gold_in_corpus</th></tr><tr><td>i64</td><td>str</td><td>list[str]</td><td>str</td><td>i64</td></tr></thead><tbody><tr><td>-4144729966148354479</td><td>&quot;why was there so much interest…</td><td>[&quot;sugar markets&quot;]</td><td>&quot;After the American Civil War a…</td><td>20970748</td></tr><tr><td>1317425899790858647</td><td>&quot;who developed the first period…</td><td>[&quot;Dmitri Mendeleev&quot;]</td><td>&quot;The Russian chemist Dmitri Men…</td><td>20970755</td></tr><tr><td>4393532674001821363</td><td>&quot;when did the who perform at th…</td><td>[&quot;Feb 7 , 2010&quot;]</td><td>&quot;XLIV Date : Feb 7 , 2010 Locat…</td><td>20970820</td></tr><tr><td>824576888464737344</td><td>&quot;the organization of the formal…</td><td>[&quot;composition&quot;]</td><td>&quot;In the visual arts , compositi…</td><td>20970864</td></tr><tr><td>-8930591693474034237</td><td>&quot;how many scheduled tribes are …</td><td>[&quot;645&quot;]</td><td>&quot;This is a list of Scheduled Tr…</td><td>20971351</td></tr><tr><td>-1245842872065838644</td><td>&quot;where did the french king live…</td><td>[&quot;the Tuileries Palace&quot;]</td><td>&quot;During the reign of Louis XIV …</td><td>20971524</td></tr></tbody></table></div>"
      ],
      "text/plain": [
       "shape: (6, 5)\n",
       "┌───────────────────┬───────────────────┬───────────────────┬───────────────────┬──────────────────┐\n",
       "│ example_id        ┆ question          ┆ answers           ┆ text              ┆ idx_gold_in_corp │\n",
       "│ ---               ┆ ---               ┆ ---               ┆ ---               ┆ us               │\n",
       "│ i64               ┆ str               ┆ list[str]         ┆ str               ┆ ---              │\n",
       "│                   ┆                   ┆                   ┆                   ┆ i64              │\n",
       "╞═══════════════════╪═══════════════════╪═══════════════════╪═══════════════════╪══════════════════╡\n",
       "│ -4144729966148354 ┆ why was there so  ┆ [\"sugar markets\"] ┆ After the         ┆ 20970748         │\n",
       "│ 479               ┆ much interest…    ┆                   ┆ American Civil    ┆                  │\n",
       "│                   ┆                   ┆                   ┆ War a…            ┆                  │\n",
       "│ 13174258997908586 ┆ who developed the ┆ [\"Dmitri          ┆ The Russian       ┆ 20970755         │\n",
       "│ 47                ┆ first period…     ┆ Mendeleev\"]       ┆ chemist Dmitri    ┆                  │\n",
       "│                   ┆                   ┆                   ┆ Men…              ┆                  │\n",
       "│ 43935326740018213 ┆ when did the who  ┆ [\"Feb 7 , 2010\"]  ┆ XLIV Date : Feb 7 ┆ 20970820         │\n",
       "│ 63                ┆ perform at th…    ┆                   ┆ , 2010 Locat…     ┆                  │\n",
       "│ 82457688846473734 ┆ the organization  ┆ [\"composition\"]   ┆ In the visual     ┆ 20970864         │\n",
       "│ 4                 ┆ of the formal…    ┆                   ┆ arts , compositi… ┆                  │\n",
       "│ -8930591693474034 ┆ how many          ┆ [\"645\"]           ┆ This is a list of ┆ 20971351         │\n",
       "│ 237               ┆ scheduled tribes  ┆                   ┆ Scheduled Tr…     ┆                  │\n",
       "│                   ┆ are …             ┆                   ┆                   ┆                  │\n",
       "│ -1245842872065838 ┆ where did the     ┆ [\"the Tuileries   ┆ During the reign  ┆ 20971524         │\n",
       "│ 644               ┆ french king live… ┆ Palace\"]          ┆ of Louis XIV …    ┆                  │\n",
       "└───────────────────┴───────────────────┴───────────────────┴───────────────────┴──────────────────┘"
      ]
     },
     "execution_count": 12,
     "metadata": {},
     "output_type": "execute_result"
    }
   ],
   "source": [
    "## 1 - Release movie date\n",
    "## 2 - Historical interesets\n",
    "# 3 - Historical Figure (inventor of item)\n",
    "## Concept of subject\n",
    "## Number of things\n",
    "## Location\n",
    "\n",
    "selected_ids = [\n",
    "    4393532674001821363\t,\n",
    "    -4144729966148354479,\n",
    "    1317425899790858647,\n",
    "    824576888464737344,\n",
    "    -8930591693474034237,\n",
    "    -1245842872065838644\n",
    "]\n",
    "\n",
    "\n",
    "train.filter(pl.col(\"example_id\").is_in(selected_ids))"
   ]
  },
  {
   "cell_type": "code",
   "execution_count": 8,
   "metadata": {},
   "outputs": [
    {
     "data": {
      "text/plain": [
       "array([['In this case, the number one position would place the member as the center on the single. The election result was revealed at the Balai Sarbini, South Jakarta on 22 April 2017 and broadcast live on RTV. The event was emceed by , who had been emceed the same event twice, and . The top 16 members were featured in JKT48\\'s 17th single, \"Indahnya Senyum Manismu...\" and the members ranked 17 to 32 sang the B-side \"Sedikit Saja I Love You!\"; the recording was released in music card on 8 June 2017 and in CD-DVD on 4 August 2017. The']],\n",
       "      dtype=object)"
      ]
     },
     "execution_count": 8,
     "metadata": {},
     "output_type": "execute_result"
    }
   ],
   "source": [
    "wiki.filter(pl.col(\"id\")==20970748).select(\"text\").to_numpy()"
   ]
  },
  {
   "cell_type": "markdown",
   "metadata": {},
   "source": [
    "## Filter IDs - Get ids from the same document of Gold reference"
   ]
  },
  {
   "cell_type": "code",
   "execution_count": 23,
   "metadata": {},
   "outputs": [],
   "source": [
    "gold_ids_in_corpus = (\n",
    "    train\n",
    "    .filter(pl.col(\"example_id\").is_in(selected_ids))\n",
    "    .select(pl.col(\"idx_gold_in_corpus\").alias(\"idx\"))\n",
    ")\n",
    "\n",
    "filter_wiki_titles= (\n",
    "    wiki\n",
    "    .join(gold_ids_in_corpus, on=\"idx\", how=\"inner\")\n",
    "    .select(\"idx\", \"title\")\n",
    ")\n",
    "\n",
    "sample_docs_from_gold = (\n",
    "    wiki\n",
    "    .join(filter_wiki_titles, on=\"title\", how=\"inner\")\n",
    "    .join(filter_wiki_titles, on=\"idx\", how=\"anti\")\n",
    "    .group_by(\"title\")\n",
    "    .agg(pl.col(\"idx\").sample(n=4, shuffle=True, seed=42))\n",
    "    \n",
    ")"
   ]
  },
  {
   "cell_type": "code",
   "execution_count": 28,
   "metadata": {},
   "outputs": [
    {
     "data": {
      "text/plain": [
       "array([['History of the periodic table',\n",
       "        array([21021886,  3037814,  3037817,  3037823], dtype=uint32)],\n",
       "       ['Tuileries Palace',\n",
       "        array([2885373, 2885396, 2885377, 2885390], dtype=uint32)],\n",
       "       ['Composition (visual arts)',\n",
       "        array([5022625, 5022643, 5022628, 5022634], dtype=uint32)],\n",
       "       ['List of Super Bowl halftime shows',\n",
       "        array([21030529, 21000837, 21018761, 21017044], dtype=uint32)],\n",
       "       ['Spanish-American War',\n",
       "        array([21031011, 20987163, 21018302, 21014051], dtype=uint32)]],\n",
       "      dtype=object)"
      ]
     },
     "execution_count": 28,
     "metadata": {},
     "output_type": "execute_result"
    }
   ],
   "source": [
    "sample_docs_from_gold.to_numpy()"
   ]
  },
  {
   "cell_type": "code",
   "execution_count": null,
   "metadata": {},
   "outputs": [],
   "source": []
  }
 ],
 "metadata": {
  "kernelspec": {
   "display_name": "nq",
   "language": "python",
   "name": "python3"
  },
  "language_info": {
   "codemirror_mode": {
    "name": "ipython",
    "version": 3
   },
   "file_extension": ".py",
   "mimetype": "text/x-python",
   "name": "python",
   "nbconvert_exporter": "python",
   "pygments_lexer": "ipython3",
   "version": "3.11.11"
  }
 },
 "nbformat": 4,
 "nbformat_minor": 2
}

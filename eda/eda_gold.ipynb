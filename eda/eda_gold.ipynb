{
 "cells": [
  {
   "cell_type": "markdown",
   "metadata": {},
   "source": [
    "# EDA: nq_open_gold\n",
    "\n",
    "The goal here is to explore the gold standard dataset from the [Power of Noise](https://github.com/florin-git/The-Power-of-Noise)  \\\n",
    "The description is available [here](https://huggingface.co/datasets/florin-hf/nq_open_gold)  \\\n",
    "What will be the exploration:\n",
    "- What are the column and size of the dataset?\n",
    "- How to relate the gold document with the WikiDump2018?"
   ]
  },
  {
   "cell_type": "code",
   "execution_count": 1,
   "metadata": {},
   "outputs": [
    {
     "name": "stderr",
     "output_type": "stream",
     "text": [
      "/home/caio.rhoden/miniconda3/envs/nq/lib/python3.11/site-packages/tqdm/auto.py:21: TqdmWarning: IProgress not found. Please update jupyter and ipywidgets. See https://ipywidgets.readthedocs.io/en/stable/user_install.html\n",
      "  from .autonotebook import tqdm as notebook_tqdm\n"
     ]
    }
   ],
   "source": [
    "import polars as pl\n",
    "from datasets import load_from_disk, load_dataset\n",
    "import seaborn as sns\n",
    "\n",
    "colors = {\n",
    "    \"train\": \"lightblue\",\n",
    "    \"dev\": \"green\",\n",
    "    \"test\": \"red\",\n",
    "}\n"
   ]
  },
  {
   "cell_type": "markdown",
   "metadata": {},
   "source": [
    "## Load Datasets"
   ]
  },
  {
   "cell_type": "code",
   "execution_count": null,
   "metadata": {},
   "outputs": [],
   "source": [
    "PATH_GOLD = \"../data/nq_open_gold\"\n",
    "test =load_dataset(\"json\", data_files=f\"{PATH_GOLD}/test_dataset.json\")[\"train\"].to_polars()\n",
    "train = load_dataset(\"json\", data_files=f\"{PATH_GOLD}/train_dataset.json\")[\"train\"].to_polars()\n",
    "dev = load_dataset(\"json\", data_files=f\"{PATH_GOLD}/dev_dataset.json\")[\"train\"].to_polars()"
   ]
  },
  {
   "cell_type": "code",
   "execution_count": 17,
   "metadata": {},
   "outputs": [
    {
     "data": {
      "text/html": [
       "<div><style>\n",
       ".dataframe > thead > tr,\n",
       ".dataframe > tbody > tr {\n",
       "  text-align: right;\n",
       "  white-space: pre-wrap;\n",
       "}\n",
       "</style>\n",
       "<small>shape: (5, 5)</small><table border=\"1\" class=\"dataframe\"><thead><tr><th>example_id</th><th>question</th><th>answers</th><th>text</th><th>idx_gold_in_corpus</th></tr><tr><td>i64</td><td>str</td><td>list[str]</td><td>str</td><td>i64</td></tr></thead><tbody><tr><td>-6802534628745605728</td><td>&quot;total number of death row inma…</td><td>[&quot;2,718&quot;]</td><td>&quot;As of June 14 , 2018 , there w…</td><td>20970735</td></tr><tr><td>-8178292525996414464</td><td>&quot;big little lies season 2 how m…</td><td>[&quot;seven&quot;]</td><td>&quot;Despite originally being bille…</td><td>20970736</td></tr><tr><td>1727798345024846317</td><td>&quot;who sang waiting for a girl li…</td><td>[&quot;Foreigner&quot;]</td><td>&quot;&#x27;&#x27; Waiting for a Girl Like You…</td><td>20970737</td></tr><tr><td>-1862942322519208465</td><td>&quot;where do you cross the arctic …</td><td>[&quot;Saltfjellet&quot;]</td><td>&quot;The Arctic circle crosses main…</td><td>20970738</td></tr><tr><td>-6742567993987506913</td><td>&quot;who is the main character in g…</td><td>[&quot;Sam - I - am&quot;]</td><td>&quot;A character named &#x27;&#x27; Sam - I -…</td><td>20970739</td></tr></tbody></table></div>"
      ],
      "text/plain": [
       "shape: (5, 5)\n",
       "┌───────────────────┬───────────────────┬──────────────────┬───────────────────┬───────────────────┐\n",
       "│ example_id        ┆ question          ┆ answers          ┆ text              ┆ idx_gold_in_corpu │\n",
       "│ ---               ┆ ---               ┆ ---              ┆ ---               ┆ s                 │\n",
       "│ i64               ┆ str               ┆ list[str]        ┆ str               ┆ ---               │\n",
       "│                   ┆                   ┆                  ┆                   ┆ i64               │\n",
       "╞═══════════════════╪═══════════════════╪══════════════════╪═══════════════════╪═══════════════════╡\n",
       "│ -6802534628745605 ┆ total number of   ┆ [\"2,718\"]        ┆ As of June 14 ,   ┆ 20970735          │\n",
       "│ 728               ┆ death row inma…   ┆                  ┆ 2018 , there w…   ┆                   │\n",
       "│ -8178292525996414 ┆ big little lies   ┆ [\"seven\"]        ┆ Despite           ┆ 20970736          │\n",
       "│ 464               ┆ season 2 how m…   ┆                  ┆ originally being  ┆                   │\n",
       "│                   ┆                   ┆                  ┆ bille…            ┆                   │\n",
       "│ 17277983450248463 ┆ who sang waiting  ┆ [\"Foreigner\"]    ┆ '' Waiting for a  ┆ 20970737          │\n",
       "│ 17                ┆ for a girl li…    ┆                  ┆ Girl Like You…    ┆                   │\n",
       "│ -1862942322519208 ┆ where do you      ┆ [\"Saltfjellet\"]  ┆ The Arctic circle ┆ 20970738          │\n",
       "│ 465               ┆ cross the arctic  ┆                  ┆ crosses main…     ┆                   │\n",
       "│                   ┆ …                 ┆                  ┆                   ┆                   │\n",
       "│ -6742567993987506 ┆ who is the main   ┆ [\"Sam - I - am\"] ┆ A character named ┆ 20970739          │\n",
       "│ 913               ┆ character in g…   ┆                  ┆ '' Sam - I -…     ┆                   │\n",
       "└───────────────────┴───────────────────┴──────────────────┴───────────────────┴───────────────────┘"
      ]
     },
     "execution_count": 17,
     "metadata": {},
     "output_type": "execute_result"
    }
   ],
   "source": [
    "train.head()"
   ]
  },
  {
   "cell_type": "code",
   "execution_count": 2,
   "metadata": {},
   "outputs": [
    {
     "name": "stderr",
     "output_type": "stream",
     "text": [
      "Downloading data: 100%|██████████| 28/28 [00:00<00:00, 131955.63files/s]\n",
      "Generating train split: 21035236 examples [03:38, 96487.41 examples/s] \n"
     ]
    }
   ],
   "source": [
    "PATH_WIKI = \"../data/wiki_dump2018_nq_open\"\n",
    "wiki = load_dataset(\"parquet\", data_dir=f\"{PATH_WIKI}/data\")\n",
    "dump = wiki[\"train\"].to_polars()"
   ]
  },
  {
   "cell_type": "code",
   "execution_count": 3,
   "metadata": {},
   "outputs": [
    {
     "data": {
      "text/html": [
       "<div><style>\n",
       ".dataframe > thead > tr,\n",
       ".dataframe > tbody > tr {\n",
       "  text-align: right;\n",
       "  white-space: pre-wrap;\n",
       "}\n",
       "</style>\n",
       "<small>shape: (1, 2)</small><table border=\"1\" class=\"dataframe\"><thead><tr><th>text</th><th>title</th></tr><tr><td>str</td><td>str</td></tr></thead><tbody><tr><td>&quot;XLIV Date : Feb 7 , 2010 Locat…</td><td>&quot;List of Super Bowl halftime sh…</td></tr></tbody></table></div>"
      ],
      "text/plain": [
       "shape: (1, 2)\n",
       "┌─────────────────────────────────┬─────────────────────────────────┐\n",
       "│ text                            ┆ title                           │\n",
       "│ ---                             ┆ ---                             │\n",
       "│ str                             ┆ str                             │\n",
       "╞═════════════════════════════════╪═════════════════════════════════╡\n",
       "│ XLIV Date : Feb 7 , 2010 Locat… ┆ List of Super Bowl halftime sh… │\n",
       "└─────────────────────────────────┴─────────────────────────────────┘"
      ]
     },
     "execution_count": 3,
     "metadata": {},
     "output_type": "execute_result"
    }
   ],
   "source": [
    "dump[20970820]"
   ]
  },
  {
   "cell_type": "code",
   "execution_count": 8,
   "metadata": {},
   "outputs": [],
   "source": [
    "dump = wiki[\"train\"].to_polars()"
   ]
  },
  {
   "cell_type": "code",
   "execution_count": 19,
   "metadata": {},
   "outputs": [
    {
     "data": {
      "text/html": [
       "<div><style>\n",
       ".dataframe > thead > tr,\n",
       ".dataframe > tbody > tr {\n",
       "  text-align: right;\n",
       "  white-space: pre-wrap;\n",
       "}\n",
       "</style>\n",
       "<small>shape: (5, 3)</small><table border=\"1\" class=\"dataframe\"><thead><tr><th>id</th><th>text</th><th>title</th></tr><tr><td>i64</td><td>str</td><td>str</td></tr></thead><tbody><tr><td>1</td><td>&quot;Aaron Aaron ( or ; &quot;Ahärôn&quot;) i…</td><td>&quot;Aaron&quot;</td></tr><tr><td>2</td><td>&quot;God at Sinai granted Aaron the…</td><td>&quot;Aaron&quot;</td></tr><tr><td>3</td><td>&quot;his rod turn into a snake. The…</td><td>&quot;Aaron&quot;</td></tr><tr><td>4</td><td>&quot;however, Aaron and Hur remaine…</td><td>&quot;Aaron&quot;</td></tr><tr><td>5</td><td>&quot;Aaron and his sons to the prie…</td><td>&quot;Aaron&quot;</td></tr></tbody></table></div>"
      ],
      "text/plain": [
       "shape: (5, 3)\n",
       "┌─────┬─────────────────────────────────┬───────┐\n",
       "│ id  ┆ text                            ┆ title │\n",
       "│ --- ┆ ---                             ┆ ---   │\n",
       "│ i64 ┆ str                             ┆ str   │\n",
       "╞═════╪═════════════════════════════════╪═══════╡\n",
       "│ 1   ┆ Aaron Aaron ( or ; \"Ahärôn\") i… ┆ Aaron │\n",
       "│ 2   ┆ God at Sinai granted Aaron the… ┆ Aaron │\n",
       "│ 3   ┆ his rod turn into a snake. The… ┆ Aaron │\n",
       "│ 4   ┆ however, Aaron and Hur remaine… ┆ Aaron │\n",
       "│ 5   ┆ Aaron and his sons to the prie… ┆ Aaron │\n",
       "└─────┴─────────────────────────────────┴───────┘"
      ]
     },
     "execution_count": 19,
     "metadata": {},
     "output_type": "execute_result"
    }
   ],
   "source": [
    "dump.head()"
   ]
  },
  {
   "cell_type": "markdown",
   "metadata": {},
   "source": [
    "## What are the sizes of the datasets?"
   ]
  },
  {
   "cell_type": "code",
   "execution_count": 10,
   "metadata": {},
   "outputs": [
    {
     "data": {
      "text/plain": [
       "72209"
      ]
     },
     "execution_count": 10,
     "metadata": {},
     "output_type": "execute_result"
    }
   ],
   "source": [
    "len(train)"
   ]
  },
  {
   "cell_type": "code",
   "execution_count": 11,
   "metadata": {},
   "outputs": [
    {
     "data": {
      "text/plain": [
       "8006"
      ]
     },
     "execution_count": 11,
     "metadata": {},
     "output_type": "execute_result"
    }
   ],
   "source": [
    "len(dev)"
   ]
  },
  {
   "cell_type": "code",
   "execution_count": 12,
   "metadata": {},
   "outputs": [
    {
     "data": {
      "text/plain": [
       "2889"
      ]
     },
     "execution_count": 12,
     "metadata": {},
     "output_type": "execute_result"
    }
   ],
   "source": [
    "len(test)"
   ]
  },
  {
   "cell_type": "markdown",
   "metadata": {},
   "source": [
    "## What are the number of questions in average by Wikipedia page?"
   ]
  },
  {
   "cell_type": "code",
   "execution_count": null,
   "metadata": {},
   "outputs": [
    {
     "data": {
      "text/plain": [
       "<Axes: ylabel='Count'>"
      ]
     },
     "execution_count": 62,
     "metadata": {},
     "output_type": "execute_result"
    },
    {
     "data": {
      "image/png": "[encoded data removed]",
      "text/plain": [
       "<Figure size 640x480 with 1 Axes>"
      ]
     },
     "metadata": {},
     "output_type": "display_data"
    }
   ],
   "source": [
    "_temp = (\n",
    "    train\n",
    "    .group_by(\"idx_gold_in_corpus\")\n",
    "    .agg(pl.col(\"example_id\").count().alias(\"count\"))\n",
    "    .sort(\"count\", descending=True)\n",
    ")\n",
    "\n",
    "sns.histplot(_temp.select(\"count\"), bins=50, palette=[colors[\"train\"]])"
   ]
  },
  {
   "cell_type": "code",
   "execution_count": null,
   "metadata": {},
   "outputs": [
    {
     "data": {
      "text/plain": [
       "<Axes: ylabel='Count'>"
      ]
     },
     "execution_count": 60,
     "metadata": {},
     "output_type": "execute_result"
    },
    {
     "data": {
      "image/png": "[encoded data removed]",
      "text/plain": [
       "<Figure size 640x480 with 1 Axes>"
      ]
     },
     "metadata": {},
     "output_type": "display_data"
    }
   ],
   "source": [
    "_temp = (\n",
    "    dev\n",
    "    .group_by(\"idx_gold_in_corpus\")\n",
    "    .agg(pl.col(\"example_id\").count().alias(\"count\"))\n",
    "    .sort(\"count\", descending=True)\n",
    ")\n",
    "\n",
    "sns.histplot(_temp.select(\"count\"), bins=50, palette=[colors[\"dev\"]])"
   ]
  },
  {
   "cell_type": "code",
   "execution_count": null,
   "metadata": {},
   "outputs": [
    {
     "data": {
      "text/plain": [
       "<Axes: ylabel='Count'>"
      ]
     },
     "execution_count": 63,
     "metadata": {},
     "output_type": "execute_result"
    },
    {
     "data": {
      "image/png": "[encoded data removed]",
      "text/plain": [
       "<Figure size 640x480 with 1 Axes>"
      ]
     },
     "metadata": {},
     "output_type": "display_data"
    }
   ],
   "source": [
    "_temp = (\n",
    "    test\n",
    "    .group_by(\"idx_gold_in_corpus\")\n",
    "    .agg(pl.col(\"example_id\").count().alias(\"count\"))\n",
    "    .sort(\"count\", descending=True)\n",
    ")\n",
    "\n",
    "sns.histplot(_temp.select(\"count\"), bins=50, palette=[colors[\"test\"]])"
   ]
  },
  {
   "cell_type": "markdown",
   "metadata": {},
   "source": [
    "## Saving processed dataframes"
   ]
  },
  {
   "cell_type": "code",
   "execution_count": null,
   "metadata": {},
   "outputs": [],
   "source": [
    "PROCESSED_GOLD_PATH = \"../data/nq_open_gold/processed\"\n",
    "WIKI_PROCESSED_PATH = \"../data/wiki_dump2018_nq_open/processed\"\n",
    "test.write_ipc(f\"{PROCESSED_GOLD_PATH}/test.feather\")\n",
    "train.write_ipc(f\"{PROCESSED_GOLD_PATH}/train.feather\")\n",
    "dev.write_ipc(f\"{PROCESSED_GOLD_PATH}/dev.feather\")\n",
    "dump.write_ipc(f\"{WIKI_PROCESSED_PATH}/wiki.feather\")"
   ]
  },
  {
   "cell_type": "markdown",
   "metadata": {},
   "source": [
    "## "
   ]
  },
  {
   "cell_type": "markdown",
   "metadata": {},
   "source": []
  }
 ],
 "metadata": {
  "kernelspec": {
   "display_name": "nq",
   "language": "python",
   "name": "python3"
  },
  "language_info": {
   "codemirror_mode": {
    "name": "ipython",
    "version": 3
   },
   "file_extension": ".py",
   "mimetype": "text/x-python",
   "name": "python",
   "nbconvert_exporter": "python",
   "pygments_lexer": "ipython3",
   "version": "3.11.11"
  }
 },
 "nbformat": 4,
 "nbformat_minor": 2
}
